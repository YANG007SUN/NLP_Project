{
 "cells": [
  {
   "cell_type": "markdown",
   "id": "interpreted-capitol",
   "metadata": {
    "heading_collapsed": true
   },
   "source": [
    "## Pre-processing"
   ]
  },
  {
   "cell_type": "code",
   "execution_count": 1,
   "id": "criminal-cooling",
   "metadata": {
    "ExecuteTime": {
     "end_time": "2021-05-11T09:59:08.827565Z",
     "start_time": "2021-05-11T09:58:51.236101Z"
    },
    "hidden": true
   },
   "outputs": [
    {
     "data": {
      "text/html": [
       "<div>\n",
       "<style scoped>\n",
       "    .dataframe tbody tr th:only-of-type {\n",
       "        vertical-align: middle;\n",
       "    }\n",
       "\n",
       "    .dataframe tbody tr th {\n",
       "        vertical-align: top;\n",
       "    }\n",
       "\n",
       "    .dataframe thead th {\n",
       "        text-align: right;\n",
       "    }\n",
       "</style>\n",
       "<table border=\"1\" class=\"dataframe\">\n",
       "  <thead>\n",
       "    <tr style=\"text-align: right;\">\n",
       "      <th></th>\n",
       "      <th>product_id</th>\n",
       "      <th>brand</th>\n",
       "      <th>brand_category</th>\n",
       "      <th>name</th>\n",
       "      <th>details</th>\n",
       "      <th>created_at</th>\n",
       "      <th>brand_canonical_url</th>\n",
       "      <th>description</th>\n",
       "      <th>brand_description</th>\n",
       "      <th>brand_name</th>\n",
       "      <th>product_active</th>\n",
       "    </tr>\n",
       "  </thead>\n",
       "  <tbody>\n",
       "    <tr>\n",
       "      <th>0</th>\n",
       "      <td>01EX0PN4J9WRNZH5F93YEX6QAF</td>\n",
       "      <td>Two</td>\n",
       "      <td>Unknown</td>\n",
       "      <td>Khadi Stripe Shirt-our signature shirt</td>\n",
       "      <td>NaN</td>\n",
       "      <td>2021-01-27 01:17:19.305 UTC</td>\n",
       "      <td>https://two-nyc.myshopify.com/products/white-k...</td>\n",
       "      <td>Our signature khadi shirt\\navailable in black ...</td>\n",
       "      <td>Our signature khadi shirt\\n\\navailable in blac...</td>\n",
       "      <td>Khadi Stripe Shirt-our signature shirt</td>\n",
       "      <td>True</td>\n",
       "    </tr>\n",
       "    <tr>\n",
       "      <th>1</th>\n",
       "      <td>01F0C4SKZV6YXS3265JMC39NXW</td>\n",
       "      <td>Collina Strada</td>\n",
       "      <td>Unknown</td>\n",
       "      <td>RUFFLE MARKET DRESS LOOPY PINK SISTINE TOMATO</td>\n",
       "      <td>NaN</td>\n",
       "      <td>2021-03-09 18:43:10.457 UTC</td>\n",
       "      <td>https://collina-strada-2.myshopify.com/product...</td>\n",
       "      <td>Mid-length dress with ruffles and adjustable s...</td>\n",
       "      <td>Mid-length dress with ruffles and adjustable s...</td>\n",
       "      <td>RUFFLE MARKET DRESS LOOPY PINK SISTINE TOMATO</td>\n",
       "      <td>True</td>\n",
       "    </tr>\n",
       "    <tr>\n",
       "      <th>2</th>\n",
       "      <td>01EY4Y1BW8VZW51BWG5VZY82XW</td>\n",
       "      <td>Cariuma</td>\n",
       "      <td>Unknown</td>\n",
       "      <td>IBI Slip On Raw Red Knit Sneaker Women</td>\n",
       "      <td>NaN</td>\n",
       "      <td>2021-02-10 02:58:59.591 UTC</td>\n",
       "      <td>https://cariuma.myshopify.com/products/ibi-sli...</td>\n",
       "      <td>IBI Slip On Raw Red Knit Sneaker Women</td>\n",
       "      <td>IBI Slip On Raw Red Knit Sneaker Women</td>\n",
       "      <td>IBI Slip On Raw Red Knit Sneaker Women</td>\n",
       "      <td>False</td>\n",
       "    </tr>\n",
       "    <tr>\n",
       "      <th>3</th>\n",
       "      <td>01EY50E27A0P5V6KCW01XPDB43</td>\n",
       "      <td>Cariuma</td>\n",
       "      <td>Unknown</td>\n",
       "      <td>IBI Slip On Black Knit Sneaker Women</td>\n",
       "      <td>NaN</td>\n",
       "      <td>2021-02-10 03:40:52.842 UTC</td>\n",
       "      <td>https://cariuma.myshopify.com/products/ibi-sli...</td>\n",
       "      <td>IBI Slip On Black Knit Sneaker Women</td>\n",
       "      <td>IBI Slip On Black Knit Sneaker Women</td>\n",
       "      <td>IBI Slip On Black Knit Sneaker Women</td>\n",
       "      <td>False</td>\n",
       "    </tr>\n",
       "    <tr>\n",
       "      <th>4</th>\n",
       "      <td>01EY6DWHC2W5HPNEGXKEJ4A1CX</td>\n",
       "      <td>Cariuma</td>\n",
       "      <td>Unknown</td>\n",
       "      <td>CATIBA PRO Skate Black Suede and Canvas Contra...</td>\n",
       "      <td>NaN</td>\n",
       "      <td>2021-02-10 16:55:13.024 UTC</td>\n",
       "      <td>https://cariuma.myshopify.com/products/catiba-...</td>\n",
       "      <td>NaN</td>\n",
       "      <td>NaN</td>\n",
       "      <td>CATIBA PRO Skate Black Suede and Canvas Contra...</td>\n",
       "      <td>False</td>\n",
       "    </tr>\n",
       "  </tbody>\n",
       "</table>\n",
       "</div>"
      ],
      "text/plain": [
       "                   product_id           brand brand_category  \\\n",
       "0  01EX0PN4J9WRNZH5F93YEX6QAF             Two        Unknown   \n",
       "1  01F0C4SKZV6YXS3265JMC39NXW  Collina Strada        Unknown   \n",
       "2  01EY4Y1BW8VZW51BWG5VZY82XW         Cariuma        Unknown   \n",
       "3  01EY50E27A0P5V6KCW01XPDB43         Cariuma        Unknown   \n",
       "4  01EY6DWHC2W5HPNEGXKEJ4A1CX         Cariuma        Unknown   \n",
       "\n",
       "                                                name details  \\\n",
       "0             Khadi Stripe Shirt-our signature shirt     NaN   \n",
       "1      RUFFLE MARKET DRESS LOOPY PINK SISTINE TOMATO     NaN   \n",
       "2             IBI Slip On Raw Red Knit Sneaker Women     NaN   \n",
       "3               IBI Slip On Black Knit Sneaker Women     NaN   \n",
       "4  CATIBA PRO Skate Black Suede and Canvas Contra...     NaN   \n",
       "\n",
       "                    created_at  \\\n",
       "0  2021-01-27 01:17:19.305 UTC   \n",
       "1  2021-03-09 18:43:10.457 UTC   \n",
       "2  2021-02-10 02:58:59.591 UTC   \n",
       "3  2021-02-10 03:40:52.842 UTC   \n",
       "4  2021-02-10 16:55:13.024 UTC   \n",
       "\n",
       "                                 brand_canonical_url  \\\n",
       "0  https://two-nyc.myshopify.com/products/white-k...   \n",
       "1  https://collina-strada-2.myshopify.com/product...   \n",
       "2  https://cariuma.myshopify.com/products/ibi-sli...   \n",
       "3  https://cariuma.myshopify.com/products/ibi-sli...   \n",
       "4  https://cariuma.myshopify.com/products/catiba-...   \n",
       "\n",
       "                                         description  \\\n",
       "0  Our signature khadi shirt\\navailable in black ...   \n",
       "1  Mid-length dress with ruffles and adjustable s...   \n",
       "2             IBI Slip On Raw Red Knit Sneaker Women   \n",
       "3               IBI Slip On Black Knit Sneaker Women   \n",
       "4                                                NaN   \n",
       "\n",
       "                                   brand_description  \\\n",
       "0  Our signature khadi shirt\\n\\navailable in blac...   \n",
       "1  Mid-length dress with ruffles and adjustable s...   \n",
       "2             IBI Slip On Raw Red Knit Sneaker Women   \n",
       "3               IBI Slip On Black Knit Sneaker Women   \n",
       "4                                                NaN   \n",
       "\n",
       "                                          brand_name  product_active  \n",
       "0             Khadi Stripe Shirt-our signature shirt            True  \n",
       "1      RUFFLE MARKET DRESS LOOPY PINK SISTINE TOMATO            True  \n",
       "2             IBI Slip On Raw Red Knit Sneaker Women           False  \n",
       "3               IBI Slip On Black Knit Sneaker Women           False  \n",
       "4  CATIBA PRO Skate Black Suede and Canvas Contra...           False  "
      ]
     },
     "execution_count": 1,
     "metadata": {},
     "output_type": "execute_result"
    }
   ],
   "source": [
    "import pandas as pd\n",
    "data=pd.read_excel('Behold+product+data+04262021.xlsx')\n",
    "data.head()"
   ]
  },
  {
   "cell_type": "code",
   "execution_count": 2,
   "id": "every-lending",
   "metadata": {
    "ExecuteTime": {
     "end_time": "2021-05-11T09:59:37.527606Z",
     "start_time": "2021-05-11T09:59:30.411376Z"
    },
    "hidden": true
   },
   "outputs": [],
   "source": [
    "# classification target is brand name\n",
    "# mannually create holdout set\n",
    "# tokenize-stopwords removal-lemmatization/stemming\n",
    "import spacy\n",
    "nlp = spacy.load(\"en_core_web_md\")\n",
    "# en_core_web_md\n",
    "# en_core_web_lg"
   ]
  },
  {
   "cell_type": "code",
   "execution_count": 23,
   "id": "exterior-attempt",
   "metadata": {
    "ExecuteTime": {
     "end_time": "2021-05-06T13:27:10.791046Z",
     "start_time": "2021-05-06T13:27:10.787044Z"
    },
    "hidden": true
   },
   "outputs": [],
   "source": [
    "# how to deal with digits"
   ]
  },
  {
   "cell_type": "code",
   "execution_count": 5,
   "id": "objective-italy",
   "metadata": {
    "ExecuteTime": {
     "end_time": "2021-05-06T13:03:47.461862Z",
     "start_time": "2021-05-06T13:03:43.390570Z"
    },
    "hidden": true
   },
   "outputs": [],
   "source": [
    "from nltk.corpus import stopwords\n",
    "# customize stopwords\n",
    "stopdict=stopwords.words('english')"
   ]
  },
  {
   "cell_type": "code",
   "execution_count": 32,
   "id": "framed-motivation",
   "metadata": {
    "ExecuteTime": {
     "end_time": "2021-05-06T14:26:54.861346Z",
     "start_time": "2021-05-06T14:26:54.628465Z"
    },
    "hidden": true
   },
   "outputs": [
    {
     "data": {
      "text/html": [
       "<div>\n",
       "<style scoped>\n",
       "    .dataframe tbody tr th:only-of-type {\n",
       "        vertical-align: middle;\n",
       "    }\n",
       "\n",
       "    .dataframe tbody tr th {\n",
       "        vertical-align: top;\n",
       "    }\n",
       "\n",
       "    .dataframe thead th {\n",
       "        text-align: right;\n",
       "    }\n",
       "</style>\n",
       "<table border=\"1\" class=\"dataframe\">\n",
       "  <thead>\n",
       "    <tr style=\"text-align: right;\">\n",
       "      <th></th>\n",
       "      <th>product_id</th>\n",
       "      <th>brand</th>\n",
       "      <th>brand_category</th>\n",
       "      <th>name</th>\n",
       "      <th>details</th>\n",
       "      <th>created_at</th>\n",
       "      <th>brand_canonical_url</th>\n",
       "      <th>description</th>\n",
       "      <th>brand_description</th>\n",
       "      <th>brand_name</th>\n",
       "      <th>product_active</th>\n",
       "      <th>clean_des</th>\n",
       "    </tr>\n",
       "  </thead>\n",
       "  <tbody>\n",
       "    <tr>\n",
       "      <th>0</th>\n",
       "      <td>01EX0PN4J9WRNZH5F93YEX6QAF</td>\n",
       "      <td>Two</td>\n",
       "      <td>Unknown</td>\n",
       "      <td>Khadi Stripe Shirt-our signature shirt</td>\n",
       "      <td>NaN</td>\n",
       "      <td>2021-01-27 01:17:19.305 UTC</td>\n",
       "      <td>https://two-nyc.myshopify.com/products/white-k...</td>\n",
       "      <td>Our signature khadi shirt\\navailable in black ...</td>\n",
       "      <td>Our signature khadi shirt\\n\\navailable in blac...</td>\n",
       "      <td>Khadi Stripe Shirt-our signature shirt</td>\n",
       "      <td>True</td>\n",
       "      <td>signature khadi shirt available black white Ea...</td>\n",
       "    </tr>\n",
       "    <tr>\n",
       "      <th>1</th>\n",
       "      <td>01F0C4SKZV6YXS3265JMC39NXW</td>\n",
       "      <td>Collina Strada</td>\n",
       "      <td>Unknown</td>\n",
       "      <td>RUFFLE MARKET DRESS LOOPY PINK SISTINE TOMATO</td>\n",
       "      <td>NaN</td>\n",
       "      <td>2021-03-09 18:43:10.457 UTC</td>\n",
       "      <td>https://collina-strada-2.myshopify.com/product...</td>\n",
       "      <td>Mid-length dress with ruffles and adjustable s...</td>\n",
       "      <td>Mid-length dress with ruffles and adjustable s...</td>\n",
       "      <td>RUFFLE MARKET DRESS LOOPY PINK SISTINE TOMATO</td>\n",
       "      <td>True</td>\n",
       "      <td>mid length dress ruffle adjustable strap Bias ...</td>\n",
       "    </tr>\n",
       "    <tr>\n",
       "      <th>2</th>\n",
       "      <td>01EY4Y1BW8VZW51BWG5VZY82XW</td>\n",
       "      <td>Cariuma</td>\n",
       "      <td>Unknown</td>\n",
       "      <td>IBI Slip On Raw Red Knit Sneaker Women</td>\n",
       "      <td>NaN</td>\n",
       "      <td>2021-02-10 02:58:59.591 UTC</td>\n",
       "      <td>https://cariuma.myshopify.com/products/ibi-sli...</td>\n",
       "      <td>IBI Slip On Raw Red Knit Sneaker Women</td>\n",
       "      <td>IBI Slip On Raw Red Knit Sneaker Women</td>\n",
       "      <td>IBI Slip On Raw Red Knit Sneaker Women</td>\n",
       "      <td>False</td>\n",
       "      <td>IBI Slip raw Red Knit Sneaker woman</td>\n",
       "    </tr>\n",
       "    <tr>\n",
       "      <th>3</th>\n",
       "      <td>01EY50E27A0P5V6KCW01XPDB43</td>\n",
       "      <td>Cariuma</td>\n",
       "      <td>Unknown</td>\n",
       "      <td>IBI Slip On Black Knit Sneaker Women</td>\n",
       "      <td>NaN</td>\n",
       "      <td>2021-02-10 03:40:52.842 UTC</td>\n",
       "      <td>https://cariuma.myshopify.com/products/ibi-sli...</td>\n",
       "      <td>IBI Slip On Black Knit Sneaker Women</td>\n",
       "      <td>IBI Slip On Black Knit Sneaker Women</td>\n",
       "      <td>IBI Slip On Black Knit Sneaker Women</td>\n",
       "      <td>False</td>\n",
       "      <td>NaN</td>\n",
       "    </tr>\n",
       "    <tr>\n",
       "      <th>4</th>\n",
       "      <td>01EY6DWHC2W5HPNEGXKEJ4A1CX</td>\n",
       "      <td>Cariuma</td>\n",
       "      <td>Unknown</td>\n",
       "      <td>CATIBA PRO Skate Black Suede and Canvas Contra...</td>\n",
       "      <td>NaN</td>\n",
       "      <td>2021-02-10 16:55:13.024 UTC</td>\n",
       "      <td>https://cariuma.myshopify.com/products/catiba-...</td>\n",
       "      <td>NaN</td>\n",
       "      <td>NaN</td>\n",
       "      <td>CATIBA PRO Skate Black Suede and Canvas Contra...</td>\n",
       "      <td>False</td>\n",
       "      <td>NaN</td>\n",
       "    </tr>\n",
       "  </tbody>\n",
       "</table>\n",
       "</div>"
      ],
      "text/plain": [
       "                   product_id           brand brand_category  \\\n",
       "0  01EX0PN4J9WRNZH5F93YEX6QAF             Two        Unknown   \n",
       "1  01F0C4SKZV6YXS3265JMC39NXW  Collina Strada        Unknown   \n",
       "2  01EY4Y1BW8VZW51BWG5VZY82XW         Cariuma        Unknown   \n",
       "3  01EY50E27A0P5V6KCW01XPDB43         Cariuma        Unknown   \n",
       "4  01EY6DWHC2W5HPNEGXKEJ4A1CX         Cariuma        Unknown   \n",
       "\n",
       "                                                name details  \\\n",
       "0             Khadi Stripe Shirt-our signature shirt     NaN   \n",
       "1      RUFFLE MARKET DRESS LOOPY PINK SISTINE TOMATO     NaN   \n",
       "2             IBI Slip On Raw Red Knit Sneaker Women     NaN   \n",
       "3               IBI Slip On Black Knit Sneaker Women     NaN   \n",
       "4  CATIBA PRO Skate Black Suede and Canvas Contra...     NaN   \n",
       "\n",
       "                    created_at  \\\n",
       "0  2021-01-27 01:17:19.305 UTC   \n",
       "1  2021-03-09 18:43:10.457 UTC   \n",
       "2  2021-02-10 02:58:59.591 UTC   \n",
       "3  2021-02-10 03:40:52.842 UTC   \n",
       "4  2021-02-10 16:55:13.024 UTC   \n",
       "\n",
       "                                 brand_canonical_url  \\\n",
       "0  https://two-nyc.myshopify.com/products/white-k...   \n",
       "1  https://collina-strada-2.myshopify.com/product...   \n",
       "2  https://cariuma.myshopify.com/products/ibi-sli...   \n",
       "3  https://cariuma.myshopify.com/products/ibi-sli...   \n",
       "4  https://cariuma.myshopify.com/products/catiba-...   \n",
       "\n",
       "                                         description  \\\n",
       "0  Our signature khadi shirt\\navailable in black ...   \n",
       "1  Mid-length dress with ruffles and adjustable s...   \n",
       "2             IBI Slip On Raw Red Knit Sneaker Women   \n",
       "3               IBI Slip On Black Knit Sneaker Women   \n",
       "4                                                NaN   \n",
       "\n",
       "                                   brand_description  \\\n",
       "0  Our signature khadi shirt\\n\\navailable in blac...   \n",
       "1  Mid-length dress with ruffles and adjustable s...   \n",
       "2             IBI Slip On Raw Red Knit Sneaker Women   \n",
       "3               IBI Slip On Black Knit Sneaker Women   \n",
       "4                                                NaN   \n",
       "\n",
       "                                          brand_name  product_active  \\\n",
       "0             Khadi Stripe Shirt-our signature shirt            True   \n",
       "1      RUFFLE MARKET DRESS LOOPY PINK SISTINE TOMATO            True   \n",
       "2             IBI Slip On Raw Red Knit Sneaker Women           False   \n",
       "3               IBI Slip On Black Knit Sneaker Women           False   \n",
       "4  CATIBA PRO Skate Black Suede and Canvas Contra...           False   \n",
       "\n",
       "                                           clean_des  \n",
       "0  signature khadi shirt available black white Ea...  \n",
       "1  mid length dress ruffle adjustable strap Bias ...  \n",
       "2                IBI Slip raw Red Knit Sneaker woman  \n",
       "3                                                NaN  \n",
       "4                                                NaN  "
      ]
     },
     "execution_count": 32,
     "metadata": {},
     "output_type": "execute_result"
    }
   ],
   "source": [
    "for i in range(len(data)):\n",
    "    doc=nlp(data.loc[i,'description'])\n",
    "    # get rid of punc and space\n",
    "    \n",
    "    # word1=[token.orth_ for token in doc if not token.is_punct | token.is_space] \n",
    "    word1=[token for token in doc if not token.is_punct | token.is_space] \n",
    "    \n",
    "    # get rid of stopwords\n",
    "    word2=[token for token in word1 if not token.is_stop]\n",
    "    \n",
    "    # lemmatization\n",
    "    word3=[token.lemma_ for token in word2] \n",
    "    \n",
    "    # save as a new col\n",
    "    data.loc[i,'clean_des'] = \" \".join(word3)\n",
    "data.head()"
   ]
  },
  {
   "cell_type": "code",
   "execution_count": 40,
   "id": "radio-calculation",
   "metadata": {
    "ExecuteTime": {
     "end_time": "2021-05-07T01:31:43.676033Z",
     "start_time": "2021-05-07T01:31:43.329972Z"
    },
    "hidden": true
   },
   "outputs": [],
   "source": [
    "doc=nlp(data.loc[0,'description'])\n",
    "# tag part of speech \n",
    "word1=[token.pos_ for token in doc if not token.is_punct | token.is_space] "
   ]
  },
  {
   "cell_type": "code",
   "execution_count": 4,
   "id": "musical-southwest",
   "metadata": {
    "ExecuteTime": {
     "end_time": "2021-05-10T01:54:16.940728Z",
     "start_time": "2021-05-10T01:54:15.435979Z"
    },
    "hidden": true
   },
   "outputs": [
    {
     "name": "stdout",
     "output_type": "stream",
     "text": [
      "I like salty fries and hamburgers. <-> Fast food tastes very good. 0.7799485853415737\n"
     ]
    }
   ],
   "source": [
    "# word2vec similarity\n",
    "nlp = spacy.load(\"en_core_web_md\")  # make sure to use larger package!\n",
    "doc1 = nlp(\"I like salty fries and hamburgers.\")\n",
    "doc2 = nlp(\"Fast food tastes very good.\")\n",
    "\n",
    "# Similarity of two documents\n",
    "print(doc1, \"<->\", doc2, doc1.similarity(doc2))"
   ]
  },
  {
   "cell_type": "markdown",
   "id": "velvet-invasion",
   "metadata": {},
   "source": [
    "## Similarity with spaCy"
   ]
  },
  {
   "cell_type": "code",
   "execution_count": 5,
   "id": "herbal-hospital",
   "metadata": {
    "ExecuteTime": {
     "end_time": "2021-05-11T09:59:47.561250Z",
     "start_time": "2021-05-11T09:59:47.448214Z"
    }
   },
   "outputs": [
    {
     "data": {
      "text/html": [
       "<div>\n",
       "<style scoped>\n",
       "    .dataframe tbody tr th:only-of-type {\n",
       "        vertical-align: middle;\n",
       "    }\n",
       "\n",
       "    .dataframe tbody tr th {\n",
       "        vertical-align: top;\n",
       "    }\n",
       "\n",
       "    .dataframe thead th {\n",
       "        text-align: right;\n",
       "    }\n",
       "</style>\n",
       "<table border=\"1\" class=\"dataframe\">\n",
       "  <thead>\n",
       "    <tr style=\"text-align: right;\">\n",
       "      <th></th>\n",
       "      <th>product_id</th>\n",
       "      <th>brand</th>\n",
       "      <th>brand_category</th>\n",
       "      <th>name</th>\n",
       "      <th>details</th>\n",
       "      <th>created_at</th>\n",
       "      <th>brand_canonical_url</th>\n",
       "      <th>description</th>\n",
       "      <th>brand_description</th>\n",
       "      <th>brand_name</th>\n",
       "      <th>product_active</th>\n",
       "      <th>details_des</th>\n",
       "    </tr>\n",
       "  </thead>\n",
       "  <tbody>\n",
       "    <tr>\n",
       "      <th>0</th>\n",
       "      <td>01EX0PN4J9WRNZH5F93YEX6QAF</td>\n",
       "      <td>Two</td>\n",
       "      <td>Unknown</td>\n",
       "      <td>Khadi Stripe Shirt-our signature shirt</td>\n",
       "      <td>Unknown</td>\n",
       "      <td>2021-01-27 01:17:19.305 UTC</td>\n",
       "      <td>https://two-nyc.myshopify.com/products/white-k...</td>\n",
       "      <td>Our signature khadi shirt\\navailable in black ...</td>\n",
       "      <td>Our signature khadi shirt\\n\\navailable in blac...</td>\n",
       "      <td>Khadi Stripe Shirt-our signature shirt</td>\n",
       "      <td>True</td>\n",
       "      <td>Unknown Our signature khadi shirt\\navailable i...</td>\n",
       "    </tr>\n",
       "    <tr>\n",
       "      <th>1</th>\n",
       "      <td>01F0C4SKZV6YXS3265JMC39NXW</td>\n",
       "      <td>Collina Strada</td>\n",
       "      <td>Unknown</td>\n",
       "      <td>RUFFLE MARKET DRESS LOOPY PINK SISTINE TOMATO</td>\n",
       "      <td>Unknown</td>\n",
       "      <td>2021-03-09 18:43:10.457 UTC</td>\n",
       "      <td>https://collina-strada-2.myshopify.com/product...</td>\n",
       "      <td>Mid-length dress with ruffles and adjustable s...</td>\n",
       "      <td>Mid-length dress with ruffles and adjustable s...</td>\n",
       "      <td>RUFFLE MARKET DRESS LOOPY PINK SISTINE TOMATO</td>\n",
       "      <td>True</td>\n",
       "      <td>Unknown Mid-length dress with ruffles and adju...</td>\n",
       "    </tr>\n",
       "    <tr>\n",
       "      <th>2</th>\n",
       "      <td>01EY4Y1BW8VZW51BWG5VZY82XW</td>\n",
       "      <td>Cariuma</td>\n",
       "      <td>Unknown</td>\n",
       "      <td>IBI Slip On Raw Red Knit Sneaker Women</td>\n",
       "      <td>Unknown</td>\n",
       "      <td>2021-02-10 02:58:59.591 UTC</td>\n",
       "      <td>https://cariuma.myshopify.com/products/ibi-sli...</td>\n",
       "      <td>IBI Slip On Raw Red Knit Sneaker Women</td>\n",
       "      <td>IBI Slip On Raw Red Knit Sneaker Women</td>\n",
       "      <td>IBI Slip On Raw Red Knit Sneaker Women</td>\n",
       "      <td>False</td>\n",
       "      <td>Unknown IBI Slip On Raw Red Knit Sneaker Women</td>\n",
       "    </tr>\n",
       "    <tr>\n",
       "      <th>3</th>\n",
       "      <td>01EY50E27A0P5V6KCW01XPDB43</td>\n",
       "      <td>Cariuma</td>\n",
       "      <td>Unknown</td>\n",
       "      <td>IBI Slip On Black Knit Sneaker Women</td>\n",
       "      <td>Unknown</td>\n",
       "      <td>2021-02-10 03:40:52.842 UTC</td>\n",
       "      <td>https://cariuma.myshopify.com/products/ibi-sli...</td>\n",
       "      <td>IBI Slip On Black Knit Sneaker Women</td>\n",
       "      <td>IBI Slip On Black Knit Sneaker Women</td>\n",
       "      <td>IBI Slip On Black Knit Sneaker Women</td>\n",
       "      <td>False</td>\n",
       "      <td>Unknown IBI Slip On Black Knit Sneaker Women</td>\n",
       "    </tr>\n",
       "    <tr>\n",
       "      <th>4</th>\n",
       "      <td>01EY6DWHC2W5HPNEGXKEJ4A1CX</td>\n",
       "      <td>Cariuma</td>\n",
       "      <td>Unknown</td>\n",
       "      <td>CATIBA PRO Skate Black Suede and Canvas Contra...</td>\n",
       "      <td>Unknown</td>\n",
       "      <td>2021-02-10 16:55:13.024 UTC</td>\n",
       "      <td>https://cariuma.myshopify.com/products/catiba-...</td>\n",
       "      <td>Unknown</td>\n",
       "      <td>NaN</td>\n",
       "      <td>CATIBA PRO Skate Black Suede and Canvas Contra...</td>\n",
       "      <td>False</td>\n",
       "      <td>Unknown Unknown</td>\n",
       "    </tr>\n",
       "  </tbody>\n",
       "</table>\n",
       "</div>"
      ],
      "text/plain": [
       "                   product_id           brand brand_category  \\\n",
       "0  01EX0PN4J9WRNZH5F93YEX6QAF             Two        Unknown   \n",
       "1  01F0C4SKZV6YXS3265JMC39NXW  Collina Strada        Unknown   \n",
       "2  01EY4Y1BW8VZW51BWG5VZY82XW         Cariuma        Unknown   \n",
       "3  01EY50E27A0P5V6KCW01XPDB43         Cariuma        Unknown   \n",
       "4  01EY6DWHC2W5HPNEGXKEJ4A1CX         Cariuma        Unknown   \n",
       "\n",
       "                                                name  details  \\\n",
       "0             Khadi Stripe Shirt-our signature shirt  Unknown   \n",
       "1      RUFFLE MARKET DRESS LOOPY PINK SISTINE TOMATO  Unknown   \n",
       "2             IBI Slip On Raw Red Knit Sneaker Women  Unknown   \n",
       "3               IBI Slip On Black Knit Sneaker Women  Unknown   \n",
       "4  CATIBA PRO Skate Black Suede and Canvas Contra...  Unknown   \n",
       "\n",
       "                    created_at  \\\n",
       "0  2021-01-27 01:17:19.305 UTC   \n",
       "1  2021-03-09 18:43:10.457 UTC   \n",
       "2  2021-02-10 02:58:59.591 UTC   \n",
       "3  2021-02-10 03:40:52.842 UTC   \n",
       "4  2021-02-10 16:55:13.024 UTC   \n",
       "\n",
       "                                 brand_canonical_url  \\\n",
       "0  https://two-nyc.myshopify.com/products/white-k...   \n",
       "1  https://collina-strada-2.myshopify.com/product...   \n",
       "2  https://cariuma.myshopify.com/products/ibi-sli...   \n",
       "3  https://cariuma.myshopify.com/products/ibi-sli...   \n",
       "4  https://cariuma.myshopify.com/products/catiba-...   \n",
       "\n",
       "                                         description  \\\n",
       "0  Our signature khadi shirt\\navailable in black ...   \n",
       "1  Mid-length dress with ruffles and adjustable s...   \n",
       "2             IBI Slip On Raw Red Knit Sneaker Women   \n",
       "3               IBI Slip On Black Knit Sneaker Women   \n",
       "4                                            Unknown   \n",
       "\n",
       "                                   brand_description  \\\n",
       "0  Our signature khadi shirt\\n\\navailable in blac...   \n",
       "1  Mid-length dress with ruffles and adjustable s...   \n",
       "2             IBI Slip On Raw Red Knit Sneaker Women   \n",
       "3               IBI Slip On Black Knit Sneaker Women   \n",
       "4                                                NaN   \n",
       "\n",
       "                                          brand_name  product_active  \\\n",
       "0             Khadi Stripe Shirt-our signature shirt            True   \n",
       "1      RUFFLE MARKET DRESS LOOPY PINK SISTINE TOMATO            True   \n",
       "2             IBI Slip On Raw Red Knit Sneaker Women           False   \n",
       "3               IBI Slip On Black Knit Sneaker Women           False   \n",
       "4  CATIBA PRO Skate Black Suede and Canvas Contra...           False   \n",
       "\n",
       "                                         details_des  \n",
       "0  Unknown Our signature khadi shirt\\navailable i...  \n",
       "1  Unknown Mid-length dress with ruffles and adju...  \n",
       "2     Unknown IBI Slip On Raw Red Knit Sneaker Women  \n",
       "3       Unknown IBI Slip On Black Knit Sneaker Women  \n",
       "4                                    Unknown Unknown  "
      ]
     },
     "execution_count": 5,
     "metadata": {},
     "output_type": "execute_result"
    }
   ],
   "source": [
    "# fill details and description missing value with Unkown\n",
    "data['details'] = data['details'].fillna('Unknown')\n",
    "data['description'] = data['description'].fillna('Unknown')\n",
    "\n",
    "# concat details and description column.\n",
    "data['details_des'] = data['details'].astype(str) + ' '+ data['description'].astype(str)\n",
    "data.head()"
   ]
  },
  {
   "cell_type": "code",
   "execution_count": 17,
   "id": "plain-granny",
   "metadata": {
    "ExecuteTime": {
     "end_time": "2021-05-11T12:07:42.241855Z",
     "start_time": "2021-05-11T12:07:42.234490Z"
    }
   },
   "outputs": [],
   "source": [
    "# find the product by looking for the largest similarity\n",
    "# not preferred due to low search speed, 15-20min to get the result\n",
    "def search(query:str):\n",
    "    for i in range(len(data)): #len(data)\n",
    "        doc1=nlp(query)\n",
    "        doc2=nlp(data.loc[i,'details_des'])\n",
    "        data.loc[i,'similarity']=doc1.similarity(doc2)\n",
    "        idx=data['similarity'].idxmax()\n",
    "    return (data.loc[idx,'name'],data.loc[idx,'product_id'],data.loc[idx,'details_des'])"
   ]
  },
  {
   "cell_type": "code",
   "execution_count": 18,
   "id": "posted-restoration",
   "metadata": {
    "ExecuteTime": {
     "end_time": "2021-05-11T12:28:41.570882Z",
     "start_time": "2021-05-11T12:07:43.913213Z"
    }
   },
   "outputs": [
    {
     "data": {
      "text/plain": [
       "('Striped Shorty', '01EP6496ESX9JSTX4BGQ2MZQ15')"
      ]
     },
     "execution_count": 18,
     "metadata": {},
     "output_type": "execute_result"
    }
   ],
   "source": [
    "# example query\n",
    "search('slimming fit, straight leg pants')"
   ]
  },
  {
   "cell_type": "code",
   "execution_count": 50,
   "id": "derived-address",
   "metadata": {
    "ExecuteTime": {
     "end_time": "2021-05-11T14:25:03.328038Z",
     "start_time": "2021-05-11T14:25:03.316173Z"
    }
   },
   "outputs": [],
   "source": [
    "# find the product by looking for the largest similarity\n",
    "# the match the corresponding outfit\n",
    "def search(query:str):\n",
    "    for i in range(len(data)): #len(data)\n",
    "        doc1=nlp(query)\n",
    "        doc2=nlp(data.loc[i,'details_des'])\n",
    "        data.loc[i,'similarity']=doc1.similarity(doc2)\n",
    "    idx=data['similarity'].idxmax()\n",
    "    pid=data.loc[idx,'product_id']\n",
    "\n",
    "    # read the outfit dataset\n",
    "    outfit=pd.read_csv('outfit_combinations USC.csv')\n",
    "    outfit.head()\n",
    "    \n",
    "    for j in range(len(outfit)):\n",
    "        if pid == outfit.loc[j,'product_id']:\n",
    "            outidx = outfit.loc[j,'outfit_id']\n",
    "            return outfit[outfit['outfit_id']==outidx]\n",
    "    else:\n",
    "        return (data.loc[idx,'name'],data.loc[idx,'product_id'],data.loc[idx,'details_des'])"
   ]
  },
  {
   "cell_type": "code",
   "execution_count": 51,
   "id": "obvious-resistance",
   "metadata": {
    "ExecuteTime": {
     "end_time": "2021-05-11T14:43:41.625905Z",
     "start_time": "2021-05-11T14:25:04.788726Z"
    }
   },
   "outputs": [
    {
     "data": {
      "text/plain": [
       "('Striped Shorty',\n",
       " '01EP6496ESX9JSTX4BGQ2MZQ15',\n",
       " \"Unknown Men's inspired jean. Baggy fit, long rise, button fly, loose thigh, tapered leg,\\ncropped ankle.\")"
      ]
     },
     "execution_count": 51,
     "metadata": {},
     "output_type": "execute_result"
    }
   ],
   "source": [
    "# example query\n",
    "search('slimming fit, straight leg pants')"
   ]
  },
  {
   "cell_type": "markdown",
   "id": "about-wages",
   "metadata": {
    "heading_collapsed": true
   },
   "source": [
    "## Weighted TF-IDF"
   ]
  },
  {
   "cell_type": "code",
   "execution_count": 20,
   "id": "pursuant-emergency",
   "metadata": {
    "ExecuteTime": {
     "end_time": "2021-05-11T12:29:54.731394Z",
     "start_time": "2021-05-11T12:29:52.592082Z"
    },
    "hidden": true
   },
   "outputs": [],
   "source": [
    "import pandas as pd\n",
    "import re\n",
    "from nltk.corpus import stopwords\n",
    "from nltk.tokenize import word_tokenize\n",
    "from nltk.stem import WordNetLemmatizer\n",
    "import nltk\n",
    "from nltk.corpus import wordnet\n",
    "import spacy\n",
    "from numpy import dot\n",
    "from numpy.linalg import norm\n",
    "from sklearn.feature_extraction.text import TfidfVectorizer\n",
    "from sklearn.metrics.pairwise import cosine_similarity"
   ]
  },
  {
   "cell_type": "code",
   "execution_count": 2,
   "id": "historical-above",
   "metadata": {
    "ExecuteTime": {
     "end_time": "2021-05-10T13:06:22.904707Z",
     "start_time": "2021-05-10T13:06:22.868022Z"
    },
    "hidden": true
   },
   "outputs": [
    {
     "data": {
      "text/html": [
       "<div>\n",
       "<style scoped>\n",
       "    .dataframe tbody tr th:only-of-type {\n",
       "        vertical-align: middle;\n",
       "    }\n",
       "\n",
       "    .dataframe tbody tr th {\n",
       "        vertical-align: top;\n",
       "    }\n",
       "\n",
       "    .dataframe thead th {\n",
       "        text-align: right;\n",
       "    }\n",
       "</style>\n",
       "<table border=\"1\" class=\"dataframe\">\n",
       "  <thead>\n",
       "    <tr style=\"text-align: right;\">\n",
       "      <th></th>\n",
       "      <th>product_id</th>\n",
       "      <th>brand</th>\n",
       "      <th>brand_category</th>\n",
       "      <th>name</th>\n",
       "      <th>details</th>\n",
       "      <th>created_at</th>\n",
       "      <th>brand_canonical_url</th>\n",
       "      <th>description</th>\n",
       "      <th>brand_description</th>\n",
       "      <th>brand_name</th>\n",
       "      <th>product_active</th>\n",
       "    </tr>\n",
       "  </thead>\n",
       "  <tbody>\n",
       "    <tr>\n",
       "      <th>0</th>\n",
       "      <td>01EX0PN4J9WRNZH5F93YEX6QAF</td>\n",
       "      <td>Two</td>\n",
       "      <td>Unknown</td>\n",
       "      <td>Khadi Stripe Shirt-our signature shirt</td>\n",
       "      <td>Unknown</td>\n",
       "      <td>2021-01-27 01:17:19.305 UTC</td>\n",
       "      <td>https://two-nyc.myshopify.com/products/white-k...</td>\n",
       "      <td>Our signature khadi shirt\\navailable in black ...</td>\n",
       "      <td>Our signature khadi shirt\\n\\navailable in blac...</td>\n",
       "      <td>Khadi Stripe Shirt-our signature shirt</td>\n",
       "      <td>True</td>\n",
       "    </tr>\n",
       "    <tr>\n",
       "      <th>1</th>\n",
       "      <td>01F0C4SKZV6YXS3265JMC39NXW</td>\n",
       "      <td>Collina Strada</td>\n",
       "      <td>Unknown</td>\n",
       "      <td>RUFFLE MARKET DRESS LOOPY PINK SISTINE TOMATO</td>\n",
       "      <td>Unknown</td>\n",
       "      <td>2021-03-09 18:43:10.457 UTC</td>\n",
       "      <td>https://collina-strada-2.myshopify.com/product...</td>\n",
       "      <td>Mid-length dress with ruffles and adjustable s...</td>\n",
       "      <td>Mid-length dress with ruffles and adjustable s...</td>\n",
       "      <td>RUFFLE MARKET DRESS LOOPY PINK SISTINE TOMATO</td>\n",
       "      <td>True</td>\n",
       "    </tr>\n",
       "    <tr>\n",
       "      <th>2</th>\n",
       "      <td>01EY4Y1BW8VZW51BWG5VZY82XW</td>\n",
       "      <td>Cariuma</td>\n",
       "      <td>Unknown</td>\n",
       "      <td>IBI Slip On Raw Red Knit Sneaker Women</td>\n",
       "      <td>Unknown</td>\n",
       "      <td>2021-02-10 02:58:59.591 UTC</td>\n",
       "      <td>https://cariuma.myshopify.com/products/ibi-sli...</td>\n",
       "      <td>IBI Slip On Raw Red Knit Sneaker Women</td>\n",
       "      <td>IBI Slip On Raw Red Knit Sneaker Women</td>\n",
       "      <td>IBI Slip On Raw Red Knit Sneaker Women</td>\n",
       "      <td>False</td>\n",
       "    </tr>\n",
       "    <tr>\n",
       "      <th>3</th>\n",
       "      <td>01EY50E27A0P5V6KCW01XPDB43</td>\n",
       "      <td>Cariuma</td>\n",
       "      <td>Unknown</td>\n",
       "      <td>IBI Slip On Black Knit Sneaker Women</td>\n",
       "      <td>Unknown</td>\n",
       "      <td>2021-02-10 03:40:52.842 UTC</td>\n",
       "      <td>https://cariuma.myshopify.com/products/ibi-sli...</td>\n",
       "      <td>IBI Slip On Black Knit Sneaker Women</td>\n",
       "      <td>IBI Slip On Black Knit Sneaker Women</td>\n",
       "      <td>IBI Slip On Black Knit Sneaker Women</td>\n",
       "      <td>False</td>\n",
       "    </tr>\n",
       "    <tr>\n",
       "      <th>4</th>\n",
       "      <td>01EY6DWHC2W5HPNEGXKEJ4A1CX</td>\n",
       "      <td>Cariuma</td>\n",
       "      <td>Unknown</td>\n",
       "      <td>CATIBA PRO Skate Black Suede and Canvas Contra...</td>\n",
       "      <td>Unknown</td>\n",
       "      <td>2021-02-10 16:55:13.024 UTC</td>\n",
       "      <td>https://cariuma.myshopify.com/products/catiba-...</td>\n",
       "      <td>Unknown</td>\n",
       "      <td>NaN</td>\n",
       "      <td>CATIBA PRO Skate Black Suede and Canvas Contra...</td>\n",
       "      <td>False</td>\n",
       "    </tr>\n",
       "  </tbody>\n",
       "</table>\n",
       "</div>"
      ],
      "text/plain": [
       "                   product_id           brand brand_category  \\\n",
       "0  01EX0PN4J9WRNZH5F93YEX6QAF             Two        Unknown   \n",
       "1  01F0C4SKZV6YXS3265JMC39NXW  Collina Strada        Unknown   \n",
       "2  01EY4Y1BW8VZW51BWG5VZY82XW         Cariuma        Unknown   \n",
       "3  01EY50E27A0P5V6KCW01XPDB43         Cariuma        Unknown   \n",
       "4  01EY6DWHC2W5HPNEGXKEJ4A1CX         Cariuma        Unknown   \n",
       "\n",
       "                                                name  details  \\\n",
       "0             Khadi Stripe Shirt-our signature shirt  Unknown   \n",
       "1      RUFFLE MARKET DRESS LOOPY PINK SISTINE TOMATO  Unknown   \n",
       "2             IBI Slip On Raw Red Knit Sneaker Women  Unknown   \n",
       "3               IBI Slip On Black Knit Sneaker Women  Unknown   \n",
       "4  CATIBA PRO Skate Black Suede and Canvas Contra...  Unknown   \n",
       "\n",
       "                    created_at  \\\n",
       "0  2021-01-27 01:17:19.305 UTC   \n",
       "1  2021-03-09 18:43:10.457 UTC   \n",
       "2  2021-02-10 02:58:59.591 UTC   \n",
       "3  2021-02-10 03:40:52.842 UTC   \n",
       "4  2021-02-10 16:55:13.024 UTC   \n",
       "\n",
       "                                 brand_canonical_url  \\\n",
       "0  https://two-nyc.myshopify.com/products/white-k...   \n",
       "1  https://collina-strada-2.myshopify.com/product...   \n",
       "2  https://cariuma.myshopify.com/products/ibi-sli...   \n",
       "3  https://cariuma.myshopify.com/products/ibi-sli...   \n",
       "4  https://cariuma.myshopify.com/products/catiba-...   \n",
       "\n",
       "                                         description  \\\n",
       "0  Our signature khadi shirt\\navailable in black ...   \n",
       "1  Mid-length dress with ruffles and adjustable s...   \n",
       "2             IBI Slip On Raw Red Knit Sneaker Women   \n",
       "3               IBI Slip On Black Knit Sneaker Women   \n",
       "4                                            Unknown   \n",
       "\n",
       "                                   brand_description  \\\n",
       "0  Our signature khadi shirt\\n\\navailable in blac...   \n",
       "1  Mid-length dress with ruffles and adjustable s...   \n",
       "2             IBI Slip On Raw Red Knit Sneaker Women   \n",
       "3               IBI Slip On Black Knit Sneaker Women   \n",
       "4                                                NaN   \n",
       "\n",
       "                                          brand_name  product_active  \n",
       "0             Khadi Stripe Shirt-our signature shirt            True  \n",
       "1      RUFFLE MARKET DRESS LOOPY PINK SISTINE TOMATO            True  \n",
       "2             IBI Slip On Raw Red Knit Sneaker Women           False  \n",
       "3               IBI Slip On Black Knit Sneaker Women           False  \n",
       "4  CATIBA PRO Skate Black Suede and Canvas Contra...           False  "
      ]
     },
     "execution_count": 2,
     "metadata": {},
     "output_type": "execute_result"
    }
   ],
   "source": [
    "# fill details and description missing value with Unkown\n",
    "data['details'] = data['details'].fillna('Unknown')\n",
    "data['description'] = data['description'].fillna('Unknown')\n",
    "\n",
    "# concat details and description column.\n",
    "data['details_des'] = data['details'].astype(str) + ' '+ data['description'].astype(str)\n",
    "data.head()"
   ]
  },
  {
   "cell_type": "code",
   "execution_count": 21,
   "id": "measured-burton",
   "metadata": {
    "ExecuteTime": {
     "end_time": "2021-05-11T12:38:24.783120Z",
     "start_time": "2021-05-11T12:38:24.776319Z"
    },
    "hidden": true
   },
   "outputs": [],
   "source": [
    "def find_cat(df, col, idx_lst):\n",
    "    for i in idx_lst:\n",
    "        string = df.loc[i,col]\n",
    "        if regex_bottom.search(string):\n",
    "            df.loc[i,'product_category'] = 'bottom'\n",
    "        elif regex_shoe.search(string):\n",
    "            df.loc[i,'product_category'] = 'shoes'\n",
    "        elif regex_accessory.search(string):\n",
    "            df.loc[i,'product_category'] = 'accessory'\n",
    "        elif regex_top.search(string):\n",
    "            df.loc[i,'product_category'] = 'top'\n",
    "        else:\n",
    "            df.loc[i,'product_category'] = 'other'\n",
    "    return df"
   ]
  },
  {
   "cell_type": "code",
   "execution_count": 25,
   "id": "sublime-sister",
   "metadata": {
    "ExecuteTime": {
     "end_time": "2021-05-11T12:43:22.001970Z",
     "start_time": "2021-05-11T12:41:45.235307Z"
    },
    "hidden": true
   },
   "outputs": [],
   "source": [
    "# Assign each product with a product category using regex\n",
    "data.fillna(value='Unknown',inplace=True)\n",
    "regex = re.compile(r'[^\\w\\s\\d]')\n",
    "data['brand_cat'] = data['brand_category'].apply(lambda x: regex.sub(' ', x))\n",
    "\n",
    "bottoms = r'(?i)\\b(pants?|jeans?|skirts?|shorts?|bottoms?|trousers?|legs|leggings)\\b'\n",
    "shoes = r'(?i)\\b(shoes?|heels?|sandals?|wedges?|boots?|booties?|uggs?|flats?|skates|flip-flops?|brogues?|skates?|jackboots?|sneakers?|slippers?)\\b'\n",
    "accessory = r'(?i)\\b(case|scarf|scarves|handbags?|purse|clutch|bags?|muffs?|wristlets?|baguettes?|totes?|backpacks?|hats?|masks?|jewelry|earrings?|necklaces?|rings?|watch|bracelets?)\\b'\n",
    "top = r'(?i)\\b(shirts?|coats?|jackets?|sweaters?|tops?|collars?|sweatshirts?|sleeves?|tshirts?|tanks?)\\b'\n",
    "\n",
    "regex_bottom = re.compile(bottoms)\n",
    "regex_shoe = re.compile(shoes)\n",
    "regex_accessory = re.compile(accessory)\n",
    "regex_top = re.compile(top)\n",
    "\n",
    "# first assign category based on the brand_category feature\n",
    "all_idx = list(data.index)\n",
    "df_withcat = find_cat(data, 'brand_cat', all_idx)\n",
    "# if brand_category features did not contain useful information, assign category using details and description\n",
    "other_idx = list(df_withcat[df_withcat['product_category']=='other'].index)\n",
    "df_withcat = find_cat(df_withcat, 'details_des', other_idx)"
   ]
  },
  {
   "cell_type": "code",
   "execution_count": 33,
   "id": "younger-delta",
   "metadata": {
    "ExecuteTime": {
     "end_time": "2021-05-11T13:03:08.085246Z",
     "start_time": "2021-05-11T13:03:08.076895Z"
    },
    "hidden": true
   },
   "outputs": [],
   "source": [
    "def remove_stopwords(line, stopword_set):\n",
    "    new_words = []\n",
    "    \n",
    "    for word in word_tokenize(line):\n",
    "        if word.lower() in stopword_set:\n",
    "            continue\n",
    "        new_words.append(word.lower())\n",
    "    \n",
    "    return ' '.join(new_words)\n",
    "\n",
    "def lemmatize_sentence(sentence):\n",
    "    #tokenize the sentence and find the POS tag for each token\n",
    "    nltk_tagged = nltk.pos_tag(nltk.word_tokenize(sentence))  \n",
    "    #tuple of (token, wordnet_tag)\n",
    "    wordnet_tagged = map(lambda x: (x[0], nltk_tag_to_wordnet_tag(x[1])), nltk_tagged)\n",
    "    lemmatized_sentence = []\n",
    "    for word, tag in wordnet_tagged:\n",
    "        if tag is None:\n",
    "            #if there is no available tag, append the token as is\n",
    "            lemmatized_sentence.append(word)\n",
    "        else:        \n",
    "            #else use the tag to lemmatize the token\n",
    "            lemmatized_sentence.append(lemmatizer.lemmatize(word, tag))\n",
    "    return lemmatized_sentence\n",
    "\n",
    "# function to convert nltk tag to wordnet tag\n",
    "def nltk_tag_to_wordnet_tag(nltk_tag):\n",
    "    if nltk_tag.startswith('J'):\n",
    "        return wordnet.ADJ\n",
    "    elif nltk_tag.startswith('V'):\n",
    "        return wordnet.VERB\n",
    "    elif nltk_tag.startswith('N'):\n",
    "        return wordnet.NOUN\n",
    "    elif nltk_tag.startswith('R'):\n",
    "        return wordnet.ADV\n",
    "    else:          \n",
    "        return None"
   ]
  },
  {
   "cell_type": "code",
   "execution_count": 35,
   "id": "local-duration",
   "metadata": {
    "ExecuteTime": {
     "end_time": "2021-05-11T13:04:02.545045Z",
     "start_time": "2021-05-11T13:04:00.373755Z"
    },
    "hidden": true
   },
   "outputs": [
    {
     "name": "stderr",
     "output_type": "stream",
     "text": [
      "[nltk_data] Downloading package averaged_perceptron_tagger to\n",
      "[nltk_data]     /Users/hzn/nltk_data...\n",
      "[nltk_data]   Unzipping taggers/averaged_perceptron_tagger.zip.\n"
     ]
    },
    {
     "data": {
      "text/plain": [
       "True"
      ]
     },
     "execution_count": 35,
     "metadata": {},
     "output_type": "execute_result"
    }
   ],
   "source": [
    "import nltk\n",
    "nltk.download('averaged_perceptron_tagger')"
   ]
  },
  {
   "cell_type": "code",
   "execution_count": 37,
   "id": "dressed-afternoon",
   "metadata": {
    "ExecuteTime": {
     "end_time": "2021-05-11T13:08:50.391910Z",
     "start_time": "2021-05-11T13:05:34.008458Z"
    },
    "hidden": true
   },
   "outputs": [
    {
     "name": "stderr",
     "output_type": "stream",
     "text": [
      "<ipython-input-37-edc591c9c597>:4: SettingWithCopyWarning: \n",
      "A value is trying to be set on a copy of a slice from a DataFrame.\n",
      "Try using .loc[row_indexer,col_indexer] = value instead\n",
      "\n",
      "See the caveats in the documentation: https://pandas.pydata.org/pandas-docs/stable/user_guide/indexing.html#returning-a-view-versus-a-copy\n",
      "  X['cleaned'] = X['details_des'].apply(lambda x: regex.sub(' ', x))\n",
      "<ipython-input-37-edc591c9c597>:11: SettingWithCopyWarning: \n",
      "A value is trying to be set on a copy of a slice from a DataFrame.\n",
      "Try using .loc[row_indexer,col_indexer] = value instead\n",
      "\n",
      "See the caveats in the documentation: https://pandas.pydata.org/pandas-docs/stable/user_guide/indexing.html#returning-a-view-versus-a-copy\n",
      "  X['removed'] = a\n"
     ]
    }
   ],
   "source": [
    "# clean the text features for each product\n",
    "X = data[['details_des']]\n",
    "regex = re.compile(r'[^\\w\\s\\d]')\n",
    "X['cleaned'] = X['details_des'].apply(lambda x: regex.sub(' ', x))\n",
    "\n",
    "# remove stopwords in the text features\n",
    "stp = set(stopwords.words('english'))\n",
    "added = ['unknown','½ï']\n",
    "stp.update(added)\n",
    "a = X['cleaned'].apply(lambda x: remove_stopwords(x, stp))\n",
    "X['removed'] = a\n",
    "\n",
    "# lemmatize the features. We chose lemmatization over stemming to keep the meaning of the words\n",
    "lemmatizer = WordNetLemmatizer()\n",
    "a = X['removed'].apply(lambda x: lemmatize_sentence(x))\n",
    "b = a.apply(lambda x: ' '.join(x))\n",
    "\n",
    "# futher clean the features by using regex to remove single character words and digits\n",
    "regex = re.compile(r'\\d')\n",
    "b = b.apply(lambda x: regex.sub(' ',x))\n",
    "regex_let = re.compile(r'\\b\\w\\b')\n",
    "b = b.apply(lambda x: regex_let.sub('',x))\n",
    "data['text_feature'] = b"
   ]
  },
  {
   "cell_type": "code",
   "execution_count": 38,
   "id": "floppy-planner",
   "metadata": {
    "ExecuteTime": {
     "end_time": "2021-05-11T13:09:32.587345Z",
     "start_time": "2021-05-11T13:09:32.570208Z"
    },
    "hidden": true
   },
   "outputs": [],
   "source": [
    "df_cleaned = data[['product_id','text_feature','product_category']]"
   ]
  },
  {
   "cell_type": "code",
   "execution_count": 44,
   "id": "encouraging-roommate",
   "metadata": {
    "ExecuteTime": {
     "end_time": "2021-05-11T13:28:58.824465Z",
     "start_time": "2021-05-11T13:28:58.808959Z"
    },
    "hidden": true
   },
   "outputs": [],
   "source": [
    "def search(user_query: str):\n",
    "    # read the outfit dataset\n",
    "    outfit=pd.read_csv('outfit_combinations USC.csv')\n",
    "    outfit.head()\n",
    "    \n",
    "    # perform datacleaning for the input query\n",
    "    regex = re.compile(r'[^\\w\\s\\d]')\n",
    "    query = regex.sub(' ', user_query)\n",
    "    query_df = pd.DataFrame({'product_id':['query'],'text_feature':[query]},index=[61355])\n",
    "    df_withquery = pd.concat([df_cleaned,query_df])\n",
    "    \n",
    "    # use TF-IDF to vectorize the product table, max_features is set for 1000 to avoid noise\n",
    "    products = df_withquery['text_feature'].values\n",
    "    vectorizer = TfidfVectorizer(max_features=1000)\n",
    "    X = vectorizer.fit_transform(products)\n",
    "    tf_idf_lookup_table = pd.DataFrame(X.toarray(), columns= vectorizer.get_feature_names(), index=df_withquery.index)\n",
    "    \n",
    "    DOCUMENT_SUM_COLUMN = \"DOCUMENT_TF_IDF_SUM\"\n",
    "\n",
    "    # sum the tf idf scores for each document\n",
    "    tf_idf_lookup_table[DOCUMENT_SUM_COLUMN] = tf_idf_lookup_table.sum(axis=1)\n",
    "    available_tf_idf_scores = tf_idf_lookup_table.columns # a list of all the columns we have\n",
    "    available_tf_idf_scores = set(map( lambda x: x.lower(), available_tf_idf_scores)) # lowercase everything\n",
    "    \n",
    "    products_vectors = []\n",
    "    \n",
    "    for idx, product in enumerate(products): # iterate through each review\n",
    "        tokens = nlp(product) # have spacy tokenize the review text\n",
    "\n",
    "        # initially start a running total of tf-idf scores for a document\n",
    "        total_tf_idf_score_per_document = 0\n",
    "        # start a running total of initially all zeroes (300 is picked since that is the word embedding size used by word2vec)\n",
    "        running_total_word_embedding = np.zeros(300) \n",
    "        for token in tokens: # iterate through each token\n",
    "        # if the token has a pretrained word embedding it also has a tf-idf score\n",
    "            if token.has_vector and token.text.lower() in available_tf_idf_scores:\n",
    "                tf_idf_score = tf_idf_lookup_table.loc[idx, token.text.lower()]\n",
    "                running_total_word_embedding += tf_idf_score * token.vector\n",
    "                total_tf_idf_score_per_document += tf_idf_score\n",
    "                \n",
    "        # divide the total embedding by the total tf-idf score for each document\n",
    "        # print(total_tf_idf_score_per_document)\n",
    "        document_embedding = running_total_word_embedding / max(1,total_tf_idf_score_per_document)\n",
    "        products_vectors.append(document_embedding.tolist())\n",
    "\n",
    "        \n",
    "    query_vec = products_vectors[-1]\n",
    "    similarity_lst = {}\n",
    "    for i in range(len(products_vectors)-1):\n",
    "        product = products_vectors[i]\n",
    "        if (norm(product)*norm(query_vec)) == 0:\n",
    "            similarity_lst[i] = 0\n",
    "            continue\n",
    "        cos_sim = dot(product, query_vec)/(norm(product)*norm(query_vec))\n",
    "        similarity_lst[i] = cos_sim\n",
    "\n",
    "    d = list(sorted(similarity_lst.items(), key=lambda item: item[1], reverse=True))\n",
    "    \n",
    "    res=[]\n",
    "    for i in range(10000):\n",
    "        pid = d[i][0]\n",
    "        for j in range(len(outfit)):\n",
    "            if df_withquery.loc[pid,'product_id'] == outfit.loc[j,'product_id']:\n",
    "                outidx = outfit.loc[j,'outfit_id']\n",
    "                return outfit[outfit['outfit_id']==outidx]"
   ]
  },
  {
   "cell_type": "code",
   "execution_count": 45,
   "id": "mighty-might",
   "metadata": {
    "ExecuteTime": {
     "end_time": "2021-05-11T13:39:05.309594Z",
     "start_time": "2021-05-11T13:29:00.063176Z"
    },
    "hidden": true
   },
   "outputs": [
    {
     "data": {
      "text/html": [
       "<div>\n",
       "<style scoped>\n",
       "    .dataframe tbody tr th:only-of-type {\n",
       "        vertical-align: middle;\n",
       "    }\n",
       "\n",
       "    .dataframe tbody tr th {\n",
       "        vertical-align: top;\n",
       "    }\n",
       "\n",
       "    .dataframe thead th {\n",
       "        text-align: right;\n",
       "    }\n",
       "</style>\n",
       "<table border=\"1\" class=\"dataframe\">\n",
       "  <thead>\n",
       "    <tr style=\"text-align: right;\">\n",
       "      <th></th>\n",
       "      <th>outfit_id</th>\n",
       "      <th>product_id</th>\n",
       "      <th>outfit_item_type</th>\n",
       "      <th>brand</th>\n",
       "      <th>product_full_name</th>\n",
       "    </tr>\n",
       "  </thead>\n",
       "  <tbody>\n",
       "    <tr>\n",
       "      <th>130</th>\n",
       "      <td>01DTJH6G4BGSJD4K5SHJ52DQM5</td>\n",
       "      <td>01DPH19482XDP8RNN9NCWV0JR3</td>\n",
       "      <td>shoe</td>\n",
       "      <td>J.Crew</td>\n",
       "      <td>Laney slingback pumps in wool with leather cap...</td>\n",
       "    </tr>\n",
       "    <tr>\n",
       "      <th>131</th>\n",
       "      <td>01DTJH6G4BGSJD4K5SHJ52DQM5</td>\n",
       "      <td>01DSZSEGP1D27KKZ39J8SG3C35</td>\n",
       "      <td>accessory2</td>\n",
       "      <td>COACH</td>\n",
       "      <td>Metropolitan Leather Briefcase</td>\n",
       "    </tr>\n",
       "    <tr>\n",
       "      <th>132</th>\n",
       "      <td>01DTJH6G4BGSJD4K5SHJ52DQM5</td>\n",
       "      <td>01DT0DHQ0F6M3HE1WF7FYBGJ6E</td>\n",
       "      <td>bottom</td>\n",
       "      <td>Donna Karan New York</td>\n",
       "      <td>Belted Midi Skirt</td>\n",
       "    </tr>\n",
       "    <tr>\n",
       "      <th>133</th>\n",
       "      <td>01DTJH6G4BGSJD4K5SHJ52DQM5</td>\n",
       "      <td>01DTJ8CYK1A02TKT0MC1FVRWMM</td>\n",
       "      <td>accessory1</td>\n",
       "      <td>Proenza Schouler</td>\n",
       "      <td>Wrap Jacket</td>\n",
       "    </tr>\n",
       "    <tr>\n",
       "      <th>134</th>\n",
       "      <td>01DTJH6G4BGSJD4K5SHJ52DQM5</td>\n",
       "      <td>01DTJ8FHC9A0WKQ9Z30G3CS8GZ</td>\n",
       "      <td>top</td>\n",
       "      <td>Ellery</td>\n",
       "      <td>Hopper Cowl Neck Top</td>\n",
       "    </tr>\n",
       "  </tbody>\n",
       "</table>\n",
       "</div>"
      ],
      "text/plain": [
       "                      outfit_id                  product_id outfit_item_type  \\\n",
       "130  01DTJH6G4BGSJD4K5SHJ52DQM5  01DPH19482XDP8RNN9NCWV0JR3             shoe   \n",
       "131  01DTJH6G4BGSJD4K5SHJ52DQM5  01DSZSEGP1D27KKZ39J8SG3C35       accessory2   \n",
       "132  01DTJH6G4BGSJD4K5SHJ52DQM5  01DT0DHQ0F6M3HE1WF7FYBGJ6E           bottom   \n",
       "133  01DTJH6G4BGSJD4K5SHJ52DQM5  01DTJ8CYK1A02TKT0MC1FVRWMM       accessory1   \n",
       "134  01DTJH6G4BGSJD4K5SHJ52DQM5  01DTJ8FHC9A0WKQ9Z30G3CS8GZ              top   \n",
       "\n",
       "                    brand                                  product_full_name  \n",
       "130                J.Crew  Laney slingback pumps in wool with leather cap...  \n",
       "131                 COACH                     Metropolitan Leather Briefcase  \n",
       "132  Donna Karan New York                                  Belted Midi Skirt  \n",
       "133      Proenza Schouler                                        Wrap Jacket  \n",
       "134                Ellery                               Hopper Cowl Neck Top  "
      ]
     },
     "execution_count": 45,
     "metadata": {},
     "output_type": "execute_result"
    }
   ],
   "source": [
    "# Example Query\n",
    "query = 'black slim jean with white dot'\n",
    "search(query)"
   ]
  }
 ],
 "metadata": {
  "kernelspec": {
   "display_name": "Python 3",
   "language": "python",
   "name": "python3"
  },
  "varInspector": {
   "cols": {
    "lenName": 16,
    "lenType": 16,
    "lenVar": 40
   },
   "kernels_config": {
    "python": {
     "delete_cmd_postfix": "",
     "delete_cmd_prefix": "del ",
     "library": "var_list.py",
     "varRefreshCmd": "print(var_dic_list())"
    },
    "r": {
     "delete_cmd_postfix": ") ",
     "delete_cmd_prefix": "rm(",
     "library": "var_list.r",
     "varRefreshCmd": "cat(var_dic_list()) "
    }
   },
   "types_to_exclude": [
    "module",
    "function",
    "builtin_function_or_method",
    "instance",
    "_Feature"
   ],
   "window_display": false
  }
 },
 "nbformat": 4,
 "nbformat_minor": 5
}
