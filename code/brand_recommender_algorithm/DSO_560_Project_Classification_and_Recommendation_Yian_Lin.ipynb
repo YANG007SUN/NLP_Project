{
 "cells": [
  {
   "cell_type": "markdown",
   "metadata": {},
   "source": [
    "# DSO 560 Project"
   ]
  },
  {
   "cell_type": "markdown",
   "metadata": {},
   "source": [
    "Yian Lin"
   ]
  },
  {
   "cell_type": "markdown",
   "metadata": {},
   "source": [
    "## Part 1: Classification\n",
    "\n",
    "A common problem for Behold is the extremely manual classification of new products into their specific brands. Behold has supplier relationships from many global clothing vendors and marketplaces, but has found that the bottleneck for scaling out the number of products they can sell is identifying the brands associated with each new product. Use the brands’ biographical description (behold_brands.csv), product descriptions (products.csv) and any externally collected metadata, build an NLP classification model to predict which brand a new product should be assigned."
   ]
  },
  {
   "cell_type": "markdown",
   "metadata": {},
   "source": [
    "### Import packages and dataset"
   ]
  },
  {
   "cell_type": "code",
   "execution_count": 1,
   "metadata": {
    "ExecuteTime": {
     "end_time": "2021-05-12T01:51:07.475742Z",
     "start_time": "2021-05-12T01:51:01.352273Z"
    }
   },
   "outputs": [],
   "source": [
    "import pandas as pd\n",
    "import numpy as np\n",
    "import string\n",
    "import re\n",
    "import nltk\n",
    "from nltk.corpus import stopwords\n",
    "from nltk.tokenize import word_tokenize\n",
    "from nltk.stem import WordNetLemmatizer\n",
    "from nltk.corpus import wordnet\n",
    "import keras\n",
    "from keras.preprocessing.text import Tokenizer\n",
    "from tensorflow.keras.preprocessing.sequence import pad_sequences\n",
    "from keras.utils import to_categorical\n",
    "from sklearn.preprocessing import LabelEncoder\n",
    "from sklearn.model_selection import train_test_split\n",
    "from random import randint\n",
    "import scipy\n",
    "from numpy import array, argmax, asarray, zeros\n",
    "from keras.models import Sequential\n",
    "from keras.layers import Dense\n",
    "from keras.layers import Embedding\n",
    "from keras.layers.recurrent import SimpleRNN, LSTM\n",
    "from keras.layers import Flatten, Masking"
   ]
  },
  {
   "cell_type": "code",
   "execution_count": 2,
   "metadata": {
    "ExecuteTime": {
     "end_time": "2021-05-12T01:51:07.486704Z",
     "start_time": "2021-05-12T01:51:07.477716Z"
    }
   },
   "outputs": [],
   "source": [
    "brands = pd.read_csv('behold_brands USC.csv')"
   ]
  },
  {
   "cell_type": "code",
   "execution_count": 3,
   "metadata": {
    "ExecuteTime": {
     "end_time": "2021-05-12T01:51:07.508092Z",
     "start_time": "2021-05-12T01:51:07.489063Z"
    }
   },
   "outputs": [
    {
     "data": {
      "text/html": [
       "<div>\n",
       "<style scoped>\n",
       "    .dataframe tbody tr th:only-of-type {\n",
       "        vertical-align: middle;\n",
       "    }\n",
       "\n",
       "    .dataframe tbody tr th {\n",
       "        vertical-align: top;\n",
       "    }\n",
       "\n",
       "    .dataframe thead th {\n",
       "        text-align: right;\n",
       "    }\n",
       "</style>\n",
       "<table border=\"1\" class=\"dataframe\">\n",
       "  <thead>\n",
       "    <tr style=\"text-align: right;\">\n",
       "      <th></th>\n",
       "      <th>brand_id</th>\n",
       "      <th>brand</th>\n",
       "      <th>brand_value</th>\n",
       "      <th>bio</th>\n",
       "      <th>quote</th>\n",
       "      <th>quote_attribute</th>\n",
       "      <th>intro</th>\n",
       "      <th>lifestyle_copy</th>\n",
       "      <th>short_bio</th>\n",
       "      <th>listing_bio</th>\n",
       "    </tr>\n",
       "  </thead>\n",
       "  <tbody>\n",
       "    <tr>\n",
       "      <th>0</th>\n",
       "      <td>01ESKR0CH2KYC7KBNTN0S38EQA</td>\n",
       "      <td>Mari Giudicelli</td>\n",
       "      <td>Handmade / Artisan Crafted</td>\n",
       "      <td>NaN</td>\n",
       "      <td>NaN</td>\n",
       "      <td>NaN</td>\n",
       "      <td>NaN</td>\n",
       "      <td>NaN</td>\n",
       "      <td>NaN</td>\n",
       "      <td>Behold Mari Giudicelli! This Brazilian shoe de...</td>\n",
       "    </tr>\n",
       "    <tr>\n",
       "      <th>1</th>\n",
       "      <td>01ESKR0CH2KYC7KBNTN0S38EQA</td>\n",
       "      <td>Mari Giudicelli</td>\n",
       "      <td>Sustainable</td>\n",
       "      <td>NaN</td>\n",
       "      <td>NaN</td>\n",
       "      <td>NaN</td>\n",
       "      <td>NaN</td>\n",
       "      <td>NaN</td>\n",
       "      <td>NaN</td>\n",
       "      <td>Behold Mari Giudicelli! This Brazilian shoe de...</td>\n",
       "    </tr>\n",
       "    <tr>\n",
       "      <th>2</th>\n",
       "      <td>01ESKR0CH2KYC7KBNTN0S38EQA</td>\n",
       "      <td>Mari Giudicelli</td>\n",
       "      <td>Women Owned</td>\n",
       "      <td>NaN</td>\n",
       "      <td>NaN</td>\n",
       "      <td>NaN</td>\n",
       "      <td>NaN</td>\n",
       "      <td>NaN</td>\n",
       "      <td>NaN</td>\n",
       "      <td>Behold Mari Giudicelli! This Brazilian shoe de...</td>\n",
       "    </tr>\n",
       "    <tr>\n",
       "      <th>3</th>\n",
       "      <td>01ESVD80YYAJQEQPADZ7HTHZXA</td>\n",
       "      <td>Warm</td>\n",
       "      <td>NaN</td>\n",
       "      <td>NaN</td>\n",
       "      <td>NaN</td>\n",
       "      <td>NaN</td>\n",
       "      <td>NaN</td>\n",
       "      <td>NaN</td>\n",
       "      <td>NaN</td>\n",
       "      <td>Behold Warm! Founded by specialty store owner,...</td>\n",
       "    </tr>\n",
       "    <tr>\n",
       "      <th>4</th>\n",
       "      <td>01EFJFZ329YVC8SK87R2BNJGV0</td>\n",
       "      <td>Vaara</td>\n",
       "      <td>Emerging</td>\n",
       "      <td>NaN</td>\n",
       "      <td>NaN</td>\n",
       "      <td>NaN</td>\n",
       "      <td>NaN</td>\n",
       "      <td>NaN</td>\n",
       "      <td>NaN</td>\n",
       "      <td>NaN</td>\n",
       "    </tr>\n",
       "  </tbody>\n",
       "</table>\n",
       "</div>"
      ],
      "text/plain": [
       "                     brand_id            brand                 brand_value  \\\n",
       "0  01ESKR0CH2KYC7KBNTN0S38EQA  Mari Giudicelli  Handmade / Artisan Crafted   \n",
       "1  01ESKR0CH2KYC7KBNTN0S38EQA  Mari Giudicelli                 Sustainable   \n",
       "2  01ESKR0CH2KYC7KBNTN0S38EQA  Mari Giudicelli                 Women Owned   \n",
       "3  01ESVD80YYAJQEQPADZ7HTHZXA             Warm                         NaN   \n",
       "4  01EFJFZ329YVC8SK87R2BNJGV0            Vaara                    Emerging   \n",
       "\n",
       "   bio quote quote_attribute intro lifestyle_copy short_bio  \\\n",
       "0  NaN   NaN             NaN   NaN            NaN       NaN   \n",
       "1  NaN   NaN             NaN   NaN            NaN       NaN   \n",
       "2  NaN   NaN             NaN   NaN            NaN       NaN   \n",
       "3  NaN   NaN             NaN   NaN            NaN       NaN   \n",
       "4  NaN   NaN             NaN   NaN            NaN       NaN   \n",
       "\n",
       "                                         listing_bio  \n",
       "0  Behold Mari Giudicelli! This Brazilian shoe de...  \n",
       "1  Behold Mari Giudicelli! This Brazilian shoe de...  \n",
       "2  Behold Mari Giudicelli! This Brazilian shoe de...  \n",
       "3  Behold Warm! Founded by specialty store owner,...  \n",
       "4                                                NaN  "
      ]
     },
     "execution_count": 3,
     "metadata": {},
     "output_type": "execute_result"
    }
   ],
   "source": [
    "brands.head()"
   ]
  },
  {
   "cell_type": "code",
   "execution_count": 4,
   "metadata": {
    "ExecuteTime": {
     "end_time": "2021-05-12T01:51:16.258338Z",
     "start_time": "2021-05-12T01:51:07.510649Z"
    }
   },
   "outputs": [],
   "source": [
    "products = pd.read_excel('Behold+product+data+04262021.xlsx')"
   ]
  },
  {
   "cell_type": "code",
   "execution_count": 5,
   "metadata": {
    "ExecuteTime": {
     "end_time": "2021-05-12T01:51:16.286995Z",
     "start_time": "2021-05-12T01:51:16.260529Z"
    }
   },
   "outputs": [
    {
     "data": {
      "text/html": [
       "<div>\n",
       "<style scoped>\n",
       "    .dataframe tbody tr th:only-of-type {\n",
       "        vertical-align: middle;\n",
       "    }\n",
       "\n",
       "    .dataframe tbody tr th {\n",
       "        vertical-align: top;\n",
       "    }\n",
       "\n",
       "    .dataframe thead th {\n",
       "        text-align: right;\n",
       "    }\n",
       "</style>\n",
       "<table border=\"1\" class=\"dataframe\">\n",
       "  <thead>\n",
       "    <tr style=\"text-align: right;\">\n",
       "      <th></th>\n",
       "      <th>product_id</th>\n",
       "      <th>brand</th>\n",
       "      <th>brand_category</th>\n",
       "      <th>name</th>\n",
       "      <th>details</th>\n",
       "      <th>created_at</th>\n",
       "      <th>brand_canonical_url</th>\n",
       "      <th>description</th>\n",
       "      <th>brand_description</th>\n",
       "      <th>brand_name</th>\n",
       "      <th>product_active</th>\n",
       "    </tr>\n",
       "  </thead>\n",
       "  <tbody>\n",
       "    <tr>\n",
       "      <th>0</th>\n",
       "      <td>01EX0PN4J9WRNZH5F93YEX6QAF</td>\n",
       "      <td>Two</td>\n",
       "      <td>Unknown</td>\n",
       "      <td>Khadi Stripe Shirt-our signature shirt</td>\n",
       "      <td>NaN</td>\n",
       "      <td>2021-01-27 01:17:19.305 UTC</td>\n",
       "      <td>https://two-nyc.myshopify.com/products/white-k...</td>\n",
       "      <td>Our signature khadi shirt\\navailable in black ...</td>\n",
       "      <td>Our signature khadi shirt\\n\\navailable in blac...</td>\n",
       "      <td>Khadi Stripe Shirt-our signature shirt</td>\n",
       "      <td>True</td>\n",
       "    </tr>\n",
       "    <tr>\n",
       "      <th>1</th>\n",
       "      <td>01F0C4SKZV6YXS3265JMC39NXW</td>\n",
       "      <td>Collina Strada</td>\n",
       "      <td>Unknown</td>\n",
       "      <td>RUFFLE MARKET DRESS LOOPY PINK SISTINE TOMATO</td>\n",
       "      <td>NaN</td>\n",
       "      <td>2021-03-09 18:43:10.457 UTC</td>\n",
       "      <td>https://collina-strada-2.myshopify.com/product...</td>\n",
       "      <td>Mid-length dress with ruffles and adjustable s...</td>\n",
       "      <td>Mid-length dress with ruffles and adjustable s...</td>\n",
       "      <td>RUFFLE MARKET DRESS LOOPY PINK SISTINE TOMATO</td>\n",
       "      <td>True</td>\n",
       "    </tr>\n",
       "    <tr>\n",
       "      <th>2</th>\n",
       "      <td>01EY4Y1BW8VZW51BWG5VZY82XW</td>\n",
       "      <td>Cariuma</td>\n",
       "      <td>Unknown</td>\n",
       "      <td>IBI Slip On Raw Red Knit Sneaker Women</td>\n",
       "      <td>NaN</td>\n",
       "      <td>2021-02-10 02:58:59.591 UTC</td>\n",
       "      <td>https://cariuma.myshopify.com/products/ibi-sli...</td>\n",
       "      <td>IBI Slip On Raw Red Knit Sneaker Women</td>\n",
       "      <td>IBI Slip On Raw Red Knit Sneaker Women</td>\n",
       "      <td>IBI Slip On Raw Red Knit Sneaker Women</td>\n",
       "      <td>False</td>\n",
       "    </tr>\n",
       "    <tr>\n",
       "      <th>3</th>\n",
       "      <td>01EY50E27A0P5V6KCW01XPDB43</td>\n",
       "      <td>Cariuma</td>\n",
       "      <td>Unknown</td>\n",
       "      <td>IBI Slip On Black Knit Sneaker Women</td>\n",
       "      <td>NaN</td>\n",
       "      <td>2021-02-10 03:40:52.842 UTC</td>\n",
       "      <td>https://cariuma.myshopify.com/products/ibi-sli...</td>\n",
       "      <td>IBI Slip On Black Knit Sneaker Women</td>\n",
       "      <td>IBI Slip On Black Knit Sneaker Women</td>\n",
       "      <td>IBI Slip On Black Knit Sneaker Women</td>\n",
       "      <td>False</td>\n",
       "    </tr>\n",
       "    <tr>\n",
       "      <th>4</th>\n",
       "      <td>01EY6DWHC2W5HPNEGXKEJ4A1CX</td>\n",
       "      <td>Cariuma</td>\n",
       "      <td>Unknown</td>\n",
       "      <td>CATIBA PRO Skate Black Suede and Canvas Contra...</td>\n",
       "      <td>NaN</td>\n",
       "      <td>2021-02-10 16:55:13.024 UTC</td>\n",
       "      <td>https://cariuma.myshopify.com/products/catiba-...</td>\n",
       "      <td>NaN</td>\n",
       "      <td>NaN</td>\n",
       "      <td>CATIBA PRO Skate Black Suede and Canvas Contra...</td>\n",
       "      <td>False</td>\n",
       "    </tr>\n",
       "  </tbody>\n",
       "</table>\n",
       "</div>"
      ],
      "text/plain": [
       "                   product_id           brand brand_category  \\\n",
       "0  01EX0PN4J9WRNZH5F93YEX6QAF             Two        Unknown   \n",
       "1  01F0C4SKZV6YXS3265JMC39NXW  Collina Strada        Unknown   \n",
       "2  01EY4Y1BW8VZW51BWG5VZY82XW         Cariuma        Unknown   \n",
       "3  01EY50E27A0P5V6KCW01XPDB43         Cariuma        Unknown   \n",
       "4  01EY6DWHC2W5HPNEGXKEJ4A1CX         Cariuma        Unknown   \n",
       "\n",
       "                                                name details  \\\n",
       "0             Khadi Stripe Shirt-our signature shirt     NaN   \n",
       "1      RUFFLE MARKET DRESS LOOPY PINK SISTINE TOMATO     NaN   \n",
       "2             IBI Slip On Raw Red Knit Sneaker Women     NaN   \n",
       "3               IBI Slip On Black Knit Sneaker Women     NaN   \n",
       "4  CATIBA PRO Skate Black Suede and Canvas Contra...     NaN   \n",
       "\n",
       "                    created_at  \\\n",
       "0  2021-01-27 01:17:19.305 UTC   \n",
       "1  2021-03-09 18:43:10.457 UTC   \n",
       "2  2021-02-10 02:58:59.591 UTC   \n",
       "3  2021-02-10 03:40:52.842 UTC   \n",
       "4  2021-02-10 16:55:13.024 UTC   \n",
       "\n",
       "                                 brand_canonical_url  \\\n",
       "0  https://two-nyc.myshopify.com/products/white-k...   \n",
       "1  https://collina-strada-2.myshopify.com/product...   \n",
       "2  https://cariuma.myshopify.com/products/ibi-sli...   \n",
       "3  https://cariuma.myshopify.com/products/ibi-sli...   \n",
       "4  https://cariuma.myshopify.com/products/catiba-...   \n",
       "\n",
       "                                         description  \\\n",
       "0  Our signature khadi shirt\\navailable in black ...   \n",
       "1  Mid-length dress with ruffles and adjustable s...   \n",
       "2             IBI Slip On Raw Red Knit Sneaker Women   \n",
       "3               IBI Slip On Black Knit Sneaker Women   \n",
       "4                                                NaN   \n",
       "\n",
       "                                   brand_description  \\\n",
       "0  Our signature khadi shirt\\n\\navailable in blac...   \n",
       "1  Mid-length dress with ruffles and adjustable s...   \n",
       "2             IBI Slip On Raw Red Knit Sneaker Women   \n",
       "3               IBI Slip On Black Knit Sneaker Women   \n",
       "4                                                NaN   \n",
       "\n",
       "                                          brand_name  product_active  \n",
       "0             Khadi Stripe Shirt-our signature shirt            True  \n",
       "1      RUFFLE MARKET DRESS LOOPY PINK SISTINE TOMATO            True  \n",
       "2             IBI Slip On Raw Red Knit Sneaker Women           False  \n",
       "3               IBI Slip On Black Knit Sneaker Women           False  \n",
       "4  CATIBA PRO Skate Black Suede and Canvas Contra...           False  "
      ]
     },
     "execution_count": 5,
     "metadata": {},
     "output_type": "execute_result"
    }
   ],
   "source": [
    "products.head()"
   ]
  },
  {
   "cell_type": "code",
   "execution_count": 6,
   "metadata": {
    "ExecuteTime": {
     "end_time": "2021-05-12T01:51:16.305196Z",
     "start_time": "2021-05-12T01:51:16.288954Z"
    }
   },
   "outputs": [],
   "source": [
    "outfit = pd.read_csv('outfit_combinations USC.csv')"
   ]
  },
  {
   "cell_type": "code",
   "execution_count": 7,
   "metadata": {
    "ExecuteTime": {
     "end_time": "2021-05-12T01:51:16.316215Z",
     "start_time": "2021-05-12T01:51:16.308530Z"
    }
   },
   "outputs": [
    {
     "data": {
      "text/html": [
       "<div>\n",
       "<style scoped>\n",
       "    .dataframe tbody tr th:only-of-type {\n",
       "        vertical-align: middle;\n",
       "    }\n",
       "\n",
       "    .dataframe tbody tr th {\n",
       "        vertical-align: top;\n",
       "    }\n",
       "\n",
       "    .dataframe thead th {\n",
       "        text-align: right;\n",
       "    }\n",
       "</style>\n",
       "<table border=\"1\" class=\"dataframe\">\n",
       "  <thead>\n",
       "    <tr style=\"text-align: right;\">\n",
       "      <th></th>\n",
       "      <th>outfit_id</th>\n",
       "      <th>product_id</th>\n",
       "      <th>outfit_item_type</th>\n",
       "      <th>brand</th>\n",
       "      <th>product_full_name</th>\n",
       "    </tr>\n",
       "  </thead>\n",
       "  <tbody>\n",
       "    <tr>\n",
       "      <th>0</th>\n",
       "      <td>01DDBHC62ES5K80P0KYJ56AM2T</td>\n",
       "      <td>01DMBRYVA2P5H24WK0HTK4R0A1</td>\n",
       "      <td>bottom</td>\n",
       "      <td>Eileen Fisher</td>\n",
       "      <td>Slim Knit Skirt</td>\n",
       "    </tr>\n",
       "    <tr>\n",
       "      <th>1</th>\n",
       "      <td>01DDBHC62ES5K80P0KYJ56AM2T</td>\n",
       "      <td>01DMBRYVA2PEPWFTT7RMP5AA1T</td>\n",
       "      <td>top</td>\n",
       "      <td>Eileen Fisher</td>\n",
       "      <td>Rib Mock Neck Tank</td>\n",
       "    </tr>\n",
       "    <tr>\n",
       "      <th>2</th>\n",
       "      <td>01DDBHC62ES5K80P0KYJ56AM2T</td>\n",
       "      <td>01DMBRYVA2S5T9W793F4CY41HE</td>\n",
       "      <td>accessory1</td>\n",
       "      <td>kate spade new york</td>\n",
       "      <td>medium margaux leather satchel</td>\n",
       "    </tr>\n",
       "    <tr>\n",
       "      <th>3</th>\n",
       "      <td>01DDBHC62ES5K80P0KYJ56AM2T</td>\n",
       "      <td>01DMBRYVA2ZFDYRYY5TRQZJTBD</td>\n",
       "      <td>shoe</td>\n",
       "      <td>Tory Burch</td>\n",
       "      <td>Penelope Mid Cap Toe Pump</td>\n",
       "    </tr>\n",
       "    <tr>\n",
       "      <th>4</th>\n",
       "      <td>01DMHCX50CFX5YNG99F3Y65GQW</td>\n",
       "      <td>01DMBRYVA2P5H24WK0HTK4R0A1</td>\n",
       "      <td>bottom</td>\n",
       "      <td>Eileen Fisher</td>\n",
       "      <td>Slim Knit Skirt</td>\n",
       "    </tr>\n",
       "  </tbody>\n",
       "</table>\n",
       "</div>"
      ],
      "text/plain": [
       "                    outfit_id                  product_id outfit_item_type  \\\n",
       "0  01DDBHC62ES5K80P0KYJ56AM2T  01DMBRYVA2P5H24WK0HTK4R0A1           bottom   \n",
       "1  01DDBHC62ES5K80P0KYJ56AM2T  01DMBRYVA2PEPWFTT7RMP5AA1T              top   \n",
       "2  01DDBHC62ES5K80P0KYJ56AM2T  01DMBRYVA2S5T9W793F4CY41HE       accessory1   \n",
       "3  01DDBHC62ES5K80P0KYJ56AM2T  01DMBRYVA2ZFDYRYY5TRQZJTBD             shoe   \n",
       "4  01DMHCX50CFX5YNG99F3Y65GQW  01DMBRYVA2P5H24WK0HTK4R0A1           bottom   \n",
       "\n",
       "                 brand               product_full_name  \n",
       "0        Eileen Fisher                 Slim Knit Skirt  \n",
       "1        Eileen Fisher              Rib Mock Neck Tank  \n",
       "2  kate spade new york  medium margaux leather satchel  \n",
       "3           Tory Burch       Penelope Mid Cap Toe Pump  \n",
       "4        Eileen Fisher                 Slim Knit Skirt  "
      ]
     },
     "execution_count": 7,
     "metadata": {},
     "output_type": "execute_result"
    }
   ],
   "source": [
    "outfit.head()"
   ]
  },
  {
   "cell_type": "code",
   "execution_count": 8,
   "metadata": {
    "ExecuteTime": {
     "end_time": "2021-05-12T01:51:16.396885Z",
     "start_time": "2021-05-12T01:51:16.318728Z"
    }
   },
   "outputs": [],
   "source": [
    "tags = pd.read_csv('usc_additional_tags USC.csv')"
   ]
  },
  {
   "cell_type": "code",
   "execution_count": 9,
   "metadata": {
    "ExecuteTime": {
     "end_time": "2021-05-12T01:51:16.407060Z",
     "start_time": "2021-05-12T01:51:16.398742Z"
    }
   },
   "outputs": [
    {
     "data": {
      "text/html": [
       "<div>\n",
       "<style scoped>\n",
       "    .dataframe tbody tr th:only-of-type {\n",
       "        vertical-align: middle;\n",
       "    }\n",
       "\n",
       "    .dataframe tbody tr th {\n",
       "        vertical-align: top;\n",
       "    }\n",
       "\n",
       "    .dataframe thead th {\n",
       "        text-align: right;\n",
       "    }\n",
       "</style>\n",
       "<table border=\"1\" class=\"dataframe\">\n",
       "  <thead>\n",
       "    <tr style=\"text-align: right;\">\n",
       "      <th></th>\n",
       "      <th>product_id</th>\n",
       "      <th>product_color_id</th>\n",
       "      <th>attribute_name</th>\n",
       "      <th>attribute_value</th>\n",
       "    </tr>\n",
       "  </thead>\n",
       "  <tbody>\n",
       "    <tr>\n",
       "      <th>0</th>\n",
       "      <td>01E5ZXP5H0BTEZT9QD2HRZJ47A</td>\n",
       "      <td>01E5ZXP5JCREDC7WJVMWHK5Q40</td>\n",
       "      <td>materialclothing</td>\n",
       "      <td>linenblend</td>\n",
       "    </tr>\n",
       "    <tr>\n",
       "      <th>1</th>\n",
       "      <td>01E5ZXP5H0BTEZT9QD2HRZJ47A</td>\n",
       "      <td>01E5ZXP5JCREDC7WJVMWHK5Q40</td>\n",
       "      <td>materialclothing</td>\n",
       "      <td>cottonblend</td>\n",
       "    </tr>\n",
       "    <tr>\n",
       "      <th>2</th>\n",
       "      <td>01E5ZXP5H0BTEZT9QD2HRZJ47A</td>\n",
       "      <td>01E5ZXP5JCREDC7WJVMWHK5Q40</td>\n",
       "      <td>style</td>\n",
       "      <td>modern</td>\n",
       "    </tr>\n",
       "    <tr>\n",
       "      <th>3</th>\n",
       "      <td>01E5ZXP5H0BTEZT9QD2HRZJ47A</td>\n",
       "      <td>01E5ZXP5JCREDC7WJVMWHK5Q40</td>\n",
       "      <td>style</td>\n",
       "      <td>businesscasual</td>\n",
       "    </tr>\n",
       "    <tr>\n",
       "      <th>4</th>\n",
       "      <td>01E5ZXP5H0BTEZT9QD2HRZJ47A</td>\n",
       "      <td>01E5ZXP5JCREDC7WJVMWHK5Q40</td>\n",
       "      <td>style</td>\n",
       "      <td>classic</td>\n",
       "    </tr>\n",
       "  </tbody>\n",
       "</table>\n",
       "</div>"
      ],
      "text/plain": [
       "                   product_id            product_color_id    attribute_name  \\\n",
       "0  01E5ZXP5H0BTEZT9QD2HRZJ47A  01E5ZXP5JCREDC7WJVMWHK5Q40  materialclothing   \n",
       "1  01E5ZXP5H0BTEZT9QD2HRZJ47A  01E5ZXP5JCREDC7WJVMWHK5Q40  materialclothing   \n",
       "2  01E5ZXP5H0BTEZT9QD2HRZJ47A  01E5ZXP5JCREDC7WJVMWHK5Q40             style   \n",
       "3  01E5ZXP5H0BTEZT9QD2HRZJ47A  01E5ZXP5JCREDC7WJVMWHK5Q40             style   \n",
       "4  01E5ZXP5H0BTEZT9QD2HRZJ47A  01E5ZXP5JCREDC7WJVMWHK5Q40             style   \n",
       "\n",
       "  attribute_value  \n",
       "0      linenblend  \n",
       "1     cottonblend  \n",
       "2          modern  \n",
       "3  businesscasual  \n",
       "4         classic  "
      ]
     },
     "execution_count": 9,
     "metadata": {},
     "output_type": "execute_result"
    }
   ],
   "source": [
    "tags.head()"
   ]
  },
  {
   "cell_type": "markdown",
   "metadata": {},
   "source": [
    "### Fill in missing values\n",
    "\n",
    "I will fill in missing values using \"Unknown\""
   ]
  },
  {
   "cell_type": "code",
   "execution_count": 10,
   "metadata": {
    "ExecuteTime": {
     "end_time": "2021-05-12T01:51:16.418211Z",
     "start_time": "2021-05-12T01:51:16.408431Z"
    }
   },
   "outputs": [],
   "source": [
    "products_data = products[['product_id', 'brand', 'brand_category',\n",
    "                          'name', 'details', 'description', 'brand_description', 'brand_name']]"
   ]
  },
  {
   "cell_type": "code",
   "execution_count": 11,
   "metadata": {
    "ExecuteTime": {
     "end_time": "2021-05-12T01:51:16.449804Z",
     "start_time": "2021-05-12T01:51:16.419549Z"
    }
   },
   "outputs": [
    {
     "data": {
      "text/plain": [
       "product_id               0\n",
       "brand                    0\n",
       "brand_category         459\n",
       "name                     1\n",
       "details              52155\n",
       "description          10117\n",
       "brand_description    10121\n",
       "brand_name               1\n",
       "dtype: int64"
      ]
     },
     "execution_count": 11,
     "metadata": {},
     "output_type": "execute_result"
    }
   ],
   "source": [
    "products_data.isna().sum()"
   ]
  },
  {
   "cell_type": "code",
   "execution_count": 12,
   "metadata": {
    "ExecuteTime": {
     "end_time": "2021-05-12T01:51:16.494962Z",
     "start_time": "2021-05-12T01:51:16.452075Z"
    }
   },
   "outputs": [],
   "source": [
    "products_data = products_data.fillna(\"Unknown\")"
   ]
  },
  {
   "cell_type": "code",
   "execution_count": 13,
   "metadata": {
    "ExecuteTime": {
     "end_time": "2021-05-12T01:51:16.501914Z",
     "start_time": "2021-05-12T01:51:16.496850Z"
    }
   },
   "outputs": [
    {
     "data": {
      "text/plain": [
       "product_id           object\n",
       "brand                object\n",
       "brand_category       object\n",
       "name                 object\n",
       "details              object\n",
       "description          object\n",
       "brand_description    object\n",
       "brand_name           object\n",
       "dtype: object"
      ]
     },
     "execution_count": 13,
     "metadata": {},
     "output_type": "execute_result"
    }
   ],
   "source": [
    "products_data.dtypes"
   ]
  },
  {
   "cell_type": "code",
   "execution_count": 14,
   "metadata": {
    "ExecuteTime": {
     "end_time": "2021-05-12T01:51:16.507446Z",
     "start_time": "2021-05-12T01:51:16.504101Z"
    }
   },
   "outputs": [
    {
     "data": {
      "text/plain": [
       "(61355, 8)"
      ]
     },
     "execution_count": 14,
     "metadata": {},
     "output_type": "execute_result"
    }
   ],
   "source": [
    "products_data.shape"
   ]
  },
  {
   "cell_type": "code",
   "execution_count": 15,
   "metadata": {
    "ExecuteTime": {
     "end_time": "2021-05-12T01:51:16.512945Z",
     "start_time": "2021-05-12T01:51:16.509325Z"
    }
   },
   "outputs": [
    {
     "data": {
      "text/plain": [
       "(162, 10)"
      ]
     },
     "execution_count": 15,
     "metadata": {},
     "output_type": "execute_result"
    }
   ],
   "source": [
    "brands.shape"
   ]
  },
  {
   "cell_type": "code",
   "execution_count": 16,
   "metadata": {
    "ExecuteTime": {
     "end_time": "2021-05-12T01:51:16.519619Z",
     "start_time": "2021-05-12T01:51:16.514689Z"
    }
   },
   "outputs": [
    {
     "data": {
      "text/plain": [
       "brand_id           0\n",
       "brand              0\n",
       "brand_value        8\n",
       "bio                5\n",
       "quote              5\n",
       "quote_attribute    8\n",
       "intro              8\n",
       "lifestyle_copy     6\n",
       "short_bio          5\n",
       "listing_bio        5\n",
       "dtype: int64"
      ]
     },
     "execution_count": 16,
     "metadata": {},
     "output_type": "execute_result"
    }
   ],
   "source": [
    "brands.isnull().sum()"
   ]
  },
  {
   "cell_type": "code",
   "execution_count": 17,
   "metadata": {
    "ExecuteTime": {
     "end_time": "2021-05-12T01:51:16.525426Z",
     "start_time": "2021-05-12T01:51:16.521556Z"
    }
   },
   "outputs": [],
   "source": [
    "brands = brands.fillna(\"Unknown\")"
   ]
  },
  {
   "cell_type": "code",
   "execution_count": 18,
   "metadata": {
    "ExecuteTime": {
     "end_time": "2021-05-12T01:51:16.530305Z",
     "start_time": "2021-05-12T01:51:16.526972Z"
    }
   },
   "outputs": [
    {
     "data": {
      "text/plain": [
       "(5291, 5)"
      ]
     },
     "execution_count": 18,
     "metadata": {},
     "output_type": "execute_result"
    }
   ],
   "source": [
    "outfit.shape"
   ]
  },
  {
   "cell_type": "code",
   "execution_count": 19,
   "metadata": {
    "ExecuteTime": {
     "end_time": "2021-05-12T01:51:16.537543Z",
     "start_time": "2021-05-12T01:51:16.532008Z"
    }
   },
   "outputs": [
    {
     "data": {
      "text/plain": [
       "outfit_id            0\n",
       "product_id           0\n",
       "outfit_item_type     0\n",
       "brand                0\n",
       "product_full_name    0\n",
       "dtype: int64"
      ]
     },
     "execution_count": 19,
     "metadata": {},
     "output_type": "execute_result"
    }
   ],
   "source": [
    "outfit.isnull().sum()"
   ]
  },
  {
   "cell_type": "code",
   "execution_count": 20,
   "metadata": {
    "ExecuteTime": {
     "end_time": "2021-05-12T01:51:16.542659Z",
     "start_time": "2021-05-12T01:51:16.539288Z"
    }
   },
   "outputs": [
    {
     "data": {
      "text/plain": [
       "(97420, 4)"
      ]
     },
     "execution_count": 20,
     "metadata": {},
     "output_type": "execute_result"
    }
   ],
   "source": [
    "tags.shape"
   ]
  },
  {
   "cell_type": "code",
   "execution_count": 21,
   "metadata": {
    "ExecuteTime": {
     "end_time": "2021-05-12T01:51:16.561782Z",
     "start_time": "2021-05-12T01:51:16.544275Z"
    }
   },
   "outputs": [
    {
     "data": {
      "text/plain": [
       "product_id          0\n",
       "product_color_id    0\n",
       "attribute_name      0\n",
       "attribute_value     0\n",
       "dtype: int64"
      ]
     },
     "execution_count": 21,
     "metadata": {},
     "output_type": "execute_result"
    }
   ],
   "source": [
    "tags.isnull().sum()"
   ]
  },
  {
   "cell_type": "markdown",
   "metadata": {},
   "source": [
    "### Preprocess the text\n",
    "\n",
    "For product data"
   ]
  },
  {
   "cell_type": "code",
   "execution_count": 22,
   "metadata": {
    "ExecuteTime": {
     "end_time": "2021-05-12T01:51:16.587613Z",
     "start_time": "2021-05-12T01:51:16.567417Z"
    }
   },
   "outputs": [],
   "source": [
    "products_data_2 = products_data.copy()"
   ]
  },
  {
   "cell_type": "code",
   "execution_count": 23,
   "metadata": {
    "ExecuteTime": {
     "end_time": "2021-05-12T01:51:16.597956Z",
     "start_time": "2021-05-12T01:51:16.592002Z"
    }
   },
   "outputs": [
    {
     "data": {
      "text/plain": [
       "'Our signature khadi shirt\\navailable in black and white\\nEasy to wear from beach to city. We promise this top will be your go-to warm\\nweather item. Perfect under a blazer. Hand loomed woven stripe in khadi cotton.\\n Slightly sheer and gets softer with every wash. Ships First week of April\\nCOLOR: WHITE OR BLACK\\n—  Length 27\"  and  Width  26.5\" —  One size fits most —  Grid khadi cotton'"
      ]
     },
     "execution_count": 23,
     "metadata": {},
     "output_type": "execute_result"
    }
   ],
   "source": [
    "products_data['description'][0]"
   ]
  },
  {
   "cell_type": "markdown",
   "metadata": {},
   "source": [
    "#### Remove punctuations"
   ]
  },
  {
   "cell_type": "code",
   "execution_count": 24,
   "metadata": {
    "ExecuteTime": {
     "end_time": "2021-05-12T01:51:19.932157Z",
     "start_time": "2021-05-12T01:51:16.599657Z"
    }
   },
   "outputs": [],
   "source": [
    "col_list = ['brand', 'brand_category', 'name', 'details', 'description', 'brand_description', 'brand_name']\n",
    "# punc = \"!\\\"'#$%&\\'()*+,./:;<=>?[\\\\]^_`{|}~’”•`'''``\"\n",
    "\n",
    "for col in col_list:\n",
    "    products_data_2[col] = products_data_2[col].str.strip()\n",
    "    products_data_2[col] = products_data_2[col].str.lower()\n",
    "    \n",
    "    products_data_2[col] = products_data_2[col].str.replace('\\n', ' ')\n",
    "    \n",
    "    products_data_2[col] = products_data_2[col].str.replace(r\"\\b\\w+n't\\b\", 'not')\n",
    "    # changed all negative meaning words (doesn't, isn't, hadn't, etc.) to \"not\"\n",
    "    \n",
    "    products_data_2[col] = products_data_2[col].str.replace(r'[^\\w\\s]', ' ')\n",
    "    # removed punctuations"
   ]
  },
  {
   "cell_type": "code",
   "execution_count": 25,
   "metadata": {
    "ExecuteTime": {
     "end_time": "2021-05-12T01:51:19.941221Z",
     "start_time": "2021-05-12T01:51:19.934116Z"
    }
   },
   "outputs": [
    {
     "data": {
      "text/plain": [
       "'our signature khadi shirt available in black and white easy to wear from beach to city  we promise this top will be your go to warm weather item  perfect under a blazer  hand loomed woven stripe in khadi cotton   slightly sheer and gets softer with every wash  ships first week of april color  white or black    length 27   and  width  26 5     one size fits most    grid khadi cotton'"
      ]
     },
     "execution_count": 25,
     "metadata": {},
     "output_type": "execute_result"
    }
   ],
   "source": [
    "products_data_2['description'][0]"
   ]
  },
  {
   "cell_type": "markdown",
   "metadata": {},
   "source": [
    "#### Remove stopwords and numbers"
   ]
  },
  {
   "cell_type": "code",
   "execution_count": 26,
   "metadata": {
    "ExecuteTime": {
     "end_time": "2021-05-12T01:51:19.952463Z",
     "start_time": "2021-05-12T01:51:19.943517Z"
    }
   },
   "outputs": [],
   "source": [
    "products_data_3 = products_data_2.copy()"
   ]
  },
  {
   "cell_type": "code",
   "execution_count": 27,
   "metadata": {
    "ExecuteTime": {
     "end_time": "2021-05-12T01:51:19.960162Z",
     "start_time": "2021-05-12T01:51:19.954736Z"
    }
   },
   "outputs": [],
   "source": [
    "stopwords = set(stopwords.words(\"English\"))"
   ]
  },
  {
   "cell_type": "code",
   "execution_count": 28,
   "metadata": {
    "ExecuteTime": {
     "end_time": "2021-05-12T01:51:19.965359Z",
     "start_time": "2021-05-12T01:51:19.961867Z"
    }
   },
   "outputs": [],
   "source": [
    "def remove_stopwords(text):\n",
    "    words = word_tokenize(str(text))\n",
    "    words_no_stopwords = [word for word in words if word not in stopwords and not word.isdigit()]\n",
    "    words_no_stopwords_str = \" \".join(words_no_stopwords)\n",
    "    return words_no_stopwords_str"
   ]
  },
  {
   "cell_type": "code",
   "execution_count": 29,
   "metadata": {
    "ExecuteTime": {
     "end_time": "2021-05-12T01:52:04.803170Z",
     "start_time": "2021-05-12T01:51:19.967087Z"
    }
   },
   "outputs": [],
   "source": [
    "for col in col_list:\n",
    "    products_data_3[col] = products_data_3[col].apply(remove_stopwords)"
   ]
  },
  {
   "cell_type": "code",
   "execution_count": 30,
   "metadata": {
    "ExecuteTime": {
     "end_time": "2021-05-12T01:52:04.812525Z",
     "start_time": "2021-05-12T01:52:04.805037Z"
    }
   },
   "outputs": [
    {
     "data": {
      "text/plain": [
       "'signature khadi shirt available black white easy wear beach city promise top go warm weather item perfect blazer hand loomed woven stripe khadi cotton slightly sheer gets softer every wash ships first week april color white black length width one size fits grid khadi cotton'"
      ]
     },
     "execution_count": 30,
     "metadata": {},
     "output_type": "execute_result"
    }
   ],
   "source": [
    "products_data_3['description'][0]"
   ]
  },
  {
   "cell_type": "markdown",
   "metadata": {},
   "source": [
    "#### Lemmatization"
   ]
  },
  {
   "cell_type": "code",
   "execution_count": 31,
   "metadata": {
    "ExecuteTime": {
     "end_time": "2021-05-12T01:52:04.827439Z",
     "start_time": "2021-05-12T01:52:04.814863Z"
    }
   },
   "outputs": [],
   "source": [
    "products_data_4 = products_data_3.copy()"
   ]
  },
  {
   "cell_type": "code",
   "execution_count": 32,
   "metadata": {
    "ExecuteTime": {
     "end_time": "2021-05-12T01:52:04.840487Z",
     "start_time": "2021-05-12T01:52:04.829761Z"
    }
   },
   "outputs": [],
   "source": [
    "# https://gaurav5430.medium.com/using-nltk-for-lemmatizing-sentences-c1bfff963258\n",
    "lemmatizer = WordNetLemmatizer()\n",
    "\n",
    "# function to convert nltk tag to wordnet tag\n",
    "def nltk_tag_to_wordnet_tag(nltk_tag):\n",
    "    if nltk_tag.startswith('J'):\n",
    "        return wordnet.ADJ\n",
    "    elif nltk_tag.startswith('V'):\n",
    "        return wordnet.VERB\n",
    "    elif nltk_tag.startswith('N'):\n",
    "        return wordnet.NOUN\n",
    "    elif nltk_tag.startswith('R'):\n",
    "        return wordnet.ADV\n",
    "    else:          \n",
    "        return None\n",
    "\n",
    "def lemmatize_sentence(sentence):\n",
    "    #tokenize the sentence and find the POS tag for each token\n",
    "    nltk_tagged = nltk.pos_tag(word_tokenize(sentence))  \n",
    "    #tuple of (token, wordnet_tag)\n",
    "    wordnet_tagged = map(lambda x: (x[0], nltk_tag_to_wordnet_tag(x[1])), nltk_tagged)\n",
    "    lemmatized_sentence = []\n",
    "    for word, tag in wordnet_tagged:\n",
    "        if tag is None:\n",
    "            #if there is no available tag, append the token as is\n",
    "            lemmatized_sentence.append(word)\n",
    "        else:        \n",
    "            #else use the tag to lemmatize the token\n",
    "            lemmatized_sentence.append(lemmatizer.lemmatize(word, tag))\n",
    "    return ' '.join(lemmatized_sentence)"
   ]
  },
  {
   "cell_type": "code",
   "execution_count": 33,
   "metadata": {
    "ExecuteTime": {
     "end_time": "2021-05-12T01:58:01.272427Z",
     "start_time": "2021-05-12T01:52:04.843451Z"
    },
    "scrolled": true
   },
   "outputs": [],
   "source": [
    "for col in col_list:\n",
    "    products_data_4[col] = products_data_4[col].apply(lambda x: lemmatize_sentence(x))"
   ]
  },
  {
   "cell_type": "code",
   "execution_count": 34,
   "metadata": {
    "ExecuteTime": {
     "end_time": "2021-05-12T01:58:01.281479Z",
     "start_time": "2021-05-12T01:58:01.274387Z"
    }
   },
   "outputs": [
    {
     "data": {
      "text/plain": [
       "'signature khadi shirt available black white easy wear beach city promise top go warm weather item perfect blazer hand loom woven stripe khadi cotton slightly sheer get soft every wash ship first week april color white black length width one size fit grid khadi cotton'"
      ]
     },
     "execution_count": 34,
     "metadata": {},
     "output_type": "execute_result"
    }
   ],
   "source": [
    "products_data_4['description'][0]"
   ]
  },
  {
   "cell_type": "code",
   "execution_count": 35,
   "metadata": {
    "ExecuteTime": {
     "end_time": "2021-05-12T01:58:01.299203Z",
     "start_time": "2021-05-12T01:58:01.284014Z"
    }
   },
   "outputs": [
    {
     "data": {
      "text/html": [
       "<div>\n",
       "<style scoped>\n",
       "    .dataframe tbody tr th:only-of-type {\n",
       "        vertical-align: middle;\n",
       "    }\n",
       "\n",
       "    .dataframe tbody tr th {\n",
       "        vertical-align: top;\n",
       "    }\n",
       "\n",
       "    .dataframe thead th {\n",
       "        text-align: right;\n",
       "    }\n",
       "</style>\n",
       "<table border=\"1\" class=\"dataframe\">\n",
       "  <thead>\n",
       "    <tr style=\"text-align: right;\">\n",
       "      <th></th>\n",
       "      <th>product_id</th>\n",
       "      <th>brand</th>\n",
       "      <th>brand_category</th>\n",
       "      <th>name</th>\n",
       "      <th>details</th>\n",
       "      <th>description</th>\n",
       "      <th>brand_description</th>\n",
       "      <th>brand_name</th>\n",
       "    </tr>\n",
       "  </thead>\n",
       "  <tbody>\n",
       "    <tr>\n",
       "      <th>0</th>\n",
       "      <td>01EX0PN4J9WRNZH5F93YEX6QAF</td>\n",
       "      <td>two</td>\n",
       "      <td>unknown</td>\n",
       "      <td>khadi stripe shirt signature shirt</td>\n",
       "      <td>unknown</td>\n",
       "      <td>signature khadi shirt available black white ea...</td>\n",
       "      <td>signature khadi shirt available black white ea...</td>\n",
       "      <td>khadi stripe shirt signature shirt</td>\n",
       "    </tr>\n",
       "    <tr>\n",
       "      <th>1</th>\n",
       "      <td>01F0C4SKZV6YXS3265JMC39NXW</td>\n",
       "      <td>collina strada</td>\n",
       "      <td>unknown</td>\n",
       "      <td>ruffle market dress loopy pink sistine tomato</td>\n",
       "      <td>unknown</td>\n",
       "      <td>mid length dress ruffle adjustable strap bias ...</td>\n",
       "      <td>mid length dress ruffle adjustable strap bias ...</td>\n",
       "      <td>ruffle market dress loopy pink sistine tomato</td>\n",
       "    </tr>\n",
       "    <tr>\n",
       "      <th>2</th>\n",
       "      <td>01EY4Y1BW8VZW51BWG5VZY82XW</td>\n",
       "      <td>cariuma</td>\n",
       "      <td>unknown</td>\n",
       "      <td>ibi slip raw red knit sneaker woman</td>\n",
       "      <td>unknown</td>\n",
       "      <td>ibi slip raw red knit sneaker woman</td>\n",
       "      <td>ibi slip raw red knit sneaker woman</td>\n",
       "      <td>ibi slip raw red knit sneaker woman</td>\n",
       "    </tr>\n",
       "    <tr>\n",
       "      <th>3</th>\n",
       "      <td>01EY50E27A0P5V6KCW01XPDB43</td>\n",
       "      <td>cariuma</td>\n",
       "      <td>unknown</td>\n",
       "      <td>ibi slip black knit sneaker woman</td>\n",
       "      <td>unknown</td>\n",
       "      <td>ibi slip black knit sneaker woman</td>\n",
       "      <td>ibi slip black knit sneaker woman</td>\n",
       "      <td>ibi slip black knit sneaker woman</td>\n",
       "    </tr>\n",
       "    <tr>\n",
       "      <th>4</th>\n",
       "      <td>01EY6DWHC2W5HPNEGXKEJ4A1CX</td>\n",
       "      <td>cariuma</td>\n",
       "      <td>unknown</td>\n",
       "      <td>catiba pro skate black suede canvas contrast t...</td>\n",
       "      <td>unknown</td>\n",
       "      <td>unknown</td>\n",
       "      <td>unknown</td>\n",
       "      <td>catiba pro skate black suede canvas contrast t...</td>\n",
       "    </tr>\n",
       "  </tbody>\n",
       "</table>\n",
       "</div>"
      ],
      "text/plain": [
       "                   product_id           brand brand_category  \\\n",
       "0  01EX0PN4J9WRNZH5F93YEX6QAF             two        unknown   \n",
       "1  01F0C4SKZV6YXS3265JMC39NXW  collina strada        unknown   \n",
       "2  01EY4Y1BW8VZW51BWG5VZY82XW         cariuma        unknown   \n",
       "3  01EY50E27A0P5V6KCW01XPDB43         cariuma        unknown   \n",
       "4  01EY6DWHC2W5HPNEGXKEJ4A1CX         cariuma        unknown   \n",
       "\n",
       "                                                name  details  \\\n",
       "0                 khadi stripe shirt signature shirt  unknown   \n",
       "1      ruffle market dress loopy pink sistine tomato  unknown   \n",
       "2                ibi slip raw red knit sneaker woman  unknown   \n",
       "3                  ibi slip black knit sneaker woman  unknown   \n",
       "4  catiba pro skate black suede canvas contrast t...  unknown   \n",
       "\n",
       "                                         description  \\\n",
       "0  signature khadi shirt available black white ea...   \n",
       "1  mid length dress ruffle adjustable strap bias ...   \n",
       "2                ibi slip raw red knit sneaker woman   \n",
       "3                  ibi slip black knit sneaker woman   \n",
       "4                                            unknown   \n",
       "\n",
       "                                   brand_description  \\\n",
       "0  signature khadi shirt available black white ea...   \n",
       "1  mid length dress ruffle adjustable strap bias ...   \n",
       "2                ibi slip raw red knit sneaker woman   \n",
       "3                  ibi slip black knit sneaker woman   \n",
       "4                                            unknown   \n",
       "\n",
       "                                          brand_name  \n",
       "0                 khadi stripe shirt signature shirt  \n",
       "1      ruffle market dress loopy pink sistine tomato  \n",
       "2                ibi slip raw red knit sneaker woman  \n",
       "3                  ibi slip black knit sneaker woman  \n",
       "4  catiba pro skate black suede canvas contrast t...  "
      ]
     },
     "execution_count": 35,
     "metadata": {},
     "output_type": "execute_result"
    }
   ],
   "source": [
    "products_data_4.head()"
   ]
  },
  {
   "cell_type": "markdown",
   "metadata": {},
   "source": [
    "### Feature engineering"
   ]
  },
  {
   "cell_type": "markdown",
   "metadata": {},
   "source": [
    "I don't use extra data files but use `product_data` only in this project."
   ]
  },
  {
   "cell_type": "markdown",
   "metadata": {},
   "source": [
    "### Embeddings and Model"
   ]
  },
  {
   "cell_type": "code",
   "execution_count": 36,
   "metadata": {
    "ExecuteTime": {
     "end_time": "2021-05-12T01:58:01.316633Z",
     "start_time": "2021-05-12T01:58:01.301726Z"
    }
   },
   "outputs": [],
   "source": [
    "products_data_5 = products_data_4.copy()"
   ]
  },
  {
   "cell_type": "markdown",
   "metadata": {},
   "source": [
    "Combine the colomn details and description together."
   ]
  },
  {
   "cell_type": "code",
   "execution_count": 37,
   "metadata": {
    "ExecuteTime": {
     "end_time": "2021-05-12T01:58:01.370345Z",
     "start_time": "2021-05-12T01:58:01.319791Z"
    }
   },
   "outputs": [],
   "source": [
    "products_data_5['details+description'] = products_data_5['details'] + \" \" + products_data_5['description']"
   ]
  },
  {
   "cell_type": "code",
   "execution_count": 38,
   "metadata": {
    "ExecuteTime": {
     "end_time": "2021-05-12T01:58:01.388254Z",
     "start_time": "2021-05-12T01:58:01.372326Z"
    }
   },
   "outputs": [
    {
     "data": {
      "text/html": [
       "<div>\n",
       "<style scoped>\n",
       "    .dataframe tbody tr th:only-of-type {\n",
       "        vertical-align: middle;\n",
       "    }\n",
       "\n",
       "    .dataframe tbody tr th {\n",
       "        vertical-align: top;\n",
       "    }\n",
       "\n",
       "    .dataframe thead th {\n",
       "        text-align: right;\n",
       "    }\n",
       "</style>\n",
       "<table border=\"1\" class=\"dataframe\">\n",
       "  <thead>\n",
       "    <tr style=\"text-align: right;\">\n",
       "      <th></th>\n",
       "      <th>product_id</th>\n",
       "      <th>brand</th>\n",
       "      <th>brand_category</th>\n",
       "      <th>name</th>\n",
       "      <th>details</th>\n",
       "      <th>description</th>\n",
       "      <th>brand_description</th>\n",
       "      <th>brand_name</th>\n",
       "      <th>details+description</th>\n",
       "    </tr>\n",
       "  </thead>\n",
       "  <tbody>\n",
       "    <tr>\n",
       "      <th>0</th>\n",
       "      <td>01EX0PN4J9WRNZH5F93YEX6QAF</td>\n",
       "      <td>two</td>\n",
       "      <td>unknown</td>\n",
       "      <td>khadi stripe shirt signature shirt</td>\n",
       "      <td>unknown</td>\n",
       "      <td>signature khadi shirt available black white ea...</td>\n",
       "      <td>signature khadi shirt available black white ea...</td>\n",
       "      <td>khadi stripe shirt signature shirt</td>\n",
       "      <td>unknown signature khadi shirt available black ...</td>\n",
       "    </tr>\n",
       "    <tr>\n",
       "      <th>1</th>\n",
       "      <td>01F0C4SKZV6YXS3265JMC39NXW</td>\n",
       "      <td>collina strada</td>\n",
       "      <td>unknown</td>\n",
       "      <td>ruffle market dress loopy pink sistine tomato</td>\n",
       "      <td>unknown</td>\n",
       "      <td>mid length dress ruffle adjustable strap bias ...</td>\n",
       "      <td>mid length dress ruffle adjustable strap bias ...</td>\n",
       "      <td>ruffle market dress loopy pink sistine tomato</td>\n",
       "      <td>unknown mid length dress ruffle adjustable str...</td>\n",
       "    </tr>\n",
       "    <tr>\n",
       "      <th>2</th>\n",
       "      <td>01EY4Y1BW8VZW51BWG5VZY82XW</td>\n",
       "      <td>cariuma</td>\n",
       "      <td>unknown</td>\n",
       "      <td>ibi slip raw red knit sneaker woman</td>\n",
       "      <td>unknown</td>\n",
       "      <td>ibi slip raw red knit sneaker woman</td>\n",
       "      <td>ibi slip raw red knit sneaker woman</td>\n",
       "      <td>ibi slip raw red knit sneaker woman</td>\n",
       "      <td>unknown ibi slip raw red knit sneaker woman</td>\n",
       "    </tr>\n",
       "    <tr>\n",
       "      <th>3</th>\n",
       "      <td>01EY50E27A0P5V6KCW01XPDB43</td>\n",
       "      <td>cariuma</td>\n",
       "      <td>unknown</td>\n",
       "      <td>ibi slip black knit sneaker woman</td>\n",
       "      <td>unknown</td>\n",
       "      <td>ibi slip black knit sneaker woman</td>\n",
       "      <td>ibi slip black knit sneaker woman</td>\n",
       "      <td>ibi slip black knit sneaker woman</td>\n",
       "      <td>unknown ibi slip black knit sneaker woman</td>\n",
       "    </tr>\n",
       "    <tr>\n",
       "      <th>4</th>\n",
       "      <td>01EY6DWHC2W5HPNEGXKEJ4A1CX</td>\n",
       "      <td>cariuma</td>\n",
       "      <td>unknown</td>\n",
       "      <td>catiba pro skate black suede canvas contrast t...</td>\n",
       "      <td>unknown</td>\n",
       "      <td>unknown</td>\n",
       "      <td>unknown</td>\n",
       "      <td>catiba pro skate black suede canvas contrast t...</td>\n",
       "      <td>unknown unknown</td>\n",
       "    </tr>\n",
       "  </tbody>\n",
       "</table>\n",
       "</div>"
      ],
      "text/plain": [
       "                   product_id           brand brand_category  \\\n",
       "0  01EX0PN4J9WRNZH5F93YEX6QAF             two        unknown   \n",
       "1  01F0C4SKZV6YXS3265JMC39NXW  collina strada        unknown   \n",
       "2  01EY4Y1BW8VZW51BWG5VZY82XW         cariuma        unknown   \n",
       "3  01EY50E27A0P5V6KCW01XPDB43         cariuma        unknown   \n",
       "4  01EY6DWHC2W5HPNEGXKEJ4A1CX         cariuma        unknown   \n",
       "\n",
       "                                                name  details  \\\n",
       "0                 khadi stripe shirt signature shirt  unknown   \n",
       "1      ruffle market dress loopy pink sistine tomato  unknown   \n",
       "2                ibi slip raw red knit sneaker woman  unknown   \n",
       "3                  ibi slip black knit sneaker woman  unknown   \n",
       "4  catiba pro skate black suede canvas contrast t...  unknown   \n",
       "\n",
       "                                         description  \\\n",
       "0  signature khadi shirt available black white ea...   \n",
       "1  mid length dress ruffle adjustable strap bias ...   \n",
       "2                ibi slip raw red knit sneaker woman   \n",
       "3                  ibi slip black knit sneaker woman   \n",
       "4                                            unknown   \n",
       "\n",
       "                                   brand_description  \\\n",
       "0  signature khadi shirt available black white ea...   \n",
       "1  mid length dress ruffle adjustable strap bias ...   \n",
       "2                ibi slip raw red knit sneaker woman   \n",
       "3                  ibi slip black knit sneaker woman   \n",
       "4                                            unknown   \n",
       "\n",
       "                                          brand_name  \\\n",
       "0                 khadi stripe shirt signature shirt   \n",
       "1      ruffle market dress loopy pink sistine tomato   \n",
       "2                ibi slip raw red knit sneaker woman   \n",
       "3                  ibi slip black knit sneaker woman   \n",
       "4  catiba pro skate black suede canvas contrast t...   \n",
       "\n",
       "                                 details+description  \n",
       "0  unknown signature khadi shirt available black ...  \n",
       "1  unknown mid length dress ruffle adjustable str...  \n",
       "2        unknown ibi slip raw red knit sneaker woman  \n",
       "3          unknown ibi slip black knit sneaker woman  \n",
       "4                                    unknown unknown  "
      ]
     },
     "execution_count": 38,
     "metadata": {},
     "output_type": "execute_result"
    }
   ],
   "source": [
    "products_data_5.head()"
   ]
  },
  {
   "cell_type": "code",
   "execution_count": 39,
   "metadata": {
    "ExecuteTime": {
     "end_time": "2021-05-12T01:58:01.424794Z",
     "start_time": "2021-05-12T01:58:01.390663Z"
    }
   },
   "outputs": [],
   "source": [
    "products_data_6 = products_data_5[['brand', 'brand_category', 'name', 'details', \n",
    "                                   'description', 'details+description']]"
   ]
  },
  {
   "cell_type": "code",
   "execution_count": 40,
   "metadata": {
    "ExecuteTime": {
     "end_time": "2021-05-12T01:58:01.437074Z",
     "start_time": "2021-05-12T01:58:01.426783Z"
    },
    "scrolled": true
   },
   "outputs": [
    {
     "data": {
      "text/html": [
       "<div>\n",
       "<style scoped>\n",
       "    .dataframe tbody tr th:only-of-type {\n",
       "        vertical-align: middle;\n",
       "    }\n",
       "\n",
       "    .dataframe tbody tr th {\n",
       "        vertical-align: top;\n",
       "    }\n",
       "\n",
       "    .dataframe thead th {\n",
       "        text-align: right;\n",
       "    }\n",
       "</style>\n",
       "<table border=\"1\" class=\"dataframe\">\n",
       "  <thead>\n",
       "    <tr style=\"text-align: right;\">\n",
       "      <th></th>\n",
       "      <th>brand</th>\n",
       "      <th>brand_category</th>\n",
       "      <th>name</th>\n",
       "      <th>details</th>\n",
       "      <th>description</th>\n",
       "      <th>details+description</th>\n",
       "    </tr>\n",
       "  </thead>\n",
       "  <tbody>\n",
       "    <tr>\n",
       "      <th>0</th>\n",
       "      <td>two</td>\n",
       "      <td>unknown</td>\n",
       "      <td>khadi stripe shirt signature shirt</td>\n",
       "      <td>unknown</td>\n",
       "      <td>signature khadi shirt available black white ea...</td>\n",
       "      <td>unknown signature khadi shirt available black ...</td>\n",
       "    </tr>\n",
       "    <tr>\n",
       "      <th>1</th>\n",
       "      <td>collina strada</td>\n",
       "      <td>unknown</td>\n",
       "      <td>ruffle market dress loopy pink sistine tomato</td>\n",
       "      <td>unknown</td>\n",
       "      <td>mid length dress ruffle adjustable strap bias ...</td>\n",
       "      <td>unknown mid length dress ruffle adjustable str...</td>\n",
       "    </tr>\n",
       "    <tr>\n",
       "      <th>2</th>\n",
       "      <td>cariuma</td>\n",
       "      <td>unknown</td>\n",
       "      <td>ibi slip raw red knit sneaker woman</td>\n",
       "      <td>unknown</td>\n",
       "      <td>ibi slip raw red knit sneaker woman</td>\n",
       "      <td>unknown ibi slip raw red knit sneaker woman</td>\n",
       "    </tr>\n",
       "    <tr>\n",
       "      <th>3</th>\n",
       "      <td>cariuma</td>\n",
       "      <td>unknown</td>\n",
       "      <td>ibi slip black knit sneaker woman</td>\n",
       "      <td>unknown</td>\n",
       "      <td>ibi slip black knit sneaker woman</td>\n",
       "      <td>unknown ibi slip black knit sneaker woman</td>\n",
       "    </tr>\n",
       "    <tr>\n",
       "      <th>4</th>\n",
       "      <td>cariuma</td>\n",
       "      <td>unknown</td>\n",
       "      <td>catiba pro skate black suede canvas contrast t...</td>\n",
       "      <td>unknown</td>\n",
       "      <td>unknown</td>\n",
       "      <td>unknown unknown</td>\n",
       "    </tr>\n",
       "  </tbody>\n",
       "</table>\n",
       "</div>"
      ],
      "text/plain": [
       "            brand brand_category  \\\n",
       "0             two        unknown   \n",
       "1  collina strada        unknown   \n",
       "2         cariuma        unknown   \n",
       "3         cariuma        unknown   \n",
       "4         cariuma        unknown   \n",
       "\n",
       "                                                name  details  \\\n",
       "0                 khadi stripe shirt signature shirt  unknown   \n",
       "1      ruffle market dress loopy pink sistine tomato  unknown   \n",
       "2                ibi slip raw red knit sneaker woman  unknown   \n",
       "3                  ibi slip black knit sneaker woman  unknown   \n",
       "4  catiba pro skate black suede canvas contrast t...  unknown   \n",
       "\n",
       "                                         description  \\\n",
       "0  signature khadi shirt available black white ea...   \n",
       "1  mid length dress ruffle adjustable strap bias ...   \n",
       "2                ibi slip raw red knit sneaker woman   \n",
       "3                  ibi slip black knit sneaker woman   \n",
       "4                                            unknown   \n",
       "\n",
       "                                 details+description  \n",
       "0  unknown signature khadi shirt available black ...  \n",
       "1  unknown mid length dress ruffle adjustable str...  \n",
       "2        unknown ibi slip raw red knit sneaker woman  \n",
       "3          unknown ibi slip black knit sneaker woman  \n",
       "4                                    unknown unknown  "
      ]
     },
     "execution_count": 40,
     "metadata": {},
     "output_type": "execute_result"
    }
   ],
   "source": [
    "products_data_6.head()"
   ]
  },
  {
   "cell_type": "code",
   "execution_count": 41,
   "metadata": {
    "ExecuteTime": {
     "end_time": "2021-05-12T01:58:01.448030Z",
     "start_time": "2021-05-12T01:58:01.438861Z"
    }
   },
   "outputs": [],
   "source": [
    "details_description_doc = list(products_data_6['details+description'])"
   ]
  },
  {
   "cell_type": "code",
   "execution_count": 42,
   "metadata": {
    "ExecuteTime": {
     "end_time": "2021-05-12T01:58:03.200064Z",
     "start_time": "2021-05-12T01:58:01.449703Z"
    }
   },
   "outputs": [],
   "source": [
    "# so this means that all tokens that are not found in the vocabulary are going to be marked as UNKNOWN_TOKEN\n",
    "tokenizer = Tokenizer(num_words=5000, oov_token=\"UNKNOWN_TOKEN\")\n",
    "tokenizer.fit_on_texts(details_description_doc)"
   ]
  },
  {
   "cell_type": "code",
   "execution_count": 43,
   "metadata": {
    "ExecuteTime": {
     "end_time": "2021-05-12T01:58:04.415678Z",
     "start_time": "2021-05-12T01:58:03.201897Z"
    }
   },
   "outputs": [],
   "source": [
    "def integer_encode_documents(docs, tokenizer):\n",
    "    return tokenizer.texts_to_sequences(docs)\n",
    "\n",
    "# integer encode the documents\n",
    "encoded_docs = integer_encode_documents(details_description_doc, tokenizer)"
   ]
  },
  {
   "cell_type": "code",
   "execution_count": 44,
   "metadata": {
    "ExecuteTime": {
     "end_time": "2021-05-12T01:58:04.420514Z",
     "start_time": "2021-05-12T01:58:04.417824Z"
    }
   },
   "outputs": [],
   "source": [
    "MAX_SEQUENCE_LENGTH = 64"
   ]
  },
  {
   "cell_type": "code",
   "execution_count": 45,
   "metadata": {
    "ExecuteTime": {
     "end_time": "2021-05-12T01:58:04.732495Z",
     "start_time": "2021-05-12T01:58:04.423238Z"
    },
    "scrolled": false
   },
   "outputs": [
    {
     "data": {
      "text/plain": [
       "(61355, 64)"
      ]
     },
     "execution_count": 45,
     "metadata": {},
     "output_type": "execute_result"
    }
   ],
   "source": [
    "padded_docs = pad_sequences(encoded_docs, maxlen=MAX_SEQUENCE_LENGTH, padding='post')\n",
    "padded_docs.shape"
   ]
  },
  {
   "cell_type": "markdown",
   "metadata": {},
   "source": [
    "Find out the top 30 bands and set other brands as 'others'"
   ]
  },
  {
   "cell_type": "code",
   "execution_count": 46,
   "metadata": {
    "ExecuteTime": {
     "end_time": "2021-05-12T01:58:04.746240Z",
     "start_time": "2021-05-12T01:58:04.734437Z"
    }
   },
   "outputs": [
    {
     "data": {
      "text/plain": [
       "mankind                 9011\n",
       "rail                    2864\n",
       "intentionally blank     2534\n",
       "l c                     2092\n",
       "rachel comey            2081\n",
       "misa                    2030\n",
       "studio                  1956\n",
       "astr label              1942\n",
       "lemlem                  1821\n",
       "simon miller            1451\n",
       "cynthia rowley          1347\n",
       "outerknown              1338\n",
       "chufy                   1209\n",
       "faherty                 1204\n",
       "lafleur                 1192\n",
       "janessa leone           1119\n",
       "arak                    1081\n",
       "sea                     1053\n",
       "brochu walker           1001\n",
       "tanya taylor             991\n",
       "clare v                  922\n",
       "nili lotan               717\n",
       "le girl le boy           695\n",
       "prism                    667\n",
       "sandy liang              663\n",
       "nan                      652\n",
       "ancient greek sandal     618\n",
       "alo yoga                 525\n",
       "collina strada           501\n",
       "whit                     489\n",
       "Name: brand, dtype: int64"
      ]
     },
     "execution_count": 46,
     "metadata": {},
     "output_type": "execute_result"
    }
   ],
   "source": [
    "products_data_6['brand'].value_counts()[:30]"
   ]
  },
  {
   "cell_type": "code",
   "execution_count": 47,
   "metadata": {
    "ExecuteTime": {
     "end_time": "2021-05-12T01:58:04.758141Z",
     "start_time": "2021-05-12T01:58:04.748122Z"
    }
   },
   "outputs": [
    {
     "data": {
      "text/plain": [
       "Index(['mankind', 'rail', 'intentionally blank', 'l c', 'rachel comey', 'misa',\n",
       "       'studio', 'astr label', 'lemlem', 'simon miller', 'cynthia rowley',\n",
       "       'outerknown', 'chufy', 'faherty', 'lafleur', 'janessa leone', 'arak',\n",
       "       'sea', 'brochu walker', 'tanya taylor', 'clare v', 'nili lotan',\n",
       "       'le girl le boy', 'prism', 'sandy liang', 'nan', 'ancient greek sandal',\n",
       "       'alo yoga', 'collina strada', 'whit'],\n",
       "      dtype='object')"
      ]
     },
     "execution_count": 47,
     "metadata": {},
     "output_type": "execute_result"
    }
   ],
   "source": [
    "label_lst = products_data_6['brand'].value_counts().index\n",
    "label_lst = label_lst[:30]\n",
    "label_lst"
   ]
  },
  {
   "cell_type": "code",
   "execution_count": 48,
   "metadata": {
    "ExecuteTime": {
     "end_time": "2021-05-12T01:58:04.786859Z",
     "start_time": "2021-05-12T01:58:04.759514Z"
    }
   },
   "outputs": [],
   "source": [
    "labels = [label if label in label_lst else 'others' for label in products_data_6['brand']]"
   ]
  },
  {
   "cell_type": "code",
   "execution_count": 49,
   "metadata": {
    "ExecuteTime": {
     "end_time": "2021-05-12T01:58:04.827027Z",
     "start_time": "2021-05-12T01:58:04.788661Z"
    }
   },
   "outputs": [],
   "source": [
    "encoder = LabelEncoder()\n",
    "labels = to_categorical(encoder.fit_transform(labels))"
   ]
  },
  {
   "cell_type": "code",
   "execution_count": 50,
   "metadata": {
    "ExecuteTime": {
     "end_time": "2021-05-12T01:58:04.860596Z",
     "start_time": "2021-05-12T01:58:04.828613Z"
    }
   },
   "outputs": [],
   "source": [
    "X_train, X_test, y_train, y_test = train_test_split(padded_docs, labels, test_size=0.2)"
   ]
  },
  {
   "cell_type": "code",
   "execution_count": 51,
   "metadata": {
    "ExecuteTime": {
     "end_time": "2021-05-12T01:58:04.867171Z",
     "start_time": "2021-05-12T01:58:04.862790Z"
    }
   },
   "outputs": [
    {
     "data": {
      "text/plain": [
       "(12271, 64)"
      ]
     },
     "execution_count": 51,
     "metadata": {},
     "output_type": "execute_result"
    }
   ],
   "source": [
    "X_test.shape"
   ]
  },
  {
   "cell_type": "code",
   "execution_count": 52,
   "metadata": {
    "ExecuteTime": {
     "end_time": "2021-05-12T01:58:04.871637Z",
     "start_time": "2021-05-12T01:58:04.868938Z"
    }
   },
   "outputs": [],
   "source": [
    "VOCAB_SIZE = int(len(tokenizer.word_index) * 1.1)"
   ]
  },
  {
   "cell_type": "code",
   "execution_count": 53,
   "metadata": {
    "ExecuteTime": {
     "end_time": "2021-05-12T01:58:14.184755Z",
     "start_time": "2021-05-12T01:58:04.874395Z"
    }
   },
   "outputs": [
    {
     "name": "stdout",
     "output_type": "stream",
     "text": [
      "Loaded 400000 word vectors.\n"
     ]
    }
   ],
   "source": [
    "def load_glove_vectors():\n",
    "    embeddings_index = {}\n",
    "    with open('glove.6B.100d.txt') as f:\n",
    "        for line in f:\n",
    "            values = line.split()\n",
    "            word = values[0]\n",
    "            coefs = asarray(values[1:], dtype='float32')\n",
    "            embeddings_index[word] = coefs\n",
    "    print('Loaded %s word vectors.' % len(embeddings_index))\n",
    "    return embeddings_index\n",
    "\n",
    "\n",
    "embeddings_index = load_glove_vectors()"
   ]
  },
  {
   "cell_type": "code",
   "execution_count": 54,
   "metadata": {
    "ExecuteTime": {
     "end_time": "2021-05-12T01:58:14.251732Z",
     "start_time": "2021-05-12T01:58:14.188184Z"
    }
   },
   "outputs": [],
   "source": [
    "# create a weight matrix for words in training docs\n",
    "embedding_matrix = zeros((VOCAB_SIZE, 100))\n",
    "for word, i in tokenizer.word_index.items():\n",
    "    embedding_vector = embeddings_index.get(word)\n",
    "    if embedding_vector is not None: # check that it is an actual word that we have embeddings for\n",
    "        embedding_matrix[i] = embedding_vector"
   ]
  },
  {
   "cell_type": "code",
   "execution_count": 55,
   "metadata": {
    "ExecuteTime": {
     "end_time": "2021-05-12T01:58:14.259217Z",
     "start_time": "2021-05-12T01:58:14.253380Z"
    }
   },
   "outputs": [],
   "source": [
    "def make_lstm_classification_model(plot=False):\n",
    "    model =  keras.models.Sequential()\n",
    "    model.add(Embedding(VOCAB_SIZE, 100, weights=[embedding_matrix], \n",
    "                        input_length=MAX_SEQUENCE_LENGTH, trainable=False))\n",
    "    model.add(Masking(mask_value=0.0)) # masking layer, masks any words that don't have an embedding as 0s.\n",
    "    model.add(LSTM(units=32, input_shape=(1, MAX_SEQUENCE_LENGTH)))\n",
    "    model.add(Dense(16))\n",
    "    model.add(Dense(31, activation='softmax'))\n",
    "    \n",
    "    # Compile the model\n",
    "    model.compile(\n",
    "    optimizer='adam', loss='categorical_crossentropy', metrics=['accuracy'])\n",
    "    # summarize the model\n",
    "    model.summary()\n",
    "    \n",
    "    if plot:\n",
    "        plot_model(model, to_file='model.png', show_shapes=True)\n",
    "    return model"
   ]
  },
  {
   "cell_type": "code",
   "execution_count": 56,
   "metadata": {
    "ExecuteTime": {
     "end_time": "2021-05-12T01:58:15.147106Z",
     "start_time": "2021-05-12T01:58:14.261636Z"
    },
    "scrolled": false
   },
   "outputs": [
    {
     "name": "stdout",
     "output_type": "stream",
     "text": [
      "Model: \"sequential\"\n",
      "_________________________________________________________________\n",
      "Layer (type)                 Output Shape              Param #   \n",
      "=================================================================\n",
      "embedding (Embedding)        (None, 64, 100)           2902000   \n",
      "_________________________________________________________________\n",
      "masking (Masking)            (None, 64, 100)           0         \n",
      "_________________________________________________________________\n",
      "lstm (LSTM)                  (None, 32)                17024     \n",
      "_________________________________________________________________\n",
      "dense (Dense)                (None, 16)                528       \n",
      "_________________________________________________________________\n",
      "dense_1 (Dense)              (None, 31)                527       \n",
      "=================================================================\n",
      "Total params: 2,920,079\n",
      "Trainable params: 18,079\n",
      "Non-trainable params: 2,902,000\n",
      "_________________________________________________________________\n"
     ]
    }
   ],
   "source": [
    "model = make_lstm_classification_model()"
   ]
  },
  {
   "cell_type": "code",
   "execution_count": 57,
   "metadata": {
    "ExecuteTime": {
     "end_time": "2021-05-12T02:10:00.122996Z",
     "start_time": "2021-05-12T01:58:15.149366Z"
    }
   },
   "outputs": [
    {
     "name": "stdout",
     "output_type": "stream",
     "text": [
      "Epoch 1/20\n",
      "1381/1381 [==============================] - 37s 27ms/step - loss: 1.4858 - accuracy: 0.6211 - val_loss: 0.9538 - val_accuracy: 0.7539\n",
      "Epoch 2/20\n",
      "1381/1381 [==============================] - 36s 26ms/step - loss: 0.7637 - accuracy: 0.8072 - val_loss: 0.6712 - val_accuracy: 0.8358\n",
      "Epoch 3/20\n",
      "1381/1381 [==============================] - 35s 25ms/step - loss: 0.5883 - accuracy: 0.8529 - val_loss: 0.5631 - val_accuracy: 0.8645\n",
      "Epoch 4/20\n",
      "1381/1381 [==============================] - 35s 25ms/step - loss: 0.5020 - accuracy: 0.8739 - val_loss: 0.5113 - val_accuracy: 0.8749\n",
      "Epoch 5/20\n",
      "1381/1381 [==============================] - 35s 25ms/step - loss: 0.4529 - accuracy: 0.8860 - val_loss: 0.4678 - val_accuracy: 0.8847\n",
      "Epoch 6/20\n",
      "1381/1381 [==============================] - 35s 25ms/step - loss: 0.4134 - accuracy: 0.8958 - val_loss: 0.4547 - val_accuracy: 0.8880\n",
      "Epoch 7/20\n",
      "1381/1381 [==============================] - 37s 26ms/step - loss: 0.3897 - accuracy: 0.9013 - val_loss: 0.4378 - val_accuracy: 0.8920\n",
      "Epoch 8/20\n",
      "1381/1381 [==============================] - 35s 25ms/step - loss: 0.3651 - accuracy: 0.9080 - val_loss: 0.4159 - val_accuracy: 0.8981\n",
      "Epoch 9/20\n",
      "1381/1381 [==============================] - 35s 25ms/step - loss: 0.3519 - accuracy: 0.9112 - val_loss: 0.4211 - val_accuracy: 0.8949\n",
      "Epoch 10/20\n",
      "1381/1381 [==============================] - 35s 25ms/step - loss: 0.3319 - accuracy: 0.9148 - val_loss: 0.4155 - val_accuracy: 0.8983\n",
      "Epoch 11/20\n",
      "1381/1381 [==============================] - 35s 25ms/step - loss: 0.3211 - accuracy: 0.9177 - val_loss: 0.4065 - val_accuracy: 0.9004\n",
      "Epoch 12/20\n",
      "1381/1381 [==============================] - 35s 25ms/step - loss: 0.3082 - accuracy: 0.9214 - val_loss: 0.4156 - val_accuracy: 0.8994\n",
      "Epoch 13/20\n",
      "1381/1381 [==============================] - 35s 25ms/step - loss: 0.2983 - accuracy: 0.9242 - val_loss: 0.4104 - val_accuracy: 0.9018\n",
      "Epoch 14/20\n",
      "1381/1381 [==============================] - 35s 25ms/step - loss: 0.2941 - accuracy: 0.9243 - val_loss: 0.4082 - val_accuracy: 0.9022\n",
      "Epoch 15/20\n",
      "1381/1381 [==============================] - 35s 25ms/step - loss: 0.2838 - accuracy: 0.9272 - val_loss: 0.4040 - val_accuracy: 0.9045\n",
      "Epoch 16/20\n",
      "1381/1381 [==============================] - 35s 26ms/step - loss: 0.2741 - accuracy: 0.9304 - val_loss: 0.4093 - val_accuracy: 0.9069\n",
      "Epoch 17/20\n",
      "1381/1381 [==============================] - 35s 25ms/step - loss: 0.2750 - accuracy: 0.9291 - val_loss: 0.4135 - val_accuracy: 0.9022\n",
      "Epoch 18/20\n",
      "1381/1381 [==============================] - 35s 25ms/step - loss: 0.2623 - accuracy: 0.9329 - val_loss: 0.4187 - val_accuracy: 0.9041\n",
      "Epoch 19/20\n",
      "1381/1381 [==============================] - 35s 25ms/step - loss: 0.2608 - accuracy: 0.9337 - val_loss: 0.4354 - val_accuracy: 0.9022\n",
      "Epoch 20/20\n",
      "1381/1381 [==============================] - 35s 25ms/step - loss: 0.2591 - accuracy: 0.9337 - val_loss: 0.4371 - val_accuracy: 0.9024\n"
     ]
    }
   ],
   "source": [
    "history = model.fit(X_train, y_train, validation_split=0.1,\n",
    "                    epochs=20, verbose=1)"
   ]
  },
  {
   "cell_type": "code",
   "execution_count": 58,
   "metadata": {
    "ExecuteTime": {
     "end_time": "2021-05-12T02:10:01.995137Z",
     "start_time": "2021-05-12T02:10:00.124825Z"
    }
   },
   "outputs": [
    {
     "name": "stdout",
     "output_type": "stream",
     "text": [
      "384/384 [==============================] - 2s 5ms/step - loss: 0.4426 - accuracy: 0.8968\n",
      "Accuracy: 89.682990\n"
     ]
    }
   ],
   "source": [
    "loss, accuracy = model.evaluate(X_test, y_test, verbose=1)\n",
    "print('Accuracy: %f' % (accuracy*100))"
   ]
  },
  {
   "cell_type": "markdown",
   "metadata": {},
   "source": [
    "## Part 2: Recommendation\n",
    "\n",
    "Create a brand recommender algorithm that would recommend an outfit given a customer’s search query. "
   ]
  },
  {
   "cell_type": "markdown",
   "metadata": {},
   "source": [
    "### Check Out Different Types of Categories"
   ]
  },
  {
   "cell_type": "markdown",
   "metadata": {},
   "source": [
    "First, we checked out the file `outfit_combinations USC.csv` to see the categories."
   ]
  },
  {
   "cell_type": "code",
   "execution_count": 59,
   "metadata": {
    "ExecuteTime": {
     "end_time": "2021-05-12T02:10:02.001194Z",
     "start_time": "2021-05-12T02:10:01.996529Z"
    },
    "scrolled": true
   },
   "outputs": [
    {
     "data": {
      "text/plain": [
       "array(['bottom', 'top', 'accessory1', 'shoe', 'onepiece', 'accessory2',\n",
       "       'accessory3'], dtype=object)"
      ]
     },
     "execution_count": 59,
     "metadata": {},
     "output_type": "execute_result"
    }
   ],
   "source": [
    "outfit['outfit_item_type'].unique()"
   ]
  },
  {
   "cell_type": "markdown",
   "metadata": {},
   "source": [
    "There are three kinds of accessory 'accessory1', 'accessory2', 'accessory3'.\n",
    "\n",
    "The reason for three kinds of accessory was that for each outfit_id, there might be more than one accessories.\n",
    "\n",
    "We renamed three kinds of accessory to 'accessory'. After this step, there should be 5 item types: bottom, top, accessory, shoe, onepiece.\n",
    "\n",
    "We also found out some product in the outfit dataframe may have the wrong category. \n",
    "\n",
    "For example, the item with product_id 01DT0C8NM9KG2EF0A286VZRETE has the name as 'Tank top in Re-Imagined Silk'. The name seemed to indicate that this product belonged to 'top' but the given category was 'accessory1'."
   ]
  },
  {
   "cell_type": "code",
   "execution_count": 60,
   "metadata": {
    "ExecuteTime": {
     "end_time": "2021-05-12T02:10:02.013622Z",
     "start_time": "2021-05-12T02:10:02.002564Z"
    },
    "scrolled": true
   },
   "outputs": [
    {
     "data": {
      "text/html": [
       "<div>\n",
       "<style scoped>\n",
       "    .dataframe tbody tr th:only-of-type {\n",
       "        vertical-align: middle;\n",
       "    }\n",
       "\n",
       "    .dataframe tbody tr th {\n",
       "        vertical-align: top;\n",
       "    }\n",
       "\n",
       "    .dataframe thead th {\n",
       "        text-align: right;\n",
       "    }\n",
       "</style>\n",
       "<table border=\"1\" class=\"dataframe\">\n",
       "  <thead>\n",
       "    <tr style=\"text-align: right;\">\n",
       "      <th></th>\n",
       "      <th>outfit_id</th>\n",
       "      <th>product_id</th>\n",
       "      <th>outfit_item_type</th>\n",
       "      <th>brand</th>\n",
       "      <th>product_full_name</th>\n",
       "    </tr>\n",
       "  </thead>\n",
       "  <tbody>\n",
       "    <tr>\n",
       "      <th>2</th>\n",
       "      <td>01DDBHC62ES5K80P0KYJ56AM2T</td>\n",
       "      <td>01DMBRYVA2S5T9W793F4CY41HE</td>\n",
       "      <td>accessory1</td>\n",
       "      <td>kate spade new york</td>\n",
       "      <td>medium margaux leather satchel</td>\n",
       "    </tr>\n",
       "    <tr>\n",
       "      <th>7</th>\n",
       "      <td>01DMHCX50CFX5YNG99F3Y65GQW</td>\n",
       "      <td>01DMHCNT41E14QWP503V7CT9G6</td>\n",
       "      <td>accessory1</td>\n",
       "      <td>Nina</td>\n",
       "      <td>Crystal Clutch</td>\n",
       "    </tr>\n",
       "    <tr>\n",
       "      <th>10</th>\n",
       "      <td>01DMHRX35M2DPVYVQ1PNER4S4B</td>\n",
       "      <td>01DMHCNT41E14QWP503V7CT9G6</td>\n",
       "      <td>accessory1</td>\n",
       "      <td>Nina</td>\n",
       "      <td>Crystal Clutch</td>\n",
       "    </tr>\n",
       "    <tr>\n",
       "      <th>12</th>\n",
       "      <td>01DMHRYZDTF2NBJ13ZEARKHA3T</td>\n",
       "      <td>01DMBRYVA2S5T9W793F4CY41HE</td>\n",
       "      <td>accessory1</td>\n",
       "      <td>kate spade new york</td>\n",
       "      <td>medium margaux leather satchel</td>\n",
       "    </tr>\n",
       "    <tr>\n",
       "      <th>18</th>\n",
       "      <td>01DQ86EH3GMXAVKNECH2Z6FCSV</td>\n",
       "      <td>01DPGWYTS97KK213K1QNJV6610</td>\n",
       "      <td>accessory1</td>\n",
       "      <td>J.Crew</td>\n",
       "      <td>Bembien® Jeanne leather woven market tote bag</td>\n",
       "    </tr>\n",
       "  </tbody>\n",
       "</table>\n",
       "</div>"
      ],
      "text/plain": [
       "                     outfit_id                  product_id outfit_item_type  \\\n",
       "2   01DDBHC62ES5K80P0KYJ56AM2T  01DMBRYVA2S5T9W793F4CY41HE       accessory1   \n",
       "7   01DMHCX50CFX5YNG99F3Y65GQW  01DMHCNT41E14QWP503V7CT9G6       accessory1   \n",
       "10  01DMHRX35M2DPVYVQ1PNER4S4B  01DMHCNT41E14QWP503V7CT9G6       accessory1   \n",
       "12  01DMHRYZDTF2NBJ13ZEARKHA3T  01DMBRYVA2S5T9W793F4CY41HE       accessory1   \n",
       "18  01DQ86EH3GMXAVKNECH2Z6FCSV  01DPGWYTS97KK213K1QNJV6610       accessory1   \n",
       "\n",
       "                  brand                              product_full_name  \n",
       "2   kate spade new york                 medium margaux leather satchel  \n",
       "7                  Nina                                 Crystal Clutch  \n",
       "10                 Nina                                 Crystal Clutch  \n",
       "12  kate spade new york                 medium margaux leather satchel  \n",
       "18               J.Crew  Bembien® Jeanne leather woven market tote bag  "
      ]
     },
     "execution_count": 60,
     "metadata": {},
     "output_type": "execute_result"
    }
   ],
   "source": [
    "outfit[outfit['outfit_item_type'] == 'accessory1'].head()"
   ]
  },
  {
   "cell_type": "code",
   "execution_count": 61,
   "metadata": {
    "ExecuteTime": {
     "end_time": "2021-05-12T02:10:02.024615Z",
     "start_time": "2021-05-12T02:10:02.015259Z"
    }
   },
   "outputs": [
    {
     "data": {
      "text/html": [
       "<div>\n",
       "<style scoped>\n",
       "    .dataframe tbody tr th:only-of-type {\n",
       "        vertical-align: middle;\n",
       "    }\n",
       "\n",
       "    .dataframe tbody tr th {\n",
       "        vertical-align: top;\n",
       "    }\n",
       "\n",
       "    .dataframe thead th {\n",
       "        text-align: right;\n",
       "    }\n",
       "</style>\n",
       "<table border=\"1\" class=\"dataframe\">\n",
       "  <thead>\n",
       "    <tr style=\"text-align: right;\">\n",
       "      <th></th>\n",
       "      <th>outfit_id</th>\n",
       "      <th>product_id</th>\n",
       "      <th>outfit_item_type</th>\n",
       "      <th>brand</th>\n",
       "      <th>product_full_name</th>\n",
       "    </tr>\n",
       "  </thead>\n",
       "  <tbody>\n",
       "    <tr>\n",
       "      <th>21</th>\n",
       "      <td>01DQ8KWVX1GBJTPTVDAC6NQ9B4</td>\n",
       "      <td>01DPGZWS42TP4NJ1GGF50Z9DZF</td>\n",
       "      <td>accessory2</td>\n",
       "      <td>Veronica Beard</td>\n",
       "      <td>Matteo Dickey Jacket</td>\n",
       "    </tr>\n",
       "    <tr>\n",
       "      <th>30</th>\n",
       "      <td>01DQ8MQAVBFSGHJXCF5JCYJ7A6</td>\n",
       "      <td>01DPKN22N1X0RRJQYAYVTRPD75</td>\n",
       "      <td>accessory2</td>\n",
       "      <td>Reformation</td>\n",
       "      <td>Morgan Sweater</td>\n",
       "    </tr>\n",
       "    <tr>\n",
       "      <th>33</th>\n",
       "      <td>01DQ8NM7YPX63A6V7S0WC8N4X6</td>\n",
       "      <td>01DPH1A23QXSRMGAR9H3FRND2F</td>\n",
       "      <td>accessory2</td>\n",
       "      <td>Sole Society</td>\n",
       "      <td>Ragna Clutch</td>\n",
       "    </tr>\n",
       "    <tr>\n",
       "      <th>41</th>\n",
       "      <td>01DQ8XK5WH02037JGY1NA5W5JS</td>\n",
       "      <td>01DPGVQYVFSBEP5RK51CZTK5YB</td>\n",
       "      <td>accessory2</td>\n",
       "      <td>Frame</td>\n",
       "      <td>Velvet Stand Soutache Jacket</td>\n",
       "    </tr>\n",
       "    <tr>\n",
       "      <th>43</th>\n",
       "      <td>01DQBAVTX4DV62X94VAKV5GCC9</td>\n",
       "      <td>01DPGV73E6KQ1C31G7F1TGAWGB</td>\n",
       "      <td>accessory2</td>\n",
       "      <td>Frame</td>\n",
       "      <td>Patch Pocket Trench</td>\n",
       "    </tr>\n",
       "  </tbody>\n",
       "</table>\n",
       "</div>"
      ],
      "text/plain": [
       "                     outfit_id                  product_id outfit_item_type  \\\n",
       "21  01DQ8KWVX1GBJTPTVDAC6NQ9B4  01DPGZWS42TP4NJ1GGF50Z9DZF       accessory2   \n",
       "30  01DQ8MQAVBFSGHJXCF5JCYJ7A6  01DPKN22N1X0RRJQYAYVTRPD75       accessory2   \n",
       "33  01DQ8NM7YPX63A6V7S0WC8N4X6  01DPH1A23QXSRMGAR9H3FRND2F       accessory2   \n",
       "41  01DQ8XK5WH02037JGY1NA5W5JS  01DPGVQYVFSBEP5RK51CZTK5YB       accessory2   \n",
       "43  01DQBAVTX4DV62X94VAKV5GCC9  01DPGV73E6KQ1C31G7F1TGAWGB       accessory2   \n",
       "\n",
       "             brand             product_full_name  \n",
       "21  Veronica Beard          Matteo Dickey Jacket  \n",
       "30     Reformation                Morgan Sweater  \n",
       "33    Sole Society                  Ragna Clutch  \n",
       "41           Frame  Velvet Stand Soutache Jacket  \n",
       "43           Frame           Patch Pocket Trench  "
      ]
     },
     "execution_count": 61,
     "metadata": {},
     "output_type": "execute_result"
    }
   ],
   "source": [
    "outfit[outfit['outfit_item_type'] == 'accessory2'].head()"
   ]
  },
  {
   "cell_type": "code",
   "execution_count": 62,
   "metadata": {
    "ExecuteTime": {
     "end_time": "2021-05-12T02:10:02.034191Z",
     "start_time": "2021-05-12T02:10:02.026274Z"
    },
    "scrolled": false
   },
   "outputs": [
    {
     "data": {
      "text/html": [
       "<div>\n",
       "<style scoped>\n",
       "    .dataframe tbody tr th:only-of-type {\n",
       "        vertical-align: middle;\n",
       "    }\n",
       "\n",
       "    .dataframe tbody tr th {\n",
       "        vertical-align: top;\n",
       "    }\n",
       "\n",
       "    .dataframe thead th {\n",
       "        text-align: right;\n",
       "    }\n",
       "</style>\n",
       "<table border=\"1\" class=\"dataframe\">\n",
       "  <thead>\n",
       "    <tr style=\"text-align: right;\">\n",
       "      <th></th>\n",
       "      <th>outfit_id</th>\n",
       "      <th>product_id</th>\n",
       "      <th>outfit_item_type</th>\n",
       "      <th>brand</th>\n",
       "      <th>product_full_name</th>\n",
       "    </tr>\n",
       "  </thead>\n",
       "  <tbody>\n",
       "    <tr>\n",
       "      <th>4720</th>\n",
       "      <td>01E4CKE4MA4TPT3GS4J1E1QTXY</td>\n",
       "      <td>01DS44MT6XDH3DDGJ80TQ6AJ2G</td>\n",
       "      <td>accessory3</td>\n",
       "      <td>Aleksandre Akhalkatsishvili</td>\n",
       "      <td>Asymmetric Cotton Trench  Coat</td>\n",
       "    </tr>\n",
       "  </tbody>\n",
       "</table>\n",
       "</div>"
      ],
      "text/plain": [
       "                       outfit_id                  product_id outfit_item_type  \\\n",
       "4720  01E4CKE4MA4TPT3GS4J1E1QTXY  01DS44MT6XDH3DDGJ80TQ6AJ2G       accessory3   \n",
       "\n",
       "                            brand               product_full_name  \n",
       "4720  Aleksandre Akhalkatsishvili  Asymmetric Cotton Trench  Coat  "
      ]
     },
     "execution_count": 62,
     "metadata": {},
     "output_type": "execute_result"
    }
   ],
   "source": [
    "outfit[outfit['outfit_item_type'] == 'accessory3'].head()"
   ]
  },
  {
   "cell_type": "markdown",
   "metadata": {},
   "source": [
    "We looked at the accessory category. There was only one product with `outfit_item_type` as 'accessory3'."
   ]
  },
  {
   "cell_type": "markdown",
   "metadata": {},
   "source": [
    "#### Renamed Three Kinds of Accessory to 'Accessory'"
   ]
  },
  {
   "cell_type": "code",
   "execution_count": 63,
   "metadata": {
    "ExecuteTime": {
     "end_time": "2021-05-12T02:10:02.038206Z",
     "start_time": "2021-05-12T02:10:02.035524Z"
    }
   },
   "outputs": [],
   "source": [
    "outfit_2 = outfit.copy()"
   ]
  },
  {
   "cell_type": "code",
   "execution_count": 64,
   "metadata": {
    "ExecuteTime": {
     "end_time": "2021-05-12T02:10:02.436621Z",
     "start_time": "2021-05-12T02:10:02.040010Z"
    }
   },
   "outputs": [],
   "source": [
    "col_lst = ['accessory1', 'accessory2', 'accessory3']\n",
    "\n",
    "for i in range(len(outfit_2)):\n",
    "    if outfit_2['outfit_item_type'][i] in col_lst:\n",
    "        outfit_2.loc[i, 'outfit_item_type'] = 'accessory'"
   ]
  },
  {
   "cell_type": "code",
   "execution_count": 65,
   "metadata": {
    "ExecuteTime": {
     "end_time": "2021-05-12T02:10:02.443396Z",
     "start_time": "2021-05-12T02:10:02.438707Z"
    }
   },
   "outputs": [
    {
     "data": {
      "text/plain": [
       "array(['bottom', 'top', 'accessory', 'shoe', 'onepiece'], dtype=object)"
      ]
     },
     "execution_count": 65,
     "metadata": {},
     "output_type": "execute_result"
    }
   ],
   "source": [
    "outfit_2['outfit_item_type'].unique()"
   ]
  },
  {
   "cell_type": "markdown",
   "metadata": {},
   "source": [
    "### Do Data Cleaning and Feature Engineering"
   ]
  },
  {
   "cell_type": "markdown",
   "metadata": {},
   "source": [
    "#### Fill in Missing Values "
   ]
  },
  {
   "cell_type": "markdown",
   "metadata": {},
   "source": [
    "We need to predict brand_category for those products without category before doing recommendation.\n",
    "\n",
    "First, we filled in missing values in `Behold+product+data+04262021.xlsx` using 'Unknown'."
   ]
  },
  {
   "cell_type": "code",
   "execution_count": 66,
   "metadata": {
    "ExecuteTime": {
     "end_time": "2021-05-12T02:10:02.546258Z",
     "start_time": "2021-05-12T02:10:02.445321Z"
    }
   },
   "outputs": [],
   "source": [
    "products_1 = products.copy()"
   ]
  },
  {
   "cell_type": "code",
   "execution_count": 67,
   "metadata": {
    "ExecuteTime": {
     "end_time": "2021-05-12T02:10:02.604579Z",
     "start_time": "2021-05-12T02:10:02.560707Z"
    }
   },
   "outputs": [],
   "source": [
    "products_1 = products_1.fillna(\"Unknown\")"
   ]
  },
  {
   "cell_type": "markdown",
   "metadata": {},
   "source": [
    "#### Select Features Manually and Do Feature Engineering"
   ]
  },
  {
   "cell_type": "markdown",
   "metadata": {},
   "source": [
    "We selected two columns 'brand_category' and 'name' to predict the category of each product.\n",
    "\n",
    "We also combined product information by adding 'brand', 'brand_category', 'name', 'details' and 'description' together for prediction and recommendation."
   ]
  },
  {
   "cell_type": "code",
   "execution_count": 68,
   "metadata": {
    "ExecuteTime": {
     "end_time": "2021-05-12T02:10:02.734721Z",
     "start_time": "2021-05-12T02:10:02.612686Z"
    }
   },
   "outputs": [],
   "source": [
    "products_1['product_information'] = products_1['brand_category'].astype(str) + ' ' + \\\n",
    "                                    products_1['brand'].astype(str) + ' ' + \\\n",
    "                                    products_1['name'].astype(str) + ' ' + \\\n",
    "                                    products_1['details'].astype(str) + ' ' + \\\n",
    "                                    products_1['description'].astype(str)"
   ]
  },
  {
   "cell_type": "code",
   "execution_count": 69,
   "metadata": {
    "ExecuteTime": {
     "end_time": "2021-05-12T02:10:02.771243Z",
     "start_time": "2021-05-12T02:10:02.736252Z"
    }
   },
   "outputs": [],
   "source": [
    "products_2 = products_1.copy()"
   ]
  },
  {
   "cell_type": "code",
   "execution_count": 70,
   "metadata": {
    "ExecuteTime": {
     "end_time": "2021-05-12T02:10:02.786312Z",
     "start_time": "2021-05-12T02:10:02.773272Z"
    }
   },
   "outputs": [],
   "source": [
    "products_2 = products_2[['product_id', 'brand_category', 'name', 'product_information']]"
   ]
  },
  {
   "cell_type": "code",
   "execution_count": 71,
   "metadata": {
    "ExecuteTime": {
     "end_time": "2021-05-12T02:10:02.808790Z",
     "start_time": "2021-05-12T02:10:02.788446Z"
    }
   },
   "outputs": [
    {
     "data": {
      "text/html": [
       "<div>\n",
       "<style scoped>\n",
       "    .dataframe tbody tr th:only-of-type {\n",
       "        vertical-align: middle;\n",
       "    }\n",
       "\n",
       "    .dataframe tbody tr th {\n",
       "        vertical-align: top;\n",
       "    }\n",
       "\n",
       "    .dataframe thead th {\n",
       "        text-align: right;\n",
       "    }\n",
       "</style>\n",
       "<table border=\"1\" class=\"dataframe\">\n",
       "  <thead>\n",
       "    <tr style=\"text-align: right;\">\n",
       "      <th></th>\n",
       "      <th>product_id</th>\n",
       "      <th>brand_category</th>\n",
       "      <th>name</th>\n",
       "      <th>product_information</th>\n",
       "    </tr>\n",
       "  </thead>\n",
       "  <tbody>\n",
       "    <tr>\n",
       "      <th>0</th>\n",
       "      <td>01EX0PN4J9WRNZH5F93YEX6QAF</td>\n",
       "      <td>Unknown</td>\n",
       "      <td>Khadi Stripe Shirt-our signature shirt</td>\n",
       "      <td>Unknown Two Khadi Stripe Shirt-our signature s...</td>\n",
       "    </tr>\n",
       "    <tr>\n",
       "      <th>1</th>\n",
       "      <td>01F0C4SKZV6YXS3265JMC39NXW</td>\n",
       "      <td>Unknown</td>\n",
       "      <td>RUFFLE MARKET DRESS LOOPY PINK SISTINE TOMATO</td>\n",
       "      <td>Unknown Collina Strada RUFFLE MARKET DRESS LOO...</td>\n",
       "    </tr>\n",
       "    <tr>\n",
       "      <th>2</th>\n",
       "      <td>01EY4Y1BW8VZW51BWG5VZY82XW</td>\n",
       "      <td>Unknown</td>\n",
       "      <td>IBI Slip On Raw Red Knit Sneaker Women</td>\n",
       "      <td>Unknown Cariuma IBI Slip On Raw Red Knit Sneak...</td>\n",
       "    </tr>\n",
       "    <tr>\n",
       "      <th>3</th>\n",
       "      <td>01EY50E27A0P5V6KCW01XPDB43</td>\n",
       "      <td>Unknown</td>\n",
       "      <td>IBI Slip On Black Knit Sneaker Women</td>\n",
       "      <td>Unknown Cariuma IBI Slip On Black Knit Sneaker...</td>\n",
       "    </tr>\n",
       "    <tr>\n",
       "      <th>4</th>\n",
       "      <td>01EY6DWHC2W5HPNEGXKEJ4A1CX</td>\n",
       "      <td>Unknown</td>\n",
       "      <td>CATIBA PRO Skate Black Suede and Canvas Contra...</td>\n",
       "      <td>Unknown Cariuma CATIBA PRO Skate Black Suede a...</td>\n",
       "    </tr>\n",
       "  </tbody>\n",
       "</table>\n",
       "</div>"
      ],
      "text/plain": [
       "                   product_id brand_category  \\\n",
       "0  01EX0PN4J9WRNZH5F93YEX6QAF        Unknown   \n",
       "1  01F0C4SKZV6YXS3265JMC39NXW        Unknown   \n",
       "2  01EY4Y1BW8VZW51BWG5VZY82XW        Unknown   \n",
       "3  01EY50E27A0P5V6KCW01XPDB43        Unknown   \n",
       "4  01EY6DWHC2W5HPNEGXKEJ4A1CX        Unknown   \n",
       "\n",
       "                                                name  \\\n",
       "0             Khadi Stripe Shirt-our signature shirt   \n",
       "1      RUFFLE MARKET DRESS LOOPY PINK SISTINE TOMATO   \n",
       "2             IBI Slip On Raw Red Knit Sneaker Women   \n",
       "3               IBI Slip On Black Knit Sneaker Women   \n",
       "4  CATIBA PRO Skate Black Suede and Canvas Contra...   \n",
       "\n",
       "                                 product_information  \n",
       "0  Unknown Two Khadi Stripe Shirt-our signature s...  \n",
       "1  Unknown Collina Strada RUFFLE MARKET DRESS LOO...  \n",
       "2  Unknown Cariuma IBI Slip On Raw Red Knit Sneak...  \n",
       "3  Unknown Cariuma IBI Slip On Black Knit Sneaker...  \n",
       "4  Unknown Cariuma CATIBA PRO Skate Black Suede a...  "
      ]
     },
     "execution_count": 71,
     "metadata": {},
     "output_type": "execute_result"
    }
   ],
   "source": [
    "products_2.head()"
   ]
  },
  {
   "cell_type": "markdown",
   "metadata": {},
   "source": [
    "#### Preprocess Text for Features"
   ]
  },
  {
   "cell_type": "code",
   "execution_count": 72,
   "metadata": {
    "ExecuteTime": {
     "end_time": "2021-05-12T02:10:04.513876Z",
     "start_time": "2021-05-12T02:10:02.810452Z"
    }
   },
   "outputs": [],
   "source": [
    "for col in ['brand_category', 'name', 'product_information']:\n",
    "    products_2[col] = products_2[col].str.lower()\n",
    "    products_2[col] = products_2[col].str.replace('\\n', ' ')\n",
    "    products_2[col] = products_2[col].str.replace(r\"\\b\\w+n't\\b\", 'not')\n",
    "    # changed all negative meaning words (doesn't, isn't, hadn't, etc.) to \"not\"\n",
    "    products_2[col] = products_2[col].str.replace(r'[^\\w\\s]', ' ')\n",
    "    # removed punctuations"
   ]
  },
  {
   "cell_type": "code",
   "execution_count": 73,
   "metadata": {
    "ExecuteTime": {
     "end_time": "2021-05-12T02:10:04.521963Z",
     "start_time": "2021-05-12T02:10:04.515712Z"
    }
   },
   "outputs": [],
   "source": [
    "products_3 = products_2.copy()"
   ]
  },
  {
   "cell_type": "code",
   "execution_count": 74,
   "metadata": {
    "ExecuteTime": {
     "end_time": "2021-05-12T02:10:26.682826Z",
     "start_time": "2021-05-12T02:10:04.524036Z"
    }
   },
   "outputs": [],
   "source": [
    "from nltk.corpus import stopwords\n",
    "stopwords = set(stopwords.words(\"English\"))\n",
    "\n",
    "\n",
    "def remove_stopwords(text):\n",
    "    words = word_tokenize(str(text))\n",
    "    words_no_stopwords = [word for word in words if word not in stopwords and not word.isdigit()]\n",
    "    words_no_stopwords_str = \" \".join(words_no_stopwords)\n",
    "    return words_no_stopwords_str\n",
    "\n",
    "\n",
    "for col in ['brand_category', 'name', 'product_information']:\n",
    "    products_3[col] = products_3[col].apply(remove_stopwords)"
   ]
  },
  {
   "cell_type": "code",
   "execution_count": 75,
   "metadata": {
    "ExecuteTime": {
     "end_time": "2021-05-12T02:10:26.692852Z",
     "start_time": "2021-05-12T02:10:26.684818Z"
    }
   },
   "outputs": [],
   "source": [
    "products_4 = products_3.copy()"
   ]
  },
  {
   "cell_type": "code",
   "execution_count": 76,
   "metadata": {
    "ExecuteTime": {
     "end_time": "2021-05-12T02:10:26.704161Z",
     "start_time": "2021-05-12T02:10:26.695415Z"
    }
   },
   "outputs": [],
   "source": [
    "# https://gaurav5430.medium.com/using-nltk-for-lemmatizing-sentences-c1bfff963258\n",
    "lemmatizer = WordNetLemmatizer()\n",
    "\n",
    "# function to convert nltk tag to wordnet tag\n",
    "def nltk_tag_to_wordnet_tag(nltk_tag):\n",
    "    if nltk_tag.startswith('J'):\n",
    "        return wordnet.ADJ\n",
    "    elif nltk_tag.startswith('V'):\n",
    "        return wordnet.VERB\n",
    "    elif nltk_tag.startswith('N'):\n",
    "        return wordnet.NOUN\n",
    "    elif nltk_tag.startswith('R'):\n",
    "        return wordnet.ADV\n",
    "    else:          \n",
    "        return None\n",
    "\n",
    "def lemmatize_sentence(sentence):\n",
    "    #tokenize the sentence and find the POS tag for each token\n",
    "    nltk_tagged = nltk.pos_tag(word_tokenize(sentence))  \n",
    "    #tuple of (token, wordnet_tag)\n",
    "    wordnet_tagged = map(lambda x: (x[0], nltk_tag_to_wordnet_tag(x[1])), nltk_tagged)\n",
    "    lemmatized_sentence = []\n",
    "    for word, tag in wordnet_tagged:\n",
    "        if tag is None:\n",
    "            #if there is no available tag, append the token as is\n",
    "            lemmatized_sentence.append(word)\n",
    "        else:        \n",
    "            #else use the tag to lemmatize the token\n",
    "            lemmatized_sentence.append(lemmatizer.lemmatize(word, tag))\n",
    "    return ' '.join(lemmatized_sentence)"
   ]
  },
  {
   "cell_type": "code",
   "execution_count": 77,
   "metadata": {
    "ExecuteTime": {
     "end_time": "2021-05-12T02:13:43.046062Z",
     "start_time": "2021-05-12T02:10:26.706543Z"
    }
   },
   "outputs": [],
   "source": [
    "for col in ['brand_category', 'name', 'product_information']:\n",
    "    products_4[col] = products_4[col].apply(lambda x: lemmatize_sentence(x))"
   ]
  },
  {
   "cell_type": "code",
   "execution_count": 78,
   "metadata": {
    "ExecuteTime": {
     "end_time": "2021-05-12T02:13:43.059306Z",
     "start_time": "2021-05-12T02:13:43.047905Z"
    }
   },
   "outputs": [
    {
     "data": {
      "text/html": [
       "<div>\n",
       "<style scoped>\n",
       "    .dataframe tbody tr th:only-of-type {\n",
       "        vertical-align: middle;\n",
       "    }\n",
       "\n",
       "    .dataframe tbody tr th {\n",
       "        vertical-align: top;\n",
       "    }\n",
       "\n",
       "    .dataframe thead th {\n",
       "        text-align: right;\n",
       "    }\n",
       "</style>\n",
       "<table border=\"1\" class=\"dataframe\">\n",
       "  <thead>\n",
       "    <tr style=\"text-align: right;\">\n",
       "      <th></th>\n",
       "      <th>product_id</th>\n",
       "      <th>brand_category</th>\n",
       "      <th>name</th>\n",
       "      <th>product_information</th>\n",
       "    </tr>\n",
       "  </thead>\n",
       "  <tbody>\n",
       "    <tr>\n",
       "      <th>0</th>\n",
       "      <td>01EX0PN4J9WRNZH5F93YEX6QAF</td>\n",
       "      <td>unknown</td>\n",
       "      <td>khadi stripe shirt signature shirt</td>\n",
       "      <td>unknown two khadi stripe shirt signature shirt...</td>\n",
       "    </tr>\n",
       "    <tr>\n",
       "      <th>1</th>\n",
       "      <td>01F0C4SKZV6YXS3265JMC39NXW</td>\n",
       "      <td>unknown</td>\n",
       "      <td>ruffle market dress loopy pink sistine tomato</td>\n",
       "      <td>unknown collina strada ruffle market dress loo...</td>\n",
       "    </tr>\n",
       "    <tr>\n",
       "      <th>2</th>\n",
       "      <td>01EY4Y1BW8VZW51BWG5VZY82XW</td>\n",
       "      <td>unknown</td>\n",
       "      <td>ibi slip raw red knit sneaker woman</td>\n",
       "      <td>unknown cariuma ibi slip raw red knit sneaker ...</td>\n",
       "    </tr>\n",
       "    <tr>\n",
       "      <th>3</th>\n",
       "      <td>01EY50E27A0P5V6KCW01XPDB43</td>\n",
       "      <td>unknown</td>\n",
       "      <td>ibi slip black knit sneaker woman</td>\n",
       "      <td>unknown cariuma ibi slip black knit sneaker wo...</td>\n",
       "    </tr>\n",
       "    <tr>\n",
       "      <th>4</th>\n",
       "      <td>01EY6DWHC2W5HPNEGXKEJ4A1CX</td>\n",
       "      <td>unknown</td>\n",
       "      <td>catiba pro skate black suede canvas contrast t...</td>\n",
       "      <td>unknown cariuma catiba pro skate black suede c...</td>\n",
       "    </tr>\n",
       "  </tbody>\n",
       "</table>\n",
       "</div>"
      ],
      "text/plain": [
       "                   product_id brand_category  \\\n",
       "0  01EX0PN4J9WRNZH5F93YEX6QAF        unknown   \n",
       "1  01F0C4SKZV6YXS3265JMC39NXW        unknown   \n",
       "2  01EY4Y1BW8VZW51BWG5VZY82XW        unknown   \n",
       "3  01EY50E27A0P5V6KCW01XPDB43        unknown   \n",
       "4  01EY6DWHC2W5HPNEGXKEJ4A1CX        unknown   \n",
       "\n",
       "                                                name  \\\n",
       "0                 khadi stripe shirt signature shirt   \n",
       "1      ruffle market dress loopy pink sistine tomato   \n",
       "2                ibi slip raw red knit sneaker woman   \n",
       "3                  ibi slip black knit sneaker woman   \n",
       "4  catiba pro skate black suede canvas contrast t...   \n",
       "\n",
       "                                 product_information  \n",
       "0  unknown two khadi stripe shirt signature shirt...  \n",
       "1  unknown collina strada ruffle market dress loo...  \n",
       "2  unknown cariuma ibi slip raw red knit sneaker ...  \n",
       "3  unknown cariuma ibi slip black knit sneaker wo...  \n",
       "4  unknown cariuma catiba pro skate black suede c...  "
      ]
     },
     "execution_count": 78,
     "metadata": {},
     "output_type": "execute_result"
    }
   ],
   "source": [
    "products_4.head()"
   ]
  },
  {
   "cell_type": "code",
   "execution_count": 79,
   "metadata": {
    "ExecuteTime": {
     "end_time": "2021-05-12T02:13:43.067428Z",
     "start_time": "2021-05-12T02:13:43.061072Z"
    }
   },
   "outputs": [],
   "source": [
    "products_5 = products_4.copy()"
   ]
  },
  {
   "cell_type": "code",
   "execution_count": 80,
   "metadata": {
    "ExecuteTime": {
     "end_time": "2021-05-12T02:13:44.520653Z",
     "start_time": "2021-05-12T02:13:43.069426Z"
    }
   },
   "outputs": [],
   "source": [
    "for col in ['brand_category', 'name', 'product_information']:\n",
    "    products_5[col] = products_5[col].str.split(r'[\\s\\:\\/]+')"
   ]
  },
  {
   "cell_type": "markdown",
   "metadata": {},
   "source": [
    "Create a new column named 'outfit_type' and set the default as 'Unknown'"
   ]
  },
  {
   "cell_type": "code",
   "execution_count": 81,
   "metadata": {
    "ExecuteTime": {
     "end_time": "2021-05-12T02:13:44.526535Z",
     "start_time": "2021-05-12T02:13:44.522599Z"
    }
   },
   "outputs": [],
   "source": [
    "products_5['outfit_type'] = 'Unknown'"
   ]
  },
  {
   "cell_type": "code",
   "execution_count": 82,
   "metadata": {
    "ExecuteTime": {
     "end_time": "2021-05-12T02:13:44.545756Z",
     "start_time": "2021-05-12T02:13:44.528754Z"
    }
   },
   "outputs": [
    {
     "data": {
      "text/html": [
       "<div>\n",
       "<style scoped>\n",
       "    .dataframe tbody tr th:only-of-type {\n",
       "        vertical-align: middle;\n",
       "    }\n",
       "\n",
       "    .dataframe tbody tr th {\n",
       "        vertical-align: top;\n",
       "    }\n",
       "\n",
       "    .dataframe thead th {\n",
       "        text-align: right;\n",
       "    }\n",
       "</style>\n",
       "<table border=\"1\" class=\"dataframe\">\n",
       "  <thead>\n",
       "    <tr style=\"text-align: right;\">\n",
       "      <th></th>\n",
       "      <th>product_id</th>\n",
       "      <th>brand_category</th>\n",
       "      <th>name</th>\n",
       "      <th>product_information</th>\n",
       "      <th>outfit_type</th>\n",
       "    </tr>\n",
       "  </thead>\n",
       "  <tbody>\n",
       "    <tr>\n",
       "      <th>0</th>\n",
       "      <td>01EX0PN4J9WRNZH5F93YEX6QAF</td>\n",
       "      <td>[unknown]</td>\n",
       "      <td>[khadi, stripe, shirt, signature, shirt]</td>\n",
       "      <td>[unknown, two, khadi, stripe, shirt, signature...</td>\n",
       "      <td>Unknown</td>\n",
       "    </tr>\n",
       "    <tr>\n",
       "      <th>1</th>\n",
       "      <td>01F0C4SKZV6YXS3265JMC39NXW</td>\n",
       "      <td>[unknown]</td>\n",
       "      <td>[ruffle, market, dress, loopy, pink, sistine, ...</td>\n",
       "      <td>[unknown, collina, strada, ruffle, market, dre...</td>\n",
       "      <td>Unknown</td>\n",
       "    </tr>\n",
       "    <tr>\n",
       "      <th>2</th>\n",
       "      <td>01EY4Y1BW8VZW51BWG5VZY82XW</td>\n",
       "      <td>[unknown]</td>\n",
       "      <td>[ibi, slip, raw, red, knit, sneaker, woman]</td>\n",
       "      <td>[unknown, cariuma, ibi, slip, raw, red, knit, ...</td>\n",
       "      <td>Unknown</td>\n",
       "    </tr>\n",
       "    <tr>\n",
       "      <th>3</th>\n",
       "      <td>01EY50E27A0P5V6KCW01XPDB43</td>\n",
       "      <td>[unknown]</td>\n",
       "      <td>[ibi, slip, black, knit, sneaker, woman]</td>\n",
       "      <td>[unknown, cariuma, ibi, slip, black, knit, sne...</td>\n",
       "      <td>Unknown</td>\n",
       "    </tr>\n",
       "    <tr>\n",
       "      <th>4</th>\n",
       "      <td>01EY6DWHC2W5HPNEGXKEJ4A1CX</td>\n",
       "      <td>[unknown]</td>\n",
       "      <td>[catiba, pro, skate, black, suede, canvas, con...</td>\n",
       "      <td>[unknown, cariuma, catiba, pro, skate, black, ...</td>\n",
       "      <td>Unknown</td>\n",
       "    </tr>\n",
       "  </tbody>\n",
       "</table>\n",
       "</div>"
      ],
      "text/plain": [
       "                   product_id brand_category  \\\n",
       "0  01EX0PN4J9WRNZH5F93YEX6QAF      [unknown]   \n",
       "1  01F0C4SKZV6YXS3265JMC39NXW      [unknown]   \n",
       "2  01EY4Y1BW8VZW51BWG5VZY82XW      [unknown]   \n",
       "3  01EY50E27A0P5V6KCW01XPDB43      [unknown]   \n",
       "4  01EY6DWHC2W5HPNEGXKEJ4A1CX      [unknown]   \n",
       "\n",
       "                                                name  \\\n",
       "0           [khadi, stripe, shirt, signature, shirt]   \n",
       "1  [ruffle, market, dress, loopy, pink, sistine, ...   \n",
       "2        [ibi, slip, raw, red, knit, sneaker, woman]   \n",
       "3           [ibi, slip, black, knit, sneaker, woman]   \n",
       "4  [catiba, pro, skate, black, suede, canvas, con...   \n",
       "\n",
       "                                 product_information outfit_type  \n",
       "0  [unknown, two, khadi, stripe, shirt, signature...     Unknown  \n",
       "1  [unknown, collina, strada, ruffle, market, dre...     Unknown  \n",
       "2  [unknown, cariuma, ibi, slip, raw, red, knit, ...     Unknown  \n",
       "3  [unknown, cariuma, ibi, slip, black, knit, sne...     Unknown  \n",
       "4  [unknown, cariuma, catiba, pro, skate, black, ...     Unknown  "
      ]
     },
     "execution_count": 82,
     "metadata": {},
     "output_type": "execute_result"
    }
   ],
   "source": [
    "products_5.head()"
   ]
  },
  {
   "cell_type": "markdown",
   "metadata": {},
   "source": [
    "### Predict Outfit Category for Products Without Category"
   ]
  },
  {
   "cell_type": "markdown",
   "metadata": {},
   "source": [
    "#### Collect Keywords for Each Category Using Domain Knowledge"
   ]
  },
  {
   "cell_type": "markdown",
   "metadata": {},
   "source": [
    "We collected a bunch of keywords for each category using our business domain knowledge. In this dataset, we found out some items did not belong to outfit, and we collected some words and set the category as 'others'.\n",
    "\n",
    "First, we used brand_category of each product to match the keywords in each category. Second, we used name of the product to match. Last, we used product information of the product to match. If one product do not match any category, we would leave it as 'Unknown'.\n",
    "\n",
    "To be specific, in every match, we created a dictionary for each records and counted the frequency of the keywords in each category, and set the most frequent category as the category of the product. \n",
    "\n",
    "If two or more categories had the same frequency, we would randomly pick one as the category of the product."
   ]
  },
  {
   "cell_type": "code",
   "execution_count": 83,
   "metadata": {
    "ExecuteTime": {
     "end_time": "2021-05-12T02:13:44.561928Z",
     "start_time": "2021-05-12T02:13:44.547481Z"
    }
   },
   "outputs": [],
   "source": [
    "bottom_lst = ['pant', 'skirt', 'jean', 'trouser', 'short', 'tight', 'legging', 'culotte',\n",
    "              'bootcut', 'leg', 'palazzo', 'bottom', 'ankle', 'capri', 'waistband',\n",
    "              'waist', 'highwaist', 'beltless', 'straight']\n",
    "\n",
    "one_piece_lst = ['dress', 'piece', 'jumpsuit', 'piece', 'bodysuit', 'slipdress', 'shirtdress',\n",
    "                 'onepiece', 'onesie', 'gown', 'robe', 'romper', 'shortall', 'minidress',\n",
    "                 'caftan', 'tunic', 'georgette', 'coverall', 'bikini', 'kimono', 'sundress',\n",
    "                 'boilersuit']\n",
    "\n",
    "shoe_lst = ['shoe', 'boot', 'sneaker', 'heel', 'foot', 'sandal', 'slipper', \n",
    "            'flip', 'flop', 'bootie', 'toe', 'pump', 'trainer', 'platform', 'oxford', \n",
    "            'mule', 'brogue', 'loafer', 'moccasin', 'flat', 'derby', 'slingback', 'clog',\n",
    "            'heighten', 'shoetie']\n",
    "\n",
    "top_lst = ['tank', 'top', 'blouse', 'shirt', 'tee', 'vest', 'blazer', 'crop', \n",
    "           'hoodie', 'hood', 'sweat', 'turtleneck', 'cardigan', 'camisole', 'sweatshirt', \n",
    "           'neck', 'sleeve', 'cami', 'boatneck', 'vneck', 'jersey', 'sleeves', 'tanktop',\n",
    "           'sweatpants', 'bustier', 'sleeveless', 'neckline', 'crewneck', 'longsleeve']\n",
    "\n",
    "accessory_lst = ['satchel', 'clutch', 'bag', 'tote', 'jacket', 'coat', 'scarf', \n",
    "                 'bra', 'bralette', 'backpack', 'briefcase', 'purse', 'panty', \n",
    "                 'thong', 'belt', 'hat', 'bralett', 'hobo', 'eye', 'sunglasses', 'bib', \n",
    "                 'accessory', 'sunglass', 'lens', 'trench', 'wallet', 'earring', 'barrette',\n",
    "                 'pullover', 'photo', 'card', 'band', 'felt', 'hand', 'necklace',\n",
    "                 'shearling', 'cream', 'lip', 'balm', 'parka', 'mask', 'bracelet',\n",
    "                 'sock', 'glasswear', 'cape', 'suit', 'bandana', 'lenses', 'lingerie',\n",
    "                 'collar', 'apron', 'tie', 'strap', 'ring', 'napkin', 'shawl', 'sweater', \n",
    "                 'beret', 'sapphire', 'crossbody', 'neckband', 'headband', 'headgear',\n",
    "                 'outerwear', 'wrist', 'cap', 'shirtjacket', 'windbreaker', 'glove', 'mitt',\n",
    "                 'bangle', 'obi', 'stud', 'earing', 'overcoat', 'trenchcoat', 'watch', 'anklet',\n",
    "                 'mitts', 'choker', 'pin', 'gloves']\n",
    "\n",
    "others_lst = ['towel', 'vase', 'chair', 'candle', 'photo', 'card', 'book', 'lamp', \n",
    "              'pottery', 'plate', 'salt', 'pillow', 'table', 'bench', 'bed', 'table',\n",
    "              'couch', 'baby', 'basket', 'crochet', 'coverlet', 'upholster', 'cushion',\n",
    "              'makeup', 'ceramic', 'soap', 'antique', 'sofa', 'footbed', 'goblet', 'skateboard',\n",
    "              'quilt', 'washcloth', 'comb', 'fragrance', 'mat', 'swimwear', 'swimsuit', 'wetsuit',\n",
    "              'pillowcase', 'perfume', 'enamel', 'insole', 'shower', 'furniture', 'toiletry',\n",
    "              'pilowcases']"
   ]
  },
  {
   "cell_type": "markdown",
   "metadata": {},
   "source": [
    "#### Predict Outfit Category"
   ]
  },
  {
   "cell_type": "code",
   "execution_count": 84,
   "metadata": {
    "ExecuteTime": {
     "end_time": "2021-05-12T02:13:46.654066Z",
     "start_time": "2021-05-12T02:13:44.563648Z"
    }
   },
   "outputs": [],
   "source": [
    "for i in range(len(products_5)):\n",
    "    outfit_dict = {}\n",
    "    for j in products_5['brand_category'][i]:\n",
    "        if j in bottom_lst:\n",
    "            if 'bottom' not in outfit_dict.keys():\n",
    "                outfit_dict['bottom'] = 1\n",
    "            else:\n",
    "                outfit_dict['bottom'] += 1\n",
    "        elif j in one_piece_lst:\n",
    "            if 'onepiece' not in outfit_dict.keys():\n",
    "                outfit_dict['onepiece'] = 1\n",
    "            else:\n",
    "                outfit_dict['onepiece'] += 1\n",
    "        elif j in shoe_lst:\n",
    "            if 'shoe' not in outfit_dict.keys():\n",
    "                outfit_dict['shoe'] = 1\n",
    "            else:\n",
    "                outfit_dict['shoe'] += 1\n",
    "        elif j in top_lst:\n",
    "            if 'top' not in outfit_dict.keys():\n",
    "                outfit_dict['top'] = 1\n",
    "            else:\n",
    "                outfit_dict['top'] += 1\n",
    "        elif j in accessory_lst:\n",
    "            if 'accessory' not in outfit_dict.keys():\n",
    "                outfit_dict['accessory'] = 1\n",
    "            else:\n",
    "                outfit_dict['accessory'] += 1\n",
    "        elif j in others_lst:\n",
    "            if 'others' not in outfit_dict.keys():\n",
    "                outfit_dict['others'] = 1\n",
    "            else:\n",
    "                outfit_dict['others'] += 1\n",
    "    if outfit_dict:\n",
    "        # remove 'others' category if the keywords in a certain record match the 5 categories\n",
    "        if len(outfit_dict) > 1 and 'others' in outfit_dict:\n",
    "            del outfit_dict['others']\n",
    "        products_5.loc[i, 'outfit_type'] = max(outfit_dict.items(), key=lambda x:x[1])[0]"
   ]
  },
  {
   "cell_type": "code",
   "execution_count": 85,
   "metadata": {
    "ExecuteTime": {
     "end_time": "2021-05-12T02:13:46.660306Z",
     "start_time": "2021-05-12T02:13:46.656152Z"
    }
   },
   "outputs": [
    {
     "data": {
      "text/plain": [
       "61355"
      ]
     },
     "execution_count": 85,
     "metadata": {},
     "output_type": "execute_result"
    }
   ],
   "source": [
    "len(products_5)"
   ]
  },
  {
   "cell_type": "code",
   "execution_count": 86,
   "metadata": {
    "ExecuteTime": {
     "end_time": "2021-05-12T02:13:46.672122Z",
     "start_time": "2021-05-12T02:13:46.662609Z"
    },
    "scrolled": true
   },
   "outputs": [
    {
     "data": {
      "text/plain": [
       "5541"
      ]
     },
     "execution_count": 86,
     "metadata": {},
     "output_type": "execute_result"
    }
   ],
   "source": [
    "len(products_5[products_5['outfit_type'] != 'Unknown'])"
   ]
  },
  {
   "cell_type": "markdown",
   "metadata": {},
   "source": [
    "The outfit types of 5540 records were predicted using the 'brand_category', which was around 9.0%."
   ]
  },
  {
   "cell_type": "code",
   "execution_count": 87,
   "metadata": {
    "ExecuteTime": {
     "end_time": "2021-05-12T02:13:56.233035Z",
     "start_time": "2021-05-12T02:13:46.673912Z"
    }
   },
   "outputs": [],
   "source": [
    "for i in range(len(products_5)):\n",
    "    if products_5.loc[i, 'outfit_type'] == 'Unknown':\n",
    "        outfit_dict = {}\n",
    "        for j in products_5['name'][i]:\n",
    "            if j in bottom_lst:\n",
    "                if 'bottom' not in outfit_dict.keys():\n",
    "                    outfit_dict['bottom'] = 1\n",
    "                else:\n",
    "                    outfit_dict['bottom'] += 1\n",
    "            elif j in one_piece_lst:\n",
    "                if 'onepiece' not in outfit_dict.keys():\n",
    "                    outfit_dict['onepiece'] = 1\n",
    "                else:\n",
    "                    outfit_dict['onepiece'] += 1\n",
    "            elif j in shoe_lst:\n",
    "                if 'shoe' not in outfit_dict.keys():\n",
    "                    outfit_dict['shoe'] = 1\n",
    "                else:\n",
    "                    outfit_dict['shoe'] += 1\n",
    "            elif j in top_lst:\n",
    "                if 'top' not in outfit_dict.keys():\n",
    "                    outfit_dict['top'] = 1\n",
    "                else:\n",
    "                    outfit_dict['top'] += 1\n",
    "            elif j in accessory_lst:\n",
    "                if 'accessory' not in outfit_dict.keys():\n",
    "                    outfit_dict['accessory'] = 1\n",
    "                else:\n",
    "                    outfit_dict['accessory'] += 1\n",
    "            elif j in others_lst:\n",
    "                if 'others' not in outfit_dict.keys():\n",
    "                    outfit_dict['others'] = 1\n",
    "                else:\n",
    "                    outfit_dict['others'] += 1\n",
    "        if outfit_dict:\n",
    "            # remove 'others' category if the keywords in a certain record match the 5 categories\n",
    "            if len(outfit_dict) > 1 and 'others' in outfit_dict:\n",
    "                del outfit_dict['others']\n",
    "            products_5.loc[i, 'outfit_type'] = max(outfit_dict.items(), key=lambda x:x[1])[0]"
   ]
  },
  {
   "cell_type": "code",
   "execution_count": 88,
   "metadata": {
    "ExecuteTime": {
     "end_time": "2021-05-12T02:13:56.248768Z",
     "start_time": "2021-05-12T02:13:56.234817Z"
    }
   },
   "outputs": [
    {
     "data": {
      "text/plain": [
       "45856"
      ]
     },
     "execution_count": 88,
     "metadata": {},
     "output_type": "execute_result"
    }
   ],
   "source": [
    "len(products_5[products_5['outfit_type'] != 'Unknown'])"
   ]
  },
  {
   "cell_type": "markdown",
   "metadata": {},
   "source": [
    "The outfit types of 40383 records were predicted using the 'name', which was around 65.8%."
   ]
  },
  {
   "cell_type": "code",
   "execution_count": 89,
   "metadata": {
    "ExecuteTime": {
     "end_time": "2021-05-12T02:14:00.477219Z",
     "start_time": "2021-05-12T02:13:56.251169Z"
    }
   },
   "outputs": [],
   "source": [
    "for i in range(len(products_5)):\n",
    "    if products_5.loc[i, 'outfit_type'] == 'Unknown':\n",
    "        outfit_dict = {}\n",
    "        for j in products_5['product_information'][i]:\n",
    "            if j in bottom_lst:\n",
    "                if 'bottom' not in outfit_dict.keys():\n",
    "                    outfit_dict['bottom'] = 1\n",
    "                else:\n",
    "                    outfit_dict['bottom'] += 1\n",
    "            elif j in one_piece_lst:\n",
    "                if 'onepiece' not in outfit_dict.keys():\n",
    "                    outfit_dict['onepiece'] = 1\n",
    "                else:\n",
    "                    outfit_dict['onepiece'] += 1\n",
    "            elif j in shoe_lst:\n",
    "                if 'shoe' not in outfit_dict.keys():\n",
    "                    outfit_dict['shoe'] = 1\n",
    "                else:\n",
    "                    outfit_dict['shoe'] += 1\n",
    "            elif j in top_lst:\n",
    "                if 'top' not in outfit_dict.keys():\n",
    "                    outfit_dict['top'] = 1\n",
    "                else:\n",
    "                    outfit_dict['top'] += 1\n",
    "            elif j in accessory_lst:\n",
    "                if 'accessory' not in outfit_dict.keys():\n",
    "                    outfit_dict['accessory'] = 1\n",
    "                else:\n",
    "                    outfit_dict['accessory'] += 1\n",
    "            elif j in others_lst:\n",
    "                if 'others' not in outfit_dict.keys():\n",
    "                    outfit_dict['others'] = 1\n",
    "                else:\n",
    "                    outfit_dict['others'] += 1\n",
    "        if outfit_dict:\n",
    "            # remove 'others' category if the keywords in a certain record match the 5 categories\n",
    "            if len(outfit_dict) > 1 and 'others' in outfit_dict:\n",
    "                del outfit_dict['others']\n",
    "            products_5.loc[i, 'outfit_type'] = max(outfit_dict.items(), key=lambda x:x[1])[0]"
   ]
  },
  {
   "cell_type": "code",
   "execution_count": 90,
   "metadata": {
    "ExecuteTime": {
     "end_time": "2021-05-12T02:14:00.489820Z",
     "start_time": "2021-05-12T02:14:00.479641Z"
    },
    "scrolled": false
   },
   "outputs": [
    {
     "data": {
      "text/plain": [
       "5436"
      ]
     },
     "execution_count": 90,
     "metadata": {},
     "output_type": "execute_result"
    }
   ],
   "source": [
    "len(products_5[products_5['outfit_type'] == 'Unknown'])"
   ]
  },
  {
   "cell_type": "markdown",
   "metadata": {},
   "source": [
    "There were X records left as 'Unknown'. We would get rid of these records later."
   ]
  },
  {
   "cell_type": "code",
   "execution_count": 91,
   "metadata": {
    "ExecuteTime": {
     "end_time": "2021-05-12T02:14:00.497191Z",
     "start_time": "2021-05-12T02:14:00.491394Z"
    }
   },
   "outputs": [],
   "source": [
    "products_6 = products_5.copy()"
   ]
  },
  {
   "cell_type": "markdown",
   "metadata": {},
   "source": [
    "### Merge and Preprocess the Products Dataframe and Outfit Dataframe\n",
    "\n",
    "We combined brand and name for each product in the outfit dataframe, and merged the products dataframe and outfit dataframe."
   ]
  },
  {
   "cell_type": "markdown",
   "metadata": {},
   "source": [
    "#### Do Data Cleaning and Feature Engineering for for Merged Dataframe"
   ]
  },
  {
   "cell_type": "code",
   "execution_count": 92,
   "metadata": {
    "ExecuteTime": {
     "end_time": "2021-05-12T02:14:00.502883Z",
     "start_time": "2021-05-12T02:14:00.498574Z"
    }
   },
   "outputs": [],
   "source": [
    "outfit_2['brand+name'] = outfit_2['brand'] + outfit_2['product_full_name']"
   ]
  },
  {
   "cell_type": "code",
   "execution_count": 93,
   "metadata": {
    "ExecuteTime": {
     "end_time": "2021-05-12T02:14:00.552035Z",
     "start_time": "2021-05-12T02:14:00.504287Z"
    }
   },
   "outputs": [],
   "source": [
    "products_with_outfit = pd.merge(products_6, outfit_2, on='product_id', how='outer')"
   ]
  },
  {
   "cell_type": "markdown",
   "metadata": {},
   "source": [
    "Most products in the products dataframe did not have outfit information, but there were still some products in products dataframe with outfit information. \n",
    "\n",
    "There were also some products in the outfit dataframe without product information in the products dataframe. This is to say, these products appeared in the outfit dataframe but not in the products dataframe."
   ]
  },
  {
   "cell_type": "code",
   "execution_count": 94,
   "metadata": {
    "ExecuteTime": {
     "end_time": "2021-05-12T02:14:00.562052Z",
     "start_time": "2021-05-12T02:14:00.553579Z"
    }
   },
   "outputs": [
    {
     "name": "stdout",
     "output_type": "stream",
     "text": [
      "There were 769 existing products in the products dataframe with outfit information.\n",
      "There were 4522 products with outfit in the outfit dataframe without product information.\n"
     ]
    }
   ],
   "source": [
    "a = len(products) - products_with_outfit.outfit_id.isnull().sum()\n",
    "b = len(outfit) - (len(products) - products_with_outfit.outfit_id.isnull().sum())\n",
    "print(f'There were {a} existing products in the products dataframe with outfit information.')\n",
    "print(f'There were {b} products with outfit in the outfit dataframe without product information.')"
   ]
  },
  {
   "cell_type": "code",
   "execution_count": 95,
   "metadata": {
    "ExecuteTime": {
     "end_time": "2021-05-12T02:14:00.578385Z",
     "start_time": "2021-05-12T02:14:00.563718Z"
    }
   },
   "outputs": [
    {
     "data": {
      "text/html": [
       "<div>\n",
       "<style scoped>\n",
       "    .dataframe tbody tr th:only-of-type {\n",
       "        vertical-align: middle;\n",
       "    }\n",
       "\n",
       "    .dataframe tbody tr th {\n",
       "        vertical-align: top;\n",
       "    }\n",
       "\n",
       "    .dataframe thead th {\n",
       "        text-align: right;\n",
       "    }\n",
       "</style>\n",
       "<table border=\"1\" class=\"dataframe\">\n",
       "  <thead>\n",
       "    <tr style=\"text-align: right;\">\n",
       "      <th></th>\n",
       "      <th>product_id</th>\n",
       "      <th>brand_category</th>\n",
       "      <th>name</th>\n",
       "      <th>product_information</th>\n",
       "      <th>outfit_type</th>\n",
       "      <th>outfit_id</th>\n",
       "      <th>outfit_item_type</th>\n",
       "      <th>brand</th>\n",
       "      <th>product_full_name</th>\n",
       "      <th>brand+name</th>\n",
       "    </tr>\n",
       "  </thead>\n",
       "  <tbody>\n",
       "    <tr>\n",
       "      <th>0</th>\n",
       "      <td>01EX0PN4J9WRNZH5F93YEX6QAF</td>\n",
       "      <td>[unknown]</td>\n",
       "      <td>[khadi, stripe, shirt, signature, shirt]</td>\n",
       "      <td>[unknown, two, khadi, stripe, shirt, signature...</td>\n",
       "      <td>top</td>\n",
       "      <td>NaN</td>\n",
       "      <td>NaN</td>\n",
       "      <td>NaN</td>\n",
       "      <td>NaN</td>\n",
       "      <td>NaN</td>\n",
       "    </tr>\n",
       "    <tr>\n",
       "      <th>1</th>\n",
       "      <td>01F0C4SKZV6YXS3265JMC39NXW</td>\n",
       "      <td>[unknown]</td>\n",
       "      <td>[ruffle, market, dress, loopy, pink, sistine, ...</td>\n",
       "      <td>[unknown, collina, strada, ruffle, market, dre...</td>\n",
       "      <td>onepiece</td>\n",
       "      <td>NaN</td>\n",
       "      <td>NaN</td>\n",
       "      <td>NaN</td>\n",
       "      <td>NaN</td>\n",
       "      <td>NaN</td>\n",
       "    </tr>\n",
       "    <tr>\n",
       "      <th>2</th>\n",
       "      <td>01EY4Y1BW8VZW51BWG5VZY82XW</td>\n",
       "      <td>[unknown]</td>\n",
       "      <td>[ibi, slip, raw, red, knit, sneaker, woman]</td>\n",
       "      <td>[unknown, cariuma, ibi, slip, raw, red, knit, ...</td>\n",
       "      <td>shoe</td>\n",
       "      <td>NaN</td>\n",
       "      <td>NaN</td>\n",
       "      <td>NaN</td>\n",
       "      <td>NaN</td>\n",
       "      <td>NaN</td>\n",
       "    </tr>\n",
       "    <tr>\n",
       "      <th>3</th>\n",
       "      <td>01EY50E27A0P5V6KCW01XPDB43</td>\n",
       "      <td>[unknown]</td>\n",
       "      <td>[ibi, slip, black, knit, sneaker, woman]</td>\n",
       "      <td>[unknown, cariuma, ibi, slip, black, knit, sne...</td>\n",
       "      <td>shoe</td>\n",
       "      <td>NaN</td>\n",
       "      <td>NaN</td>\n",
       "      <td>NaN</td>\n",
       "      <td>NaN</td>\n",
       "      <td>NaN</td>\n",
       "    </tr>\n",
       "    <tr>\n",
       "      <th>4</th>\n",
       "      <td>01EY6DWHC2W5HPNEGXKEJ4A1CX</td>\n",
       "      <td>[unknown]</td>\n",
       "      <td>[catiba, pro, skate, black, suede, canvas, con...</td>\n",
       "      <td>[unknown, cariuma, catiba, pro, skate, black, ...</td>\n",
       "      <td>shoe</td>\n",
       "      <td>NaN</td>\n",
       "      <td>NaN</td>\n",
       "      <td>NaN</td>\n",
       "      <td>NaN</td>\n",
       "      <td>NaN</td>\n",
       "    </tr>\n",
       "  </tbody>\n",
       "</table>\n",
       "</div>"
      ],
      "text/plain": [
       "                   product_id brand_category  \\\n",
       "0  01EX0PN4J9WRNZH5F93YEX6QAF      [unknown]   \n",
       "1  01F0C4SKZV6YXS3265JMC39NXW      [unknown]   \n",
       "2  01EY4Y1BW8VZW51BWG5VZY82XW      [unknown]   \n",
       "3  01EY50E27A0P5V6KCW01XPDB43      [unknown]   \n",
       "4  01EY6DWHC2W5HPNEGXKEJ4A1CX      [unknown]   \n",
       "\n",
       "                                                name  \\\n",
       "0           [khadi, stripe, shirt, signature, shirt]   \n",
       "1  [ruffle, market, dress, loopy, pink, sistine, ...   \n",
       "2        [ibi, slip, raw, red, knit, sneaker, woman]   \n",
       "3           [ibi, slip, black, knit, sneaker, woman]   \n",
       "4  [catiba, pro, skate, black, suede, canvas, con...   \n",
       "\n",
       "                                 product_information outfit_type outfit_id  \\\n",
       "0  [unknown, two, khadi, stripe, shirt, signature...         top       NaN   \n",
       "1  [unknown, collina, strada, ruffle, market, dre...    onepiece       NaN   \n",
       "2  [unknown, cariuma, ibi, slip, raw, red, knit, ...        shoe       NaN   \n",
       "3  [unknown, cariuma, ibi, slip, black, knit, sne...        shoe       NaN   \n",
       "4  [unknown, cariuma, catiba, pro, skate, black, ...        shoe       NaN   \n",
       "\n",
       "  outfit_item_type brand product_full_name brand+name  \n",
       "0              NaN   NaN               NaN        NaN  \n",
       "1              NaN   NaN               NaN        NaN  \n",
       "2              NaN   NaN               NaN        NaN  \n",
       "3              NaN   NaN               NaN        NaN  \n",
       "4              NaN   NaN               NaN        NaN  "
      ]
     },
     "execution_count": 95,
     "metadata": {},
     "output_type": "execute_result"
    }
   ],
   "source": [
    "products_with_outfit.head()"
   ]
  },
  {
   "cell_type": "code",
   "execution_count": 96,
   "metadata": {
    "ExecuteTime": {
     "end_time": "2021-05-12T02:14:00.600596Z",
     "start_time": "2021-05-12T02:14:00.579679Z"
    }
   },
   "outputs": [],
   "source": [
    "products_with_outfit_2 = products_with_outfit.copy()"
   ]
  },
  {
   "cell_type": "code",
   "execution_count": 97,
   "metadata": {
    "ExecuteTime": {
     "end_time": "2021-05-12T02:14:00.613306Z",
     "start_time": "2021-05-12T02:14:00.602427Z"
    }
   },
   "outputs": [],
   "source": [
    "products_with_outfit_2 = products_with_outfit_2[['product_id', 'brand_category', 'name',\n",
    "                                                 'product_information', 'outfit_type', 'outfit_id', \n",
    "                                                 'outfit_item_type', 'brand+name']]"
   ]
  },
  {
   "cell_type": "code",
   "execution_count": 98,
   "metadata": {
    "ExecuteTime": {
     "end_time": "2021-05-12T02:14:00.639144Z",
     "start_time": "2021-05-12T02:14:00.614873Z"
    }
   },
   "outputs": [],
   "source": [
    "products_with_outfit_2 = products_with_outfit_2.fillna(\"Unknown\")"
   ]
  },
  {
   "cell_type": "code",
   "execution_count": 99,
   "metadata": {
    "ExecuteTime": {
     "end_time": "2021-05-12T02:14:00.774980Z",
     "start_time": "2021-05-12T02:14:00.640638Z"
    }
   },
   "outputs": [],
   "source": [
    "for col in ['brand+name']:\n",
    "    products_with_outfit_2[col] = products_with_outfit_2[col].str.lower()\n",
    "    products_with_outfit_2[col] = products_with_outfit_2[col].str.replace('\\n', ' ')\n",
    "    products_with_outfit_2[col] = products_with_outfit_2[col].str.replace(r\"\\b\\w+n't\\b\", 'not')\n",
    "    # changed all negative meaning words (doesn't, isn't, hadn't, etc.) to \"not\"\n",
    "    products_with_outfit_2[col] = products_with_outfit_2[col].str.replace(r'[^\\w\\s]', ' ')\n",
    "    # removed punctuations"
   ]
  },
  {
   "cell_type": "code",
   "execution_count": 100,
   "metadata": {
    "ExecuteTime": {
     "end_time": "2021-05-12T02:14:20.786328Z",
     "start_time": "2021-05-12T02:14:00.777024Z"
    }
   },
   "outputs": [],
   "source": [
    "products_with_outfit_2['brand+name'] = products_with_outfit_2['brand+name'].apply(remove_stopwords)\n",
    "\n",
    "products_with_outfit_2['brand+name'] = \\\n",
    "            products_with_outfit_2['brand+name'].apply(lambda x: lemmatize_sentence(x))\n",
    "\n",
    "products_with_outfit_2['brand+name'] = products_with_outfit_2['brand+name'].str.split(r'[\\s\\:\\/]+')"
   ]
  },
  {
   "cell_type": "code",
   "execution_count": 101,
   "metadata": {
    "ExecuteTime": {
     "end_time": "2021-05-12T02:14:20.806384Z",
     "start_time": "2021-05-12T02:14:20.788425Z"
    },
    "scrolled": true
   },
   "outputs": [
    {
     "data": {
      "text/html": [
       "<div>\n",
       "<style scoped>\n",
       "    .dataframe tbody tr th:only-of-type {\n",
       "        vertical-align: middle;\n",
       "    }\n",
       "\n",
       "    .dataframe tbody tr th {\n",
       "        vertical-align: top;\n",
       "    }\n",
       "\n",
       "    .dataframe thead th {\n",
       "        text-align: right;\n",
       "    }\n",
       "</style>\n",
       "<table border=\"1\" class=\"dataframe\">\n",
       "  <thead>\n",
       "    <tr style=\"text-align: right;\">\n",
       "      <th></th>\n",
       "      <th>product_id</th>\n",
       "      <th>brand_category</th>\n",
       "      <th>name</th>\n",
       "      <th>product_information</th>\n",
       "      <th>outfit_type</th>\n",
       "      <th>outfit_id</th>\n",
       "      <th>outfit_item_type</th>\n",
       "      <th>brand+name</th>\n",
       "    </tr>\n",
       "  </thead>\n",
       "  <tbody>\n",
       "    <tr>\n",
       "      <th>0</th>\n",
       "      <td>01EX0PN4J9WRNZH5F93YEX6QAF</td>\n",
       "      <td>[unknown]</td>\n",
       "      <td>[khadi, stripe, shirt, signature, shirt]</td>\n",
       "      <td>[unknown, two, khadi, stripe, shirt, signature...</td>\n",
       "      <td>top</td>\n",
       "      <td>Unknown</td>\n",
       "      <td>Unknown</td>\n",
       "      <td>[unknown]</td>\n",
       "    </tr>\n",
       "    <tr>\n",
       "      <th>1</th>\n",
       "      <td>01F0C4SKZV6YXS3265JMC39NXW</td>\n",
       "      <td>[unknown]</td>\n",
       "      <td>[ruffle, market, dress, loopy, pink, sistine, ...</td>\n",
       "      <td>[unknown, collina, strada, ruffle, market, dre...</td>\n",
       "      <td>onepiece</td>\n",
       "      <td>Unknown</td>\n",
       "      <td>Unknown</td>\n",
       "      <td>[unknown]</td>\n",
       "    </tr>\n",
       "    <tr>\n",
       "      <th>2</th>\n",
       "      <td>01EY4Y1BW8VZW51BWG5VZY82XW</td>\n",
       "      <td>[unknown]</td>\n",
       "      <td>[ibi, slip, raw, red, knit, sneaker, woman]</td>\n",
       "      <td>[unknown, cariuma, ibi, slip, raw, red, knit, ...</td>\n",
       "      <td>shoe</td>\n",
       "      <td>Unknown</td>\n",
       "      <td>Unknown</td>\n",
       "      <td>[unknown]</td>\n",
       "    </tr>\n",
       "    <tr>\n",
       "      <th>3</th>\n",
       "      <td>01EY50E27A0P5V6KCW01XPDB43</td>\n",
       "      <td>[unknown]</td>\n",
       "      <td>[ibi, slip, black, knit, sneaker, woman]</td>\n",
       "      <td>[unknown, cariuma, ibi, slip, black, knit, sne...</td>\n",
       "      <td>shoe</td>\n",
       "      <td>Unknown</td>\n",
       "      <td>Unknown</td>\n",
       "      <td>[unknown]</td>\n",
       "    </tr>\n",
       "    <tr>\n",
       "      <th>4</th>\n",
       "      <td>01EY6DWHC2W5HPNEGXKEJ4A1CX</td>\n",
       "      <td>[unknown]</td>\n",
       "      <td>[catiba, pro, skate, black, suede, canvas, con...</td>\n",
       "      <td>[unknown, cariuma, catiba, pro, skate, black, ...</td>\n",
       "      <td>shoe</td>\n",
       "      <td>Unknown</td>\n",
       "      <td>Unknown</td>\n",
       "      <td>[unknown]</td>\n",
       "    </tr>\n",
       "  </tbody>\n",
       "</table>\n",
       "</div>"
      ],
      "text/plain": [
       "                   product_id brand_category  \\\n",
       "0  01EX0PN4J9WRNZH5F93YEX6QAF      [unknown]   \n",
       "1  01F0C4SKZV6YXS3265JMC39NXW      [unknown]   \n",
       "2  01EY4Y1BW8VZW51BWG5VZY82XW      [unknown]   \n",
       "3  01EY50E27A0P5V6KCW01XPDB43      [unknown]   \n",
       "4  01EY6DWHC2W5HPNEGXKEJ4A1CX      [unknown]   \n",
       "\n",
       "                                                name  \\\n",
       "0           [khadi, stripe, shirt, signature, shirt]   \n",
       "1  [ruffle, market, dress, loopy, pink, sistine, ...   \n",
       "2        [ibi, slip, raw, red, knit, sneaker, woman]   \n",
       "3           [ibi, slip, black, knit, sneaker, woman]   \n",
       "4  [catiba, pro, skate, black, suede, canvas, con...   \n",
       "\n",
       "                                 product_information outfit_type outfit_id  \\\n",
       "0  [unknown, two, khadi, stripe, shirt, signature...         top   Unknown   \n",
       "1  [unknown, collina, strada, ruffle, market, dre...    onepiece   Unknown   \n",
       "2  [unknown, cariuma, ibi, slip, raw, red, knit, ...        shoe   Unknown   \n",
       "3  [unknown, cariuma, ibi, slip, black, knit, sne...        shoe   Unknown   \n",
       "4  [unknown, cariuma, catiba, pro, skate, black, ...        shoe   Unknown   \n",
       "\n",
       "  outfit_item_type brand+name  \n",
       "0          Unknown  [unknown]  \n",
       "1          Unknown  [unknown]  \n",
       "2          Unknown  [unknown]  \n",
       "3          Unknown  [unknown]  \n",
       "4          Unknown  [unknown]  "
      ]
     },
     "execution_count": 101,
     "metadata": {},
     "output_type": "execute_result"
    }
   ],
   "source": [
    "products_with_outfit_2.head()"
   ]
  },
  {
   "cell_type": "code",
   "execution_count": 102,
   "metadata": {
    "ExecuteTime": {
     "end_time": "2021-05-12T02:14:20.820031Z",
     "start_time": "2021-05-12T02:14:20.808324Z"
    }
   },
   "outputs": [
    {
     "data": {
      "text/html": [
       "<div>\n",
       "<style scoped>\n",
       "    .dataframe tbody tr th:only-of-type {\n",
       "        vertical-align: middle;\n",
       "    }\n",
       "\n",
       "    .dataframe tbody tr th {\n",
       "        vertical-align: top;\n",
       "    }\n",
       "\n",
       "    .dataframe thead th {\n",
       "        text-align: right;\n",
       "    }\n",
       "</style>\n",
       "<table border=\"1\" class=\"dataframe\">\n",
       "  <thead>\n",
       "    <tr style=\"text-align: right;\">\n",
       "      <th></th>\n",
       "      <th>product_id</th>\n",
       "      <th>brand_category</th>\n",
       "      <th>name</th>\n",
       "      <th>product_information</th>\n",
       "      <th>outfit_type</th>\n",
       "      <th>outfit_id</th>\n",
       "      <th>outfit_item_type</th>\n",
       "      <th>brand+name</th>\n",
       "    </tr>\n",
       "  </thead>\n",
       "  <tbody>\n",
       "    <tr>\n",
       "      <th>65872</th>\n",
       "      <td>01DT0DKMM6G7HDJS12QCWK5X4H</td>\n",
       "      <td>Unknown</td>\n",
       "      <td>Unknown</td>\n",
       "      <td>Unknown</td>\n",
       "      <td>Unknown</td>\n",
       "      <td>01DVP6ABA6MSWJCVWVWF647HS6</td>\n",
       "      <td>accessory</td>\n",
       "      <td>[chloésmall, marcie, leather, saddle, bag]</td>\n",
       "    </tr>\n",
       "    <tr>\n",
       "      <th>65873</th>\n",
       "      <td>01DT0DKMM6G7HDJS12QCWK5X4H</td>\n",
       "      <td>Unknown</td>\n",
       "      <td>Unknown</td>\n",
       "      <td>Unknown</td>\n",
       "      <td>Unknown</td>\n",
       "      <td>01DVP6ABA6YSCYQP2SY055EW1J</td>\n",
       "      <td>accessory</td>\n",
       "      <td>[chloésmall, marcie, leather, saddle, bag]</td>\n",
       "    </tr>\n",
       "    <tr>\n",
       "      <th>65874</th>\n",
       "      <td>01DPGXRAZBHQYMCX47N55TP8PF</td>\n",
       "      <td>Unknown</td>\n",
       "      <td>Unknown</td>\n",
       "      <td>Unknown</td>\n",
       "      <td>Unknown</td>\n",
       "      <td>01E1FCZQH97DYHV4VPYV8F05AG</td>\n",
       "      <td>bottom</td>\n",
       "      <td>[j, crewtall, asymmetrical, pencil, skirt, eve...</td>\n",
       "    </tr>\n",
       "    <tr>\n",
       "      <th>65875</th>\n",
       "      <td>01DPKMJFK6ESTB74DTB2HSB1S1</td>\n",
       "      <td>Unknown</td>\n",
       "      <td>Unknown</td>\n",
       "      <td>Unknown</td>\n",
       "      <td>Unknown</td>\n",
       "      <td>01E2GX7WKRDKH05FS3NR4C25C4</td>\n",
       "      <td>top</td>\n",
       "      <td>[reformationeddy, top]</td>\n",
       "    </tr>\n",
       "    <tr>\n",
       "      <th>65876</th>\n",
       "      <td>01DPKMJFK6ESTB74DTB2HSB1S1</td>\n",
       "      <td>Unknown</td>\n",
       "      <td>Unknown</td>\n",
       "      <td>Unknown</td>\n",
       "      <td>Unknown</td>\n",
       "      <td>01E2KHK2TK75HF0APE38K8DH4R</td>\n",
       "      <td>top</td>\n",
       "      <td>[reformationeddy, top]</td>\n",
       "    </tr>\n",
       "  </tbody>\n",
       "</table>\n",
       "</div>"
      ],
      "text/plain": [
       "                       product_id brand_category     name product_information  \\\n",
       "65872  01DT0DKMM6G7HDJS12QCWK5X4H        Unknown  Unknown             Unknown   \n",
       "65873  01DT0DKMM6G7HDJS12QCWK5X4H        Unknown  Unknown             Unknown   \n",
       "65874  01DPGXRAZBHQYMCX47N55TP8PF        Unknown  Unknown             Unknown   \n",
       "65875  01DPKMJFK6ESTB74DTB2HSB1S1        Unknown  Unknown             Unknown   \n",
       "65876  01DPKMJFK6ESTB74DTB2HSB1S1        Unknown  Unknown             Unknown   \n",
       "\n",
       "      outfit_type                   outfit_id outfit_item_type  \\\n",
       "65872     Unknown  01DVP6ABA6MSWJCVWVWF647HS6        accessory   \n",
       "65873     Unknown  01DVP6ABA6YSCYQP2SY055EW1J        accessory   \n",
       "65874     Unknown  01E1FCZQH97DYHV4VPYV8F05AG           bottom   \n",
       "65875     Unknown  01E2GX7WKRDKH05FS3NR4C25C4              top   \n",
       "65876     Unknown  01E2KHK2TK75HF0APE38K8DH4R              top   \n",
       "\n",
       "                                              brand+name  \n",
       "65872         [chloésmall, marcie, leather, saddle, bag]  \n",
       "65873         [chloésmall, marcie, leather, saddle, bag]  \n",
       "65874  [j, crewtall, asymmetrical, pencil, skirt, eve...  \n",
       "65875                             [reformationeddy, top]  \n",
       "65876                             [reformationeddy, top]  "
      ]
     },
     "execution_count": 102,
     "metadata": {},
     "output_type": "execute_result"
    }
   ],
   "source": [
    "products_with_outfit_2.tail()"
   ]
  },
  {
   "cell_type": "code",
   "execution_count": 103,
   "metadata": {
    "ExecuteTime": {
     "end_time": "2021-05-12T02:14:20.836678Z",
     "start_time": "2021-05-12T02:14:20.821444Z"
    }
   },
   "outputs": [],
   "source": [
    "products_with_outfit_3 = products_with_outfit_2.copy()"
   ]
  },
  {
   "cell_type": "markdown",
   "metadata": {},
   "source": [
    "Transform list to string for name_information, product_information, brand+name"
   ]
  },
  {
   "cell_type": "code",
   "execution_count": 104,
   "metadata": {
    "ExecuteTime": {
     "end_time": "2021-05-12T02:14:20.841533Z",
     "start_time": "2021-05-12T02:14:20.838037Z"
    }
   },
   "outputs": [],
   "source": [
    "def list_to_str(df, col):\n",
    "    for i in range(len(df)):\n",
    "        if df[col][i] == 'Unknown':\n",
    "            continue\n",
    "        lst = [word for word in df[col][i] if word != 'Unknown']\n",
    "        final_str = \" \".join(lst)\n",
    "        df[col][i] = final_str"
   ]
  },
  {
   "cell_type": "code",
   "execution_count": 105,
   "metadata": {
    "ExecuteTime": {
     "end_time": "2021-05-12T02:15:53.816435Z",
     "start_time": "2021-05-12T02:14:20.843123Z"
    }
   },
   "outputs": [],
   "source": [
    "list_to_str(products_with_outfit_3, 'brand_category')\n",
    "list_to_str(products_with_outfit_3, 'name')\n",
    "list_to_str(products_with_outfit_3, 'product_information')\n",
    "list_to_str(products_with_outfit_3, 'brand+name')"
   ]
  },
  {
   "cell_type": "code",
   "execution_count": 106,
   "metadata": {
    "ExecuteTime": {
     "end_time": "2021-05-12T02:15:53.830717Z",
     "start_time": "2021-05-12T02:15:53.817836Z"
    }
   },
   "outputs": [
    {
     "data": {
      "text/html": [
       "<div>\n",
       "<style scoped>\n",
       "    .dataframe tbody tr th:only-of-type {\n",
       "        vertical-align: middle;\n",
       "    }\n",
       "\n",
       "    .dataframe tbody tr th {\n",
       "        vertical-align: top;\n",
       "    }\n",
       "\n",
       "    .dataframe thead th {\n",
       "        text-align: right;\n",
       "    }\n",
       "</style>\n",
       "<table border=\"1\" class=\"dataframe\">\n",
       "  <thead>\n",
       "    <tr style=\"text-align: right;\">\n",
       "      <th></th>\n",
       "      <th>product_id</th>\n",
       "      <th>brand_category</th>\n",
       "      <th>name</th>\n",
       "      <th>product_information</th>\n",
       "      <th>outfit_type</th>\n",
       "      <th>outfit_id</th>\n",
       "      <th>outfit_item_type</th>\n",
       "      <th>brand+name</th>\n",
       "    </tr>\n",
       "  </thead>\n",
       "  <tbody>\n",
       "    <tr>\n",
       "      <th>0</th>\n",
       "      <td>01EX0PN4J9WRNZH5F93YEX6QAF</td>\n",
       "      <td>unknown</td>\n",
       "      <td>khadi stripe shirt signature shirt</td>\n",
       "      <td>unknown two khadi stripe shirt signature shirt...</td>\n",
       "      <td>top</td>\n",
       "      <td>Unknown</td>\n",
       "      <td>Unknown</td>\n",
       "      <td>unknown</td>\n",
       "    </tr>\n",
       "    <tr>\n",
       "      <th>1</th>\n",
       "      <td>01F0C4SKZV6YXS3265JMC39NXW</td>\n",
       "      <td>unknown</td>\n",
       "      <td>ruffle market dress loopy pink sistine tomato</td>\n",
       "      <td>unknown collina strada ruffle market dress loo...</td>\n",
       "      <td>onepiece</td>\n",
       "      <td>Unknown</td>\n",
       "      <td>Unknown</td>\n",
       "      <td>unknown</td>\n",
       "    </tr>\n",
       "    <tr>\n",
       "      <th>2</th>\n",
       "      <td>01EY4Y1BW8VZW51BWG5VZY82XW</td>\n",
       "      <td>unknown</td>\n",
       "      <td>ibi slip raw red knit sneaker woman</td>\n",
       "      <td>unknown cariuma ibi slip raw red knit sneaker ...</td>\n",
       "      <td>shoe</td>\n",
       "      <td>Unknown</td>\n",
       "      <td>Unknown</td>\n",
       "      <td>unknown</td>\n",
       "    </tr>\n",
       "    <tr>\n",
       "      <th>3</th>\n",
       "      <td>01EY50E27A0P5V6KCW01XPDB43</td>\n",
       "      <td>unknown</td>\n",
       "      <td>ibi slip black knit sneaker woman</td>\n",
       "      <td>unknown cariuma ibi slip black knit sneaker wo...</td>\n",
       "      <td>shoe</td>\n",
       "      <td>Unknown</td>\n",
       "      <td>Unknown</td>\n",
       "      <td>unknown</td>\n",
       "    </tr>\n",
       "    <tr>\n",
       "      <th>4</th>\n",
       "      <td>01EY6DWHC2W5HPNEGXKEJ4A1CX</td>\n",
       "      <td>unknown</td>\n",
       "      <td>catiba pro skate black suede canvas contrast t...</td>\n",
       "      <td>unknown cariuma catiba pro skate black suede c...</td>\n",
       "      <td>shoe</td>\n",
       "      <td>Unknown</td>\n",
       "      <td>Unknown</td>\n",
       "      <td>unknown</td>\n",
       "    </tr>\n",
       "  </tbody>\n",
       "</table>\n",
       "</div>"
      ],
      "text/plain": [
       "                   product_id brand_category  \\\n",
       "0  01EX0PN4J9WRNZH5F93YEX6QAF        unknown   \n",
       "1  01F0C4SKZV6YXS3265JMC39NXW        unknown   \n",
       "2  01EY4Y1BW8VZW51BWG5VZY82XW        unknown   \n",
       "3  01EY50E27A0P5V6KCW01XPDB43        unknown   \n",
       "4  01EY6DWHC2W5HPNEGXKEJ4A1CX        unknown   \n",
       "\n",
       "                                                name  \\\n",
       "0                 khadi stripe shirt signature shirt   \n",
       "1      ruffle market dress loopy pink sistine tomato   \n",
       "2                ibi slip raw red knit sneaker woman   \n",
       "3                  ibi slip black knit sneaker woman   \n",
       "4  catiba pro skate black suede canvas contrast t...   \n",
       "\n",
       "                                 product_information outfit_type outfit_id  \\\n",
       "0  unknown two khadi stripe shirt signature shirt...         top   Unknown   \n",
       "1  unknown collina strada ruffle market dress loo...    onepiece   Unknown   \n",
       "2  unknown cariuma ibi slip raw red knit sneaker ...        shoe   Unknown   \n",
       "3  unknown cariuma ibi slip black knit sneaker wo...        shoe   Unknown   \n",
       "4  unknown cariuma catiba pro skate black suede c...        shoe   Unknown   \n",
       "\n",
       "  outfit_item_type brand+name  \n",
       "0          Unknown    unknown  \n",
       "1          Unknown    unknown  \n",
       "2          Unknown    unknown  \n",
       "3          Unknown    unknown  \n",
       "4          Unknown    unknown  "
      ]
     },
     "execution_count": 106,
     "metadata": {},
     "output_type": "execute_result"
    }
   ],
   "source": [
    "products_with_outfit_3.head()"
   ]
  },
  {
   "cell_type": "code",
   "execution_count": 107,
   "metadata": {
    "ExecuteTime": {
     "end_time": "2021-05-12T02:15:53.843615Z",
     "start_time": "2021-05-12T02:15:53.832785Z"
    }
   },
   "outputs": [
    {
     "data": {
      "text/html": [
       "<div>\n",
       "<style scoped>\n",
       "    .dataframe tbody tr th:only-of-type {\n",
       "        vertical-align: middle;\n",
       "    }\n",
       "\n",
       "    .dataframe tbody tr th {\n",
       "        vertical-align: top;\n",
       "    }\n",
       "\n",
       "    .dataframe thead th {\n",
       "        text-align: right;\n",
       "    }\n",
       "</style>\n",
       "<table border=\"1\" class=\"dataframe\">\n",
       "  <thead>\n",
       "    <tr style=\"text-align: right;\">\n",
       "      <th></th>\n",
       "      <th>product_id</th>\n",
       "      <th>brand_category</th>\n",
       "      <th>name</th>\n",
       "      <th>product_information</th>\n",
       "      <th>outfit_type</th>\n",
       "      <th>outfit_id</th>\n",
       "      <th>outfit_item_type</th>\n",
       "      <th>brand+name</th>\n",
       "    </tr>\n",
       "  </thead>\n",
       "  <tbody>\n",
       "    <tr>\n",
       "      <th>65872</th>\n",
       "      <td>01DT0DKMM6G7HDJS12QCWK5X4H</td>\n",
       "      <td>Unknown</td>\n",
       "      <td>Unknown</td>\n",
       "      <td>Unknown</td>\n",
       "      <td>Unknown</td>\n",
       "      <td>01DVP6ABA6MSWJCVWVWF647HS6</td>\n",
       "      <td>accessory</td>\n",
       "      <td>chloésmall marcie leather saddle bag</td>\n",
       "    </tr>\n",
       "    <tr>\n",
       "      <th>65873</th>\n",
       "      <td>01DT0DKMM6G7HDJS12QCWK5X4H</td>\n",
       "      <td>Unknown</td>\n",
       "      <td>Unknown</td>\n",
       "      <td>Unknown</td>\n",
       "      <td>Unknown</td>\n",
       "      <td>01DVP6ABA6YSCYQP2SY055EW1J</td>\n",
       "      <td>accessory</td>\n",
       "      <td>chloésmall marcie leather saddle bag</td>\n",
       "    </tr>\n",
       "    <tr>\n",
       "      <th>65874</th>\n",
       "      <td>01DPGXRAZBHQYMCX47N55TP8PF</td>\n",
       "      <td>Unknown</td>\n",
       "      <td>Unknown</td>\n",
       "      <td>Unknown</td>\n",
       "      <td>Unknown</td>\n",
       "      <td>01E1FCZQH97DYHV4VPYV8F05AG</td>\n",
       "      <td>bottom</td>\n",
       "      <td>j crewtall asymmetrical pencil skirt everyday ...</td>\n",
       "    </tr>\n",
       "    <tr>\n",
       "      <th>65875</th>\n",
       "      <td>01DPKMJFK6ESTB74DTB2HSB1S1</td>\n",
       "      <td>Unknown</td>\n",
       "      <td>Unknown</td>\n",
       "      <td>Unknown</td>\n",
       "      <td>Unknown</td>\n",
       "      <td>01E2GX7WKRDKH05FS3NR4C25C4</td>\n",
       "      <td>top</td>\n",
       "      <td>reformationeddy top</td>\n",
       "    </tr>\n",
       "    <tr>\n",
       "      <th>65876</th>\n",
       "      <td>01DPKMJFK6ESTB74DTB2HSB1S1</td>\n",
       "      <td>Unknown</td>\n",
       "      <td>Unknown</td>\n",
       "      <td>Unknown</td>\n",
       "      <td>Unknown</td>\n",
       "      <td>01E2KHK2TK75HF0APE38K8DH4R</td>\n",
       "      <td>top</td>\n",
       "      <td>reformationeddy top</td>\n",
       "    </tr>\n",
       "  </tbody>\n",
       "</table>\n",
       "</div>"
      ],
      "text/plain": [
       "                       product_id brand_category     name product_information  \\\n",
       "65872  01DT0DKMM6G7HDJS12QCWK5X4H        Unknown  Unknown             Unknown   \n",
       "65873  01DT0DKMM6G7HDJS12QCWK5X4H        Unknown  Unknown             Unknown   \n",
       "65874  01DPGXRAZBHQYMCX47N55TP8PF        Unknown  Unknown             Unknown   \n",
       "65875  01DPKMJFK6ESTB74DTB2HSB1S1        Unknown  Unknown             Unknown   \n",
       "65876  01DPKMJFK6ESTB74DTB2HSB1S1        Unknown  Unknown             Unknown   \n",
       "\n",
       "      outfit_type                   outfit_id outfit_item_type  \\\n",
       "65872     Unknown  01DVP6ABA6MSWJCVWVWF647HS6        accessory   \n",
       "65873     Unknown  01DVP6ABA6YSCYQP2SY055EW1J        accessory   \n",
       "65874     Unknown  01E1FCZQH97DYHV4VPYV8F05AG           bottom   \n",
       "65875     Unknown  01E2GX7WKRDKH05FS3NR4C25C4              top   \n",
       "65876     Unknown  01E2KHK2TK75HF0APE38K8DH4R              top   \n",
       "\n",
       "                                              brand+name  \n",
       "65872               chloésmall marcie leather saddle bag  \n",
       "65873               chloésmall marcie leather saddle bag  \n",
       "65874  j crewtall asymmetrical pencil skirt everyday ...  \n",
       "65875                                reformationeddy top  \n",
       "65876                                reformationeddy top  "
      ]
     },
     "execution_count": 107,
     "metadata": {},
     "output_type": "execute_result"
    }
   ],
   "source": [
    "products_with_outfit_3.tail()"
   ]
  },
  {
   "cell_type": "code",
   "execution_count": 108,
   "metadata": {
    "ExecuteTime": {
     "end_time": "2021-05-12T02:15:53.892218Z",
     "start_time": "2021-05-12T02:15:53.845863Z"
    }
   },
   "outputs": [],
   "source": [
    "products_with_outfit_3['final_text'] = products_with_outfit_3['product_information'] + \" \" + \\\n",
    "                                       products_with_outfit_3['brand+name']"
   ]
  },
  {
   "cell_type": "code",
   "execution_count": 109,
   "metadata": {
    "ExecuteTime": {
     "end_time": "2021-05-12T02:15:53.919787Z",
     "start_time": "2021-05-12T02:15:53.893874Z"
    }
   },
   "outputs": [],
   "source": [
    "products_with_outfit_3 = products_with_outfit_3[['product_id', 'outfit_type', 'outfit_id', \n",
    "                                                 'outfit_item_type', 'final_text']]"
   ]
  },
  {
   "cell_type": "code",
   "execution_count": 110,
   "metadata": {
    "ExecuteTime": {
     "end_time": "2021-05-12T02:15:53.931384Z",
     "start_time": "2021-05-12T02:15:53.921806Z"
    }
   },
   "outputs": [
    {
     "data": {
      "text/html": [
       "<div>\n",
       "<style scoped>\n",
       "    .dataframe tbody tr th:only-of-type {\n",
       "        vertical-align: middle;\n",
       "    }\n",
       "\n",
       "    .dataframe tbody tr th {\n",
       "        vertical-align: top;\n",
       "    }\n",
       "\n",
       "    .dataframe thead th {\n",
       "        text-align: right;\n",
       "    }\n",
       "</style>\n",
       "<table border=\"1\" class=\"dataframe\">\n",
       "  <thead>\n",
       "    <tr style=\"text-align: right;\">\n",
       "      <th></th>\n",
       "      <th>product_id</th>\n",
       "      <th>outfit_type</th>\n",
       "      <th>outfit_id</th>\n",
       "      <th>outfit_item_type</th>\n",
       "      <th>final_text</th>\n",
       "    </tr>\n",
       "  </thead>\n",
       "  <tbody>\n",
       "    <tr>\n",
       "      <th>0</th>\n",
       "      <td>01EX0PN4J9WRNZH5F93YEX6QAF</td>\n",
       "      <td>top</td>\n",
       "      <td>Unknown</td>\n",
       "      <td>Unknown</td>\n",
       "      <td>unknown two khadi stripe shirt signature shirt...</td>\n",
       "    </tr>\n",
       "    <tr>\n",
       "      <th>1</th>\n",
       "      <td>01F0C4SKZV6YXS3265JMC39NXW</td>\n",
       "      <td>onepiece</td>\n",
       "      <td>Unknown</td>\n",
       "      <td>Unknown</td>\n",
       "      <td>unknown collina strada ruffle market dress loo...</td>\n",
       "    </tr>\n",
       "    <tr>\n",
       "      <th>2</th>\n",
       "      <td>01EY4Y1BW8VZW51BWG5VZY82XW</td>\n",
       "      <td>shoe</td>\n",
       "      <td>Unknown</td>\n",
       "      <td>Unknown</td>\n",
       "      <td>unknown cariuma ibi slip raw red knit sneaker ...</td>\n",
       "    </tr>\n",
       "    <tr>\n",
       "      <th>3</th>\n",
       "      <td>01EY50E27A0P5V6KCW01XPDB43</td>\n",
       "      <td>shoe</td>\n",
       "      <td>Unknown</td>\n",
       "      <td>Unknown</td>\n",
       "      <td>unknown cariuma ibi slip black knit sneaker wo...</td>\n",
       "    </tr>\n",
       "    <tr>\n",
       "      <th>4</th>\n",
       "      <td>01EY6DWHC2W5HPNEGXKEJ4A1CX</td>\n",
       "      <td>shoe</td>\n",
       "      <td>Unknown</td>\n",
       "      <td>Unknown</td>\n",
       "      <td>unknown cariuma catiba pro skate black suede c...</td>\n",
       "    </tr>\n",
       "  </tbody>\n",
       "</table>\n",
       "</div>"
      ],
      "text/plain": [
       "                   product_id outfit_type outfit_id outfit_item_type  \\\n",
       "0  01EX0PN4J9WRNZH5F93YEX6QAF         top   Unknown          Unknown   \n",
       "1  01F0C4SKZV6YXS3265JMC39NXW    onepiece   Unknown          Unknown   \n",
       "2  01EY4Y1BW8VZW51BWG5VZY82XW        shoe   Unknown          Unknown   \n",
       "3  01EY50E27A0P5V6KCW01XPDB43        shoe   Unknown          Unknown   \n",
       "4  01EY6DWHC2W5HPNEGXKEJ4A1CX        shoe   Unknown          Unknown   \n",
       "\n",
       "                                          final_text  \n",
       "0  unknown two khadi stripe shirt signature shirt...  \n",
       "1  unknown collina strada ruffle market dress loo...  \n",
       "2  unknown cariuma ibi slip raw red knit sneaker ...  \n",
       "3  unknown cariuma ibi slip black knit sneaker wo...  \n",
       "4  unknown cariuma catiba pro skate black suede c...  "
      ]
     },
     "execution_count": 110,
     "metadata": {},
     "output_type": "execute_result"
    }
   ],
   "source": [
    "products_with_outfit_3.head()"
   ]
  },
  {
   "cell_type": "code",
   "execution_count": 111,
   "metadata": {
    "ExecuteTime": {
     "end_time": "2021-05-12T02:15:53.942328Z",
     "start_time": "2021-05-12T02:15:53.933136Z"
    }
   },
   "outputs": [
    {
     "data": {
      "text/html": [
       "<div>\n",
       "<style scoped>\n",
       "    .dataframe tbody tr th:only-of-type {\n",
       "        vertical-align: middle;\n",
       "    }\n",
       "\n",
       "    .dataframe tbody tr th {\n",
       "        vertical-align: top;\n",
       "    }\n",
       "\n",
       "    .dataframe thead th {\n",
       "        text-align: right;\n",
       "    }\n",
       "</style>\n",
       "<table border=\"1\" class=\"dataframe\">\n",
       "  <thead>\n",
       "    <tr style=\"text-align: right;\">\n",
       "      <th></th>\n",
       "      <th>product_id</th>\n",
       "      <th>outfit_type</th>\n",
       "      <th>outfit_id</th>\n",
       "      <th>outfit_item_type</th>\n",
       "      <th>final_text</th>\n",
       "    </tr>\n",
       "  </thead>\n",
       "  <tbody>\n",
       "    <tr>\n",
       "      <th>65872</th>\n",
       "      <td>01DT0DKMM6G7HDJS12QCWK5X4H</td>\n",
       "      <td>Unknown</td>\n",
       "      <td>01DVP6ABA6MSWJCVWVWF647HS6</td>\n",
       "      <td>accessory</td>\n",
       "      <td>Unknown chloésmall marcie leather saddle bag</td>\n",
       "    </tr>\n",
       "    <tr>\n",
       "      <th>65873</th>\n",
       "      <td>01DT0DKMM6G7HDJS12QCWK5X4H</td>\n",
       "      <td>Unknown</td>\n",
       "      <td>01DVP6ABA6YSCYQP2SY055EW1J</td>\n",
       "      <td>accessory</td>\n",
       "      <td>Unknown chloésmall marcie leather saddle bag</td>\n",
       "    </tr>\n",
       "    <tr>\n",
       "      <th>65874</th>\n",
       "      <td>01DPGXRAZBHQYMCX47N55TP8PF</td>\n",
       "      <td>Unknown</td>\n",
       "      <td>01E1FCZQH97DYHV4VPYV8F05AG</td>\n",
       "      <td>bottom</td>\n",
       "      <td>Unknown j crewtall asymmetrical pencil skirt e...</td>\n",
       "    </tr>\n",
       "    <tr>\n",
       "      <th>65875</th>\n",
       "      <td>01DPKMJFK6ESTB74DTB2HSB1S1</td>\n",
       "      <td>Unknown</td>\n",
       "      <td>01E2GX7WKRDKH05FS3NR4C25C4</td>\n",
       "      <td>top</td>\n",
       "      <td>Unknown reformationeddy top</td>\n",
       "    </tr>\n",
       "    <tr>\n",
       "      <th>65876</th>\n",
       "      <td>01DPKMJFK6ESTB74DTB2HSB1S1</td>\n",
       "      <td>Unknown</td>\n",
       "      <td>01E2KHK2TK75HF0APE38K8DH4R</td>\n",
       "      <td>top</td>\n",
       "      <td>Unknown reformationeddy top</td>\n",
       "    </tr>\n",
       "  </tbody>\n",
       "</table>\n",
       "</div>"
      ],
      "text/plain": [
       "                       product_id outfit_type                   outfit_id  \\\n",
       "65872  01DT0DKMM6G7HDJS12QCWK5X4H     Unknown  01DVP6ABA6MSWJCVWVWF647HS6   \n",
       "65873  01DT0DKMM6G7HDJS12QCWK5X4H     Unknown  01DVP6ABA6YSCYQP2SY055EW1J   \n",
       "65874  01DPGXRAZBHQYMCX47N55TP8PF     Unknown  01E1FCZQH97DYHV4VPYV8F05AG   \n",
       "65875  01DPKMJFK6ESTB74DTB2HSB1S1     Unknown  01E2GX7WKRDKH05FS3NR4C25C4   \n",
       "65876  01DPKMJFK6ESTB74DTB2HSB1S1     Unknown  01E2KHK2TK75HF0APE38K8DH4R   \n",
       "\n",
       "      outfit_item_type                                         final_text  \n",
       "65872        accessory       Unknown chloésmall marcie leather saddle bag  \n",
       "65873        accessory       Unknown chloésmall marcie leather saddle bag  \n",
       "65874           bottom  Unknown j crewtall asymmetrical pencil skirt e...  \n",
       "65875              top                        Unknown reformationeddy top  \n",
       "65876              top                        Unknown reformationeddy top  "
      ]
     },
     "execution_count": 111,
     "metadata": {},
     "output_type": "execute_result"
    }
   ],
   "source": [
    "products_with_outfit_3.tail()"
   ]
  },
  {
   "cell_type": "code",
   "execution_count": 112,
   "metadata": {
    "ExecuteTime": {
     "end_time": "2021-05-12T02:15:53.948547Z",
     "start_time": "2021-05-12T02:15:53.943995Z"
    }
   },
   "outputs": [],
   "source": [
    "products_with_outfit_4 = products_with_outfit_3.copy()"
   ]
  },
  {
   "cell_type": "code",
   "execution_count": 113,
   "metadata": {
    "ExecuteTime": {
     "end_time": "2021-05-12T02:15:55.041321Z",
     "start_time": "2021-05-12T02:15:53.950021Z"
    }
   },
   "outputs": [],
   "source": [
    "products_with_outfit_4['final_text'] = products_with_outfit_4['final_text'].str.split(r'[\\s\\:\\/]+')"
   ]
  },
  {
   "cell_type": "code",
   "execution_count": 114,
   "metadata": {
    "ExecuteTime": {
     "end_time": "2021-05-12T02:16:29.063403Z",
     "start_time": "2021-05-12T02:15:55.043755Z"
    }
   },
   "outputs": [],
   "source": [
    "for i in range(len(products_with_outfit_4)):\n",
    "    lst = [word for word in products_with_outfit_4['final_text'][i] if word != 'unknown' and word != 'Unknown']\n",
    "    final_str = \" \".join(lst)\n",
    "    products_with_outfit_4['final_text'][i] = final_str"
   ]
  },
  {
   "cell_type": "code",
   "execution_count": 115,
   "metadata": {
    "ExecuteTime": {
     "end_time": "2021-05-12T02:16:29.077363Z",
     "start_time": "2021-05-12T02:16:29.065646Z"
    },
    "scrolled": true
   },
   "outputs": [
    {
     "data": {
      "text/html": [
       "<div>\n",
       "<style scoped>\n",
       "    .dataframe tbody tr th:only-of-type {\n",
       "        vertical-align: middle;\n",
       "    }\n",
       "\n",
       "    .dataframe tbody tr th {\n",
       "        vertical-align: top;\n",
       "    }\n",
       "\n",
       "    .dataframe thead th {\n",
       "        text-align: right;\n",
       "    }\n",
       "</style>\n",
       "<table border=\"1\" class=\"dataframe\">\n",
       "  <thead>\n",
       "    <tr style=\"text-align: right;\">\n",
       "      <th></th>\n",
       "      <th>product_id</th>\n",
       "      <th>outfit_type</th>\n",
       "      <th>outfit_id</th>\n",
       "      <th>outfit_item_type</th>\n",
       "      <th>final_text</th>\n",
       "    </tr>\n",
       "  </thead>\n",
       "  <tbody>\n",
       "    <tr>\n",
       "      <th>65872</th>\n",
       "      <td>01DT0DKMM6G7HDJS12QCWK5X4H</td>\n",
       "      <td>Unknown</td>\n",
       "      <td>01DVP6ABA6MSWJCVWVWF647HS6</td>\n",
       "      <td>accessory</td>\n",
       "      <td>chloésmall marcie leather saddle bag</td>\n",
       "    </tr>\n",
       "    <tr>\n",
       "      <th>65873</th>\n",
       "      <td>01DT0DKMM6G7HDJS12QCWK5X4H</td>\n",
       "      <td>Unknown</td>\n",
       "      <td>01DVP6ABA6YSCYQP2SY055EW1J</td>\n",
       "      <td>accessory</td>\n",
       "      <td>chloésmall marcie leather saddle bag</td>\n",
       "    </tr>\n",
       "    <tr>\n",
       "      <th>65874</th>\n",
       "      <td>01DPGXRAZBHQYMCX47N55TP8PF</td>\n",
       "      <td>Unknown</td>\n",
       "      <td>01E1FCZQH97DYHV4VPYV8F05AG</td>\n",
       "      <td>bottom</td>\n",
       "      <td>j crewtall asymmetrical pencil skirt everyday ...</td>\n",
       "    </tr>\n",
       "    <tr>\n",
       "      <th>65875</th>\n",
       "      <td>01DPKMJFK6ESTB74DTB2HSB1S1</td>\n",
       "      <td>Unknown</td>\n",
       "      <td>01E2GX7WKRDKH05FS3NR4C25C4</td>\n",
       "      <td>top</td>\n",
       "      <td>reformationeddy top</td>\n",
       "    </tr>\n",
       "    <tr>\n",
       "      <th>65876</th>\n",
       "      <td>01DPKMJFK6ESTB74DTB2HSB1S1</td>\n",
       "      <td>Unknown</td>\n",
       "      <td>01E2KHK2TK75HF0APE38K8DH4R</td>\n",
       "      <td>top</td>\n",
       "      <td>reformationeddy top</td>\n",
       "    </tr>\n",
       "  </tbody>\n",
       "</table>\n",
       "</div>"
      ],
      "text/plain": [
       "                       product_id outfit_type                   outfit_id  \\\n",
       "65872  01DT0DKMM6G7HDJS12QCWK5X4H     Unknown  01DVP6ABA6MSWJCVWVWF647HS6   \n",
       "65873  01DT0DKMM6G7HDJS12QCWK5X4H     Unknown  01DVP6ABA6YSCYQP2SY055EW1J   \n",
       "65874  01DPGXRAZBHQYMCX47N55TP8PF     Unknown  01E1FCZQH97DYHV4VPYV8F05AG   \n",
       "65875  01DPKMJFK6ESTB74DTB2HSB1S1     Unknown  01E2GX7WKRDKH05FS3NR4C25C4   \n",
       "65876  01DPKMJFK6ESTB74DTB2HSB1S1     Unknown  01E2KHK2TK75HF0APE38K8DH4R   \n",
       "\n",
       "      outfit_item_type                                         final_text  \n",
       "65872        accessory               chloésmall marcie leather saddle bag  \n",
       "65873        accessory               chloésmall marcie leather saddle bag  \n",
       "65874           bottom  j crewtall asymmetrical pencil skirt everyday ...  \n",
       "65875              top                                reformationeddy top  \n",
       "65876              top                                reformationeddy top  "
      ]
     },
     "execution_count": 115,
     "metadata": {},
     "output_type": "execute_result"
    }
   ],
   "source": [
    "products_with_outfit_4.tail()"
   ]
  },
  {
   "cell_type": "markdown",
   "metadata": {},
   "source": [
    "#### Correct the Outfit Category Using Existing Data in Outfit Dataframe"
   ]
  },
  {
   "cell_type": "code",
   "execution_count": 116,
   "metadata": {
    "ExecuteTime": {
     "end_time": "2021-05-12T02:16:29.651916Z",
     "start_time": "2021-05-12T02:16:29.079963Z"
    }
   },
   "outputs": [
    {
     "name": "stdout",
     "output_type": "stream",
     "text": [
      "92\n",
      "769\n"
     ]
    }
   ],
   "source": [
    "num_unmatch = set()\n",
    "num_with_outfit = set()\n",
    "\n",
    "for i in range(len(products_with_outfit_4)):\n",
    "    if products_with_outfit_4.loc[i, 'outfit_item_type'] != 'Unknown' and products_with_outfit_4.loc[i, 'outfit_type'] != 'Unknown':\n",
    "        num_with_outfit.add(products_with_outfit_4.loc[i, 'product_id'])\n",
    "        if products_with_outfit_4.loc[i, 'outfit_type'] != products_with_outfit_4.loc[i, 'outfit_item_type']:\n",
    "            num_unmatch.add(products_with_outfit_4.loc[i, 'product_id'])\n",
    "            \n",
    "print(len(num_unmatch))\n",
    "print(len(num_with_outfit))"
   ]
  },
  {
   "cell_type": "code",
   "execution_count": 117,
   "metadata": {
    "ExecuteTime": {
     "end_time": "2021-05-12T02:16:29.657988Z",
     "start_time": "2021-05-12T02:16:29.654289Z"
    }
   },
   "outputs": [
    {
     "name": "stdout",
     "output_type": "stream",
     "text": [
      "The accuracy rate of the matching is 88.0%.\n"
     ]
    }
   ],
   "source": [
    "print(f'The accuracy rate of the matching is {round((1 - len(num_unmatch)/len(num_with_outfit)), 2)*100}%.')"
   ]
  },
  {
   "cell_type": "code",
   "execution_count": 118,
   "metadata": {
    "ExecuteTime": {
     "end_time": "2021-05-12T02:16:30.270793Z",
     "start_time": "2021-05-12T02:16:29.660422Z"
    }
   },
   "outputs": [],
   "source": [
    "for i in range(len(products_with_outfit_4)):\n",
    "    if products_with_outfit_4.loc[i, 'outfit_item_type'] != 'Unknown':\n",
    "        if products_with_outfit_4.loc[i, 'outfit_type'] != products_with_outfit_4.loc[i, 'outfit_item_type']:\n",
    "            products_with_outfit_4.loc[i, 'outfit_type'] = products_with_outfit_4.loc[i, 'outfit_item_type']"
   ]
  },
  {
   "cell_type": "code",
   "execution_count": 119,
   "metadata": {
    "ExecuteTime": {
     "end_time": "2021-05-12T02:16:30.278969Z",
     "start_time": "2021-05-12T02:16:30.272807Z"
    }
   },
   "outputs": [],
   "source": [
    "products_with_outfit_5 = products_with_outfit_4.copy()"
   ]
  },
  {
   "cell_type": "markdown",
   "metadata": {},
   "source": [
    "#### Drop Irrelevant Records \n",
    "\n",
    "We droped records with outfit_type as 'Unknown' or 'others'"
   ]
  },
  {
   "cell_type": "code",
   "execution_count": 120,
   "metadata": {
    "ExecuteTime": {
     "end_time": "2021-05-12T02:16:30.285027Z",
     "start_time": "2021-05-12T02:16:30.281188Z"
    }
   },
   "outputs": [
    {
     "data": {
      "text/plain": [
       "65877"
      ]
     },
     "execution_count": 120,
     "metadata": {},
     "output_type": "execute_result"
    }
   ],
   "source": [
    "len(products_with_outfit_5)"
   ]
  },
  {
   "cell_type": "code",
   "execution_count": 121,
   "metadata": {
    "ExecuteTime": {
     "end_time": "2021-05-12T02:16:30.295765Z",
     "start_time": "2021-05-12T02:16:30.287198Z"
    }
   },
   "outputs": [
    {
     "data": {
      "text/plain": [
       "5436"
      ]
     },
     "execution_count": 121,
     "metadata": {},
     "output_type": "execute_result"
    }
   ],
   "source": [
    "len(products_with_outfit_5[products_with_outfit_5['outfit_type'] == 'Unknown'])"
   ]
  },
  {
   "cell_type": "code",
   "execution_count": 122,
   "metadata": {
    "ExecuteTime": {
     "end_time": "2021-05-12T02:16:30.305110Z",
     "start_time": "2021-05-12T02:16:30.297405Z"
    }
   },
   "outputs": [
    {
     "data": {
      "text/plain": [
       "750"
      ]
     },
     "execution_count": 122,
     "metadata": {},
     "output_type": "execute_result"
    }
   ],
   "source": [
    "len(products_with_outfit_5[products_with_outfit_5['outfit_type'] == 'others'])"
   ]
  },
  {
   "cell_type": "code",
   "execution_count": 123,
   "metadata": {
    "ExecuteTime": {
     "end_time": "2021-05-12T02:16:30.319619Z",
     "start_time": "2021-05-12T02:16:30.306793Z"
    }
   },
   "outputs": [],
   "source": [
    "products_with_outfit_6 = products_with_outfit_5[products_with_outfit_5['outfit_type'] != 'Unknown' ]\n",
    "products_with_outfit_6.reset_index(inplace=True)"
   ]
  },
  {
   "cell_type": "code",
   "execution_count": 124,
   "metadata": {
    "ExecuteTime": {
     "end_time": "2021-05-12T02:16:30.325111Z",
     "start_time": "2021-05-12T02:16:30.321271Z"
    }
   },
   "outputs": [
    {
     "data": {
      "text/plain": [
       "60441"
      ]
     },
     "execution_count": 124,
     "metadata": {},
     "output_type": "execute_result"
    }
   ],
   "source": [
    "len(products_with_outfit_6)"
   ]
  },
  {
   "cell_type": "code",
   "execution_count": 125,
   "metadata": {
    "ExecuteTime": {
     "end_time": "2021-05-12T02:16:30.340109Z",
     "start_time": "2021-05-12T02:16:30.326562Z"
    }
   },
   "outputs": [],
   "source": [
    "products_with_outfit_6 = products_with_outfit_6[products_with_outfit_6['outfit_type'] != 'others' ]\n",
    "products_with_outfit_6.reset_index(inplace=True)"
   ]
  },
  {
   "cell_type": "code",
   "execution_count": 126,
   "metadata": {
    "ExecuteTime": {
     "end_time": "2021-05-12T02:16:30.345363Z",
     "start_time": "2021-05-12T02:16:30.342015Z"
    },
    "scrolled": true
   },
   "outputs": [
    {
     "data": {
      "text/plain": [
       "59691"
      ]
     },
     "execution_count": 126,
     "metadata": {},
     "output_type": "execute_result"
    }
   ],
   "source": [
    "len(products_with_outfit_6)"
   ]
  },
  {
   "cell_type": "markdown",
   "metadata": {},
   "source": [
    "Finally, we had 59664 records for the recommendation system. "
   ]
  },
  {
   "cell_type": "code",
   "execution_count": 127,
   "metadata": {
    "ExecuteTime": {
     "end_time": "2021-05-12T02:16:30.355482Z",
     "start_time": "2021-05-12T02:16:30.346837Z"
    },
    "scrolled": false
   },
   "outputs": [
    {
     "data": {
      "text/html": [
       "<div>\n",
       "<style scoped>\n",
       "    .dataframe tbody tr th:only-of-type {\n",
       "        vertical-align: middle;\n",
       "    }\n",
       "\n",
       "    .dataframe tbody tr th {\n",
       "        vertical-align: top;\n",
       "    }\n",
       "\n",
       "    .dataframe thead th {\n",
       "        text-align: right;\n",
       "    }\n",
       "</style>\n",
       "<table border=\"1\" class=\"dataframe\">\n",
       "  <thead>\n",
       "    <tr style=\"text-align: right;\">\n",
       "      <th></th>\n",
       "      <th>level_0</th>\n",
       "      <th>index</th>\n",
       "      <th>product_id</th>\n",
       "      <th>outfit_type</th>\n",
       "      <th>outfit_id</th>\n",
       "      <th>outfit_item_type</th>\n",
       "      <th>final_text</th>\n",
       "    </tr>\n",
       "  </thead>\n",
       "  <tbody>\n",
       "    <tr>\n",
       "      <th>0</th>\n",
       "      <td>0</td>\n",
       "      <td>0</td>\n",
       "      <td>01EX0PN4J9WRNZH5F93YEX6QAF</td>\n",
       "      <td>top</td>\n",
       "      <td>Unknown</td>\n",
       "      <td>Unknown</td>\n",
       "      <td>two khadi stripe shirt signature shirt signatu...</td>\n",
       "    </tr>\n",
       "    <tr>\n",
       "      <th>1</th>\n",
       "      <td>1</td>\n",
       "      <td>1</td>\n",
       "      <td>01F0C4SKZV6YXS3265JMC39NXW</td>\n",
       "      <td>onepiece</td>\n",
       "      <td>Unknown</td>\n",
       "      <td>Unknown</td>\n",
       "      <td>collina strada ruffle market dress loopy pink ...</td>\n",
       "    </tr>\n",
       "    <tr>\n",
       "      <th>2</th>\n",
       "      <td>2</td>\n",
       "      <td>2</td>\n",
       "      <td>01EY4Y1BW8VZW51BWG5VZY82XW</td>\n",
       "      <td>shoe</td>\n",
       "      <td>Unknown</td>\n",
       "      <td>Unknown</td>\n",
       "      <td>cariuma ibi slip raw red knit sneaker woman ib...</td>\n",
       "    </tr>\n",
       "    <tr>\n",
       "      <th>3</th>\n",
       "      <td>3</td>\n",
       "      <td>3</td>\n",
       "      <td>01EY50E27A0P5V6KCW01XPDB43</td>\n",
       "      <td>shoe</td>\n",
       "      <td>Unknown</td>\n",
       "      <td>Unknown</td>\n",
       "      <td>cariuma ibi slip black knit sneaker woman ibi ...</td>\n",
       "    </tr>\n",
       "    <tr>\n",
       "      <th>4</th>\n",
       "      <td>4</td>\n",
       "      <td>4</td>\n",
       "      <td>01EY6DWHC2W5HPNEGXKEJ4A1CX</td>\n",
       "      <td>shoe</td>\n",
       "      <td>Unknown</td>\n",
       "      <td>Unknown</td>\n",
       "      <td>cariuma catiba pro skate black suede canvas co...</td>\n",
       "    </tr>\n",
       "  </tbody>\n",
       "</table>\n",
       "</div>"
      ],
      "text/plain": [
       "   level_0  index                  product_id outfit_type outfit_id  \\\n",
       "0        0      0  01EX0PN4J9WRNZH5F93YEX6QAF         top   Unknown   \n",
       "1        1      1  01F0C4SKZV6YXS3265JMC39NXW    onepiece   Unknown   \n",
       "2        2      2  01EY4Y1BW8VZW51BWG5VZY82XW        shoe   Unknown   \n",
       "3        3      3  01EY50E27A0P5V6KCW01XPDB43        shoe   Unknown   \n",
       "4        4      4  01EY6DWHC2W5HPNEGXKEJ4A1CX        shoe   Unknown   \n",
       "\n",
       "  outfit_item_type                                         final_text  \n",
       "0          Unknown  two khadi stripe shirt signature shirt signatu...  \n",
       "1          Unknown  collina strada ruffle market dress loopy pink ...  \n",
       "2          Unknown  cariuma ibi slip raw red knit sneaker woman ib...  \n",
       "3          Unknown  cariuma ibi slip black knit sneaker woman ibi ...  \n",
       "4          Unknown  cariuma catiba pro skate black suede canvas co...  "
      ]
     },
     "execution_count": 127,
     "metadata": {},
     "output_type": "execute_result"
    }
   ],
   "source": [
    "products_with_outfit_6.head()"
   ]
  },
  {
   "cell_type": "code",
   "execution_count": 128,
   "metadata": {
    "ExecuteTime": {
     "end_time": "2021-05-12T02:16:30.363745Z",
     "start_time": "2021-05-12T02:16:30.357044Z"
    }
   },
   "outputs": [],
   "source": [
    "products_with_outfit_6 = products_with_outfit_6.drop(['index', 'level_0'], axis=1)"
   ]
  },
  {
   "cell_type": "code",
   "execution_count": 129,
   "metadata": {
    "ExecuteTime": {
     "end_time": "2021-05-12T02:16:30.373397Z",
     "start_time": "2021-05-12T02:16:30.365173Z"
    }
   },
   "outputs": [
    {
     "data": {
      "text/html": [
       "<div>\n",
       "<style scoped>\n",
       "    .dataframe tbody tr th:only-of-type {\n",
       "        vertical-align: middle;\n",
       "    }\n",
       "\n",
       "    .dataframe tbody tr th {\n",
       "        vertical-align: top;\n",
       "    }\n",
       "\n",
       "    .dataframe thead th {\n",
       "        text-align: right;\n",
       "    }\n",
       "</style>\n",
       "<table border=\"1\" class=\"dataframe\">\n",
       "  <thead>\n",
       "    <tr style=\"text-align: right;\">\n",
       "      <th></th>\n",
       "      <th>product_id</th>\n",
       "      <th>outfit_type</th>\n",
       "      <th>outfit_id</th>\n",
       "      <th>outfit_item_type</th>\n",
       "      <th>final_text</th>\n",
       "    </tr>\n",
       "  </thead>\n",
       "  <tbody>\n",
       "    <tr>\n",
       "      <th>0</th>\n",
       "      <td>01EX0PN4J9WRNZH5F93YEX6QAF</td>\n",
       "      <td>top</td>\n",
       "      <td>Unknown</td>\n",
       "      <td>Unknown</td>\n",
       "      <td>two khadi stripe shirt signature shirt signatu...</td>\n",
       "    </tr>\n",
       "    <tr>\n",
       "      <th>1</th>\n",
       "      <td>01F0C4SKZV6YXS3265JMC39NXW</td>\n",
       "      <td>onepiece</td>\n",
       "      <td>Unknown</td>\n",
       "      <td>Unknown</td>\n",
       "      <td>collina strada ruffle market dress loopy pink ...</td>\n",
       "    </tr>\n",
       "    <tr>\n",
       "      <th>2</th>\n",
       "      <td>01EY4Y1BW8VZW51BWG5VZY82XW</td>\n",
       "      <td>shoe</td>\n",
       "      <td>Unknown</td>\n",
       "      <td>Unknown</td>\n",
       "      <td>cariuma ibi slip raw red knit sneaker woman ib...</td>\n",
       "    </tr>\n",
       "    <tr>\n",
       "      <th>3</th>\n",
       "      <td>01EY50E27A0P5V6KCW01XPDB43</td>\n",
       "      <td>shoe</td>\n",
       "      <td>Unknown</td>\n",
       "      <td>Unknown</td>\n",
       "      <td>cariuma ibi slip black knit sneaker woman ibi ...</td>\n",
       "    </tr>\n",
       "    <tr>\n",
       "      <th>4</th>\n",
       "      <td>01EY6DWHC2W5HPNEGXKEJ4A1CX</td>\n",
       "      <td>shoe</td>\n",
       "      <td>Unknown</td>\n",
       "      <td>Unknown</td>\n",
       "      <td>cariuma catiba pro skate black suede canvas co...</td>\n",
       "    </tr>\n",
       "  </tbody>\n",
       "</table>\n",
       "</div>"
      ],
      "text/plain": [
       "                   product_id outfit_type outfit_id outfit_item_type  \\\n",
       "0  01EX0PN4J9WRNZH5F93YEX6QAF         top   Unknown          Unknown   \n",
       "1  01F0C4SKZV6YXS3265JMC39NXW    onepiece   Unknown          Unknown   \n",
       "2  01EY4Y1BW8VZW51BWG5VZY82XW        shoe   Unknown          Unknown   \n",
       "3  01EY50E27A0P5V6KCW01XPDB43        shoe   Unknown          Unknown   \n",
       "4  01EY6DWHC2W5HPNEGXKEJ4A1CX        shoe   Unknown          Unknown   \n",
       "\n",
       "                                          final_text  \n",
       "0  two khadi stripe shirt signature shirt signatu...  \n",
       "1  collina strada ruffle market dress loopy pink ...  \n",
       "2  cariuma ibi slip raw red knit sneaker woman ib...  \n",
       "3  cariuma ibi slip black knit sneaker woman ibi ...  \n",
       "4  cariuma catiba pro skate black suede canvas co...  "
      ]
     },
     "execution_count": 129,
     "metadata": {},
     "output_type": "execute_result"
    }
   ],
   "source": [
    "products_with_outfit_6.head()"
   ]
  },
  {
   "cell_type": "code",
   "execution_count": 130,
   "metadata": {
    "ExecuteTime": {
     "end_time": "2021-05-12T02:16:30.883168Z",
     "start_time": "2021-05-12T02:16:30.374949Z"
    }
   },
   "outputs": [],
   "source": [
    "products_with_outfit_6.to_csv('cleaned_df.csv')"
   ]
  },
  {
   "cell_type": "markdown",
   "metadata": {},
   "source": [
    "### Use CountVectorizer Method to Generate Vector"
   ]
  },
  {
   "cell_type": "code",
   "execution_count": 131,
   "metadata": {
    "ExecuteTime": {
     "end_time": "2021-05-12T02:16:36.107311Z",
     "start_time": "2021-05-12T02:16:30.884690Z"
    }
   },
   "outputs": [],
   "source": [
    "from sklearn.feature_extraction.text import CountVectorizer\n",
    "\n",
    "doc = list(products_with_outfit_6['final_text'].values)\n",
    "\n",
    "vectorizer = CountVectorizer()\n",
    "X = vectorizer.fit_transform(doc)\n",
    "vec_df = pd.DataFrame(X.toarray(), columns=vectorizer.get_feature_names(), \n",
    "                      index=products_with_outfit_6.product_id)"
   ]
  },
  {
   "cell_type": "code",
   "execution_count": 132,
   "metadata": {
    "ExecuteTime": {
     "end_time": "2021-05-12T02:16:36.375240Z",
     "start_time": "2021-05-12T02:16:36.109619Z"
    },
    "scrolled": true
   },
   "outputs": [
    {
     "data": {
      "text/html": [
       "<div>\n",
       "<style scoped>\n",
       "    .dataframe tbody tr th:only-of-type {\n",
       "        vertical-align: middle;\n",
       "    }\n",
       "\n",
       "    .dataframe tbody tr th {\n",
       "        vertical-align: top;\n",
       "    }\n",
       "\n",
       "    .dataframe thead th {\n",
       "        text-align: right;\n",
       "    }\n",
       "</style>\n",
       "<table border=\"1\" class=\"dataframe\">\n",
       "  <thead>\n",
       "    <tr style=\"text-align: right;\">\n",
       "      <th></th>\n",
       "      <th>00p</th>\n",
       "      <th>00pm</th>\n",
       "      <th>00s</th>\n",
       "      <th>01cts</th>\n",
       "      <th>01k</th>\n",
       "      <th>01sc</th>\n",
       "      <th>02ct</th>\n",
       "      <th>02in</th>\n",
       "      <th>02k</th>\n",
       "      <th>03cts</th>\n",
       "      <th>...</th>\n",
       "      <th>ûªs</th>\n",
       "      <th>ÿan</th>\n",
       "      <th>œwarrior</th>\n",
       "      <th>œæ</th>\n",
       "      <th>šâ</th>\n",
       "      <th>šã</th>\n",
       "      <th>žâ</th>\n",
       "      <th>δione</th>\n",
       "      <th>ﬂat</th>\n",
       "      <th>ﬂowy</th>\n",
       "    </tr>\n",
       "    <tr>\n",
       "      <th>product_id</th>\n",
       "      <th></th>\n",
       "      <th></th>\n",
       "      <th></th>\n",
       "      <th></th>\n",
       "      <th></th>\n",
       "      <th></th>\n",
       "      <th></th>\n",
       "      <th></th>\n",
       "      <th></th>\n",
       "      <th></th>\n",
       "      <th></th>\n",
       "      <th></th>\n",
       "      <th></th>\n",
       "      <th></th>\n",
       "      <th></th>\n",
       "      <th></th>\n",
       "      <th></th>\n",
       "      <th></th>\n",
       "      <th></th>\n",
       "      <th></th>\n",
       "      <th></th>\n",
       "    </tr>\n",
       "  </thead>\n",
       "  <tbody>\n",
       "    <tr>\n",
       "      <th>01EX0PN4J9WRNZH5F93YEX6QAF</th>\n",
       "      <td>0</td>\n",
       "      <td>0</td>\n",
       "      <td>0</td>\n",
       "      <td>0</td>\n",
       "      <td>0</td>\n",
       "      <td>0</td>\n",
       "      <td>0</td>\n",
       "      <td>0</td>\n",
       "      <td>0</td>\n",
       "      <td>0</td>\n",
       "      <td>...</td>\n",
       "      <td>0</td>\n",
       "      <td>0</td>\n",
       "      <td>0</td>\n",
       "      <td>0</td>\n",
       "      <td>0</td>\n",
       "      <td>0</td>\n",
       "      <td>0</td>\n",
       "      <td>0</td>\n",
       "      <td>0</td>\n",
       "      <td>0</td>\n",
       "    </tr>\n",
       "    <tr>\n",
       "      <th>01F0C4SKZV6YXS3265JMC39NXW</th>\n",
       "      <td>0</td>\n",
       "      <td>0</td>\n",
       "      <td>0</td>\n",
       "      <td>0</td>\n",
       "      <td>0</td>\n",
       "      <td>0</td>\n",
       "      <td>0</td>\n",
       "      <td>0</td>\n",
       "      <td>0</td>\n",
       "      <td>0</td>\n",
       "      <td>...</td>\n",
       "      <td>0</td>\n",
       "      <td>0</td>\n",
       "      <td>0</td>\n",
       "      <td>0</td>\n",
       "      <td>0</td>\n",
       "      <td>0</td>\n",
       "      <td>0</td>\n",
       "      <td>0</td>\n",
       "      <td>0</td>\n",
       "      <td>0</td>\n",
       "    </tr>\n",
       "    <tr>\n",
       "      <th>01EY4Y1BW8VZW51BWG5VZY82XW</th>\n",
       "      <td>0</td>\n",
       "      <td>0</td>\n",
       "      <td>0</td>\n",
       "      <td>0</td>\n",
       "      <td>0</td>\n",
       "      <td>0</td>\n",
       "      <td>0</td>\n",
       "      <td>0</td>\n",
       "      <td>0</td>\n",
       "      <td>0</td>\n",
       "      <td>...</td>\n",
       "      <td>0</td>\n",
       "      <td>0</td>\n",
       "      <td>0</td>\n",
       "      <td>0</td>\n",
       "      <td>0</td>\n",
       "      <td>0</td>\n",
       "      <td>0</td>\n",
       "      <td>0</td>\n",
       "      <td>0</td>\n",
       "      <td>0</td>\n",
       "    </tr>\n",
       "    <tr>\n",
       "      <th>01EY50E27A0P5V6KCW01XPDB43</th>\n",
       "      <td>0</td>\n",
       "      <td>0</td>\n",
       "      <td>0</td>\n",
       "      <td>0</td>\n",
       "      <td>0</td>\n",
       "      <td>0</td>\n",
       "      <td>0</td>\n",
       "      <td>0</td>\n",
       "      <td>0</td>\n",
       "      <td>0</td>\n",
       "      <td>...</td>\n",
       "      <td>0</td>\n",
       "      <td>0</td>\n",
       "      <td>0</td>\n",
       "      <td>0</td>\n",
       "      <td>0</td>\n",
       "      <td>0</td>\n",
       "      <td>0</td>\n",
       "      <td>0</td>\n",
       "      <td>0</td>\n",
       "      <td>0</td>\n",
       "    </tr>\n",
       "    <tr>\n",
       "      <th>01EY6DWHC2W5HPNEGXKEJ4A1CX</th>\n",
       "      <td>0</td>\n",
       "      <td>0</td>\n",
       "      <td>0</td>\n",
       "      <td>0</td>\n",
       "      <td>0</td>\n",
       "      <td>0</td>\n",
       "      <td>0</td>\n",
       "      <td>0</td>\n",
       "      <td>0</td>\n",
       "      <td>0</td>\n",
       "      <td>...</td>\n",
       "      <td>0</td>\n",
       "      <td>0</td>\n",
       "      <td>0</td>\n",
       "      <td>0</td>\n",
       "      <td>0</td>\n",
       "      <td>0</td>\n",
       "      <td>0</td>\n",
       "      <td>0</td>\n",
       "      <td>0</td>\n",
       "      <td>0</td>\n",
       "    </tr>\n",
       "    <tr>\n",
       "      <th>...</th>\n",
       "      <td>...</td>\n",
       "      <td>...</td>\n",
       "      <td>...</td>\n",
       "      <td>...</td>\n",
       "      <td>...</td>\n",
       "      <td>...</td>\n",
       "      <td>...</td>\n",
       "      <td>...</td>\n",
       "      <td>...</td>\n",
       "      <td>...</td>\n",
       "      <td>...</td>\n",
       "      <td>...</td>\n",
       "      <td>...</td>\n",
       "      <td>...</td>\n",
       "      <td>...</td>\n",
       "      <td>...</td>\n",
       "      <td>...</td>\n",
       "      <td>...</td>\n",
       "      <td>...</td>\n",
       "      <td>...</td>\n",
       "      <td>...</td>\n",
       "    </tr>\n",
       "    <tr>\n",
       "      <th>01DT0DKMM6G7HDJS12QCWK5X4H</th>\n",
       "      <td>0</td>\n",
       "      <td>0</td>\n",
       "      <td>0</td>\n",
       "      <td>0</td>\n",
       "      <td>0</td>\n",
       "      <td>0</td>\n",
       "      <td>0</td>\n",
       "      <td>0</td>\n",
       "      <td>0</td>\n",
       "      <td>0</td>\n",
       "      <td>...</td>\n",
       "      <td>0</td>\n",
       "      <td>0</td>\n",
       "      <td>0</td>\n",
       "      <td>0</td>\n",
       "      <td>0</td>\n",
       "      <td>0</td>\n",
       "      <td>0</td>\n",
       "      <td>0</td>\n",
       "      <td>0</td>\n",
       "      <td>0</td>\n",
       "    </tr>\n",
       "    <tr>\n",
       "      <th>01DT0DKMM6G7HDJS12QCWK5X4H</th>\n",
       "      <td>0</td>\n",
       "      <td>0</td>\n",
       "      <td>0</td>\n",
       "      <td>0</td>\n",
       "      <td>0</td>\n",
       "      <td>0</td>\n",
       "      <td>0</td>\n",
       "      <td>0</td>\n",
       "      <td>0</td>\n",
       "      <td>0</td>\n",
       "      <td>...</td>\n",
       "      <td>0</td>\n",
       "      <td>0</td>\n",
       "      <td>0</td>\n",
       "      <td>0</td>\n",
       "      <td>0</td>\n",
       "      <td>0</td>\n",
       "      <td>0</td>\n",
       "      <td>0</td>\n",
       "      <td>0</td>\n",
       "      <td>0</td>\n",
       "    </tr>\n",
       "    <tr>\n",
       "      <th>01DPGXRAZBHQYMCX47N55TP8PF</th>\n",
       "      <td>0</td>\n",
       "      <td>0</td>\n",
       "      <td>0</td>\n",
       "      <td>0</td>\n",
       "      <td>0</td>\n",
       "      <td>0</td>\n",
       "      <td>0</td>\n",
       "      <td>0</td>\n",
       "      <td>0</td>\n",
       "      <td>0</td>\n",
       "      <td>...</td>\n",
       "      <td>0</td>\n",
       "      <td>0</td>\n",
       "      <td>0</td>\n",
       "      <td>0</td>\n",
       "      <td>0</td>\n",
       "      <td>0</td>\n",
       "      <td>0</td>\n",
       "      <td>0</td>\n",
       "      <td>0</td>\n",
       "      <td>0</td>\n",
       "    </tr>\n",
       "    <tr>\n",
       "      <th>01DPKMJFK6ESTB74DTB2HSB1S1</th>\n",
       "      <td>0</td>\n",
       "      <td>0</td>\n",
       "      <td>0</td>\n",
       "      <td>0</td>\n",
       "      <td>0</td>\n",
       "      <td>0</td>\n",
       "      <td>0</td>\n",
       "      <td>0</td>\n",
       "      <td>0</td>\n",
       "      <td>0</td>\n",
       "      <td>...</td>\n",
       "      <td>0</td>\n",
       "      <td>0</td>\n",
       "      <td>0</td>\n",
       "      <td>0</td>\n",
       "      <td>0</td>\n",
       "      <td>0</td>\n",
       "      <td>0</td>\n",
       "      <td>0</td>\n",
       "      <td>0</td>\n",
       "      <td>0</td>\n",
       "    </tr>\n",
       "    <tr>\n",
       "      <th>01DPKMJFK6ESTB74DTB2HSB1S1</th>\n",
       "      <td>0</td>\n",
       "      <td>0</td>\n",
       "      <td>0</td>\n",
       "      <td>0</td>\n",
       "      <td>0</td>\n",
       "      <td>0</td>\n",
       "      <td>0</td>\n",
       "      <td>0</td>\n",
       "      <td>0</td>\n",
       "      <td>0</td>\n",
       "      <td>...</td>\n",
       "      <td>0</td>\n",
       "      <td>0</td>\n",
       "      <td>0</td>\n",
       "      <td>0</td>\n",
       "      <td>0</td>\n",
       "      <td>0</td>\n",
       "      <td>0</td>\n",
       "      <td>0</td>\n",
       "      <td>0</td>\n",
       "      <td>0</td>\n",
       "    </tr>\n",
       "  </tbody>\n",
       "</table>\n",
       "<p>59691 rows × 29632 columns</p>\n",
       "</div>"
      ],
      "text/plain": [
       "                            00p  00pm  00s  01cts  01k  01sc  02ct  02in  02k  \\\n",
       "product_id                                                                      \n",
       "01EX0PN4J9WRNZH5F93YEX6QAF    0     0    0      0    0     0     0     0    0   \n",
       "01F0C4SKZV6YXS3265JMC39NXW    0     0    0      0    0     0     0     0    0   \n",
       "01EY4Y1BW8VZW51BWG5VZY82XW    0     0    0      0    0     0     0     0    0   \n",
       "01EY50E27A0P5V6KCW01XPDB43    0     0    0      0    0     0     0     0    0   \n",
       "01EY6DWHC2W5HPNEGXKEJ4A1CX    0     0    0      0    0     0     0     0    0   \n",
       "...                         ...   ...  ...    ...  ...   ...   ...   ...  ...   \n",
       "01DT0DKMM6G7HDJS12QCWK5X4H    0     0    0      0    0     0     0     0    0   \n",
       "01DT0DKMM6G7HDJS12QCWK5X4H    0     0    0      0    0     0     0     0    0   \n",
       "01DPGXRAZBHQYMCX47N55TP8PF    0     0    0      0    0     0     0     0    0   \n",
       "01DPKMJFK6ESTB74DTB2HSB1S1    0     0    0      0    0     0     0     0    0   \n",
       "01DPKMJFK6ESTB74DTB2HSB1S1    0     0    0      0    0     0     0     0    0   \n",
       "\n",
       "                            03cts  ...  ûªs  ÿan  œwarrior  œæ  šâ  šã  žâ  \\\n",
       "product_id                         ...                                       \n",
       "01EX0PN4J9WRNZH5F93YEX6QAF      0  ...    0    0         0   0   0   0   0   \n",
       "01F0C4SKZV6YXS3265JMC39NXW      0  ...    0    0         0   0   0   0   0   \n",
       "01EY4Y1BW8VZW51BWG5VZY82XW      0  ...    0    0         0   0   0   0   0   \n",
       "01EY50E27A0P5V6KCW01XPDB43      0  ...    0    0         0   0   0   0   0   \n",
       "01EY6DWHC2W5HPNEGXKEJ4A1CX      0  ...    0    0         0   0   0   0   0   \n",
       "...                           ...  ...  ...  ...       ...  ..  ..  ..  ..   \n",
       "01DT0DKMM6G7HDJS12QCWK5X4H      0  ...    0    0         0   0   0   0   0   \n",
       "01DT0DKMM6G7HDJS12QCWK5X4H      0  ...    0    0         0   0   0   0   0   \n",
       "01DPGXRAZBHQYMCX47N55TP8PF      0  ...    0    0         0   0   0   0   0   \n",
       "01DPKMJFK6ESTB74DTB2HSB1S1      0  ...    0    0         0   0   0   0   0   \n",
       "01DPKMJFK6ESTB74DTB2HSB1S1      0  ...    0    0         0   0   0   0   0   \n",
       "\n",
       "                            δione  ﬂat  ﬂowy  \n",
       "product_id                                    \n",
       "01EX0PN4J9WRNZH5F93YEX6QAF      0    0     0  \n",
       "01F0C4SKZV6YXS3265JMC39NXW      0    0     0  \n",
       "01EY4Y1BW8VZW51BWG5VZY82XW      0    0     0  \n",
       "01EY50E27A0P5V6KCW01XPDB43      0    0     0  \n",
       "01EY6DWHC2W5HPNEGXKEJ4A1CX      0    0     0  \n",
       "...                           ...  ...   ...  \n",
       "01DT0DKMM6G7HDJS12QCWK5X4H      0    0     0  \n",
       "01DT0DKMM6G7HDJS12QCWK5X4H      0    0     0  \n",
       "01DPGXRAZBHQYMCX47N55TP8PF      0    0     0  \n",
       "01DPKMJFK6ESTB74DTB2HSB1S1      0    0     0  \n",
       "01DPKMJFK6ESTB74DTB2HSB1S1      0    0     0  \n",
       "\n",
       "[59691 rows x 29632 columns]"
      ]
     },
     "execution_count": 132,
     "metadata": {},
     "output_type": "execute_result"
    }
   ],
   "source": [
    "vec_df"
   ]
  },
  {
   "cell_type": "markdown",
   "metadata": {},
   "source": [
    "There were around 30,000 columns."
   ]
  },
  {
   "cell_type": "markdown",
   "metadata": {},
   "source": [
    "### Use Singular Value Decomposition"
   ]
  },
  {
   "cell_type": "markdown",
   "metadata": {},
   "source": [
    "For Singular Value Decomposition, we used a python package TruncatedSVD in the sklearn library.\n",
    "\n",
    "See more at https://machinelearningmastery.com/singular-value-decomposition-for-machine-learning/"
   ]
  },
  {
   "cell_type": "code",
   "execution_count": 133,
   "metadata": {
    "ExecuteTime": {
     "end_time": "2021-05-12T02:20:35.012996Z",
     "start_time": "2021-05-12T02:16:36.378090Z"
    }
   },
   "outputs": [],
   "source": [
    "from sklearn.decomposition import TruncatedSVD\n",
    "\n",
    "svd = TruncatedSVD(n_components=3000)\n",
    "# We reduced the dimension to about 10% of the original dimension\n",
    "reduced_svd_features = svd.fit_transform(X)\n",
    "reduced_df = pd.DataFrame(reduced_svd_features, index=products_with_outfit_6.product_id)\n",
    "reduced_df = reduced_df.reset_index()"
   ]
  },
  {
   "cell_type": "code",
   "execution_count": 134,
   "metadata": {
    "ExecuteTime": {
     "end_time": "2021-05-12T02:20:46.240205Z",
     "start_time": "2021-05-12T02:20:35.033457Z"
    }
   },
   "outputs": [],
   "source": [
    "reduced_df_with_outfit = pd.merge(products_with_outfit_6, reduced_df, on='product_id')"
   ]
  },
  {
   "cell_type": "code",
   "execution_count": 135,
   "metadata": {
    "ExecuteTime": {
     "end_time": "2021-05-12T02:20:52.144763Z",
     "start_time": "2021-05-12T02:20:46.253791Z"
    }
   },
   "outputs": [],
   "source": [
    "reduced_df_with_outfit_2 = reduced_df_with_outfit.copy()"
   ]
  },
  {
   "cell_type": "markdown",
   "metadata": {},
   "source": [
    "### Calculate the Cosine Similarity and Make Recommendation"
   ]
  },
  {
   "cell_type": "markdown",
   "metadata": {},
   "source": [
    "We calculated the cosine similarity between two vectors using `scipy.spatial.distance.cosine`\n",
    "\n",
    "See more at: https://www.kite.com/python/answers/how-to-find-the-cosine-similarity-between-two-vectors-in-python, and https://docs.scipy.org/doc/scipy/reference/generated/scipy.spatial.distance.cosine.html"
   ]
  },
  {
   "cell_type": "code",
   "execution_count": 136,
   "metadata": {
    "ExecuteTime": {
     "end_time": "2021-05-12T02:21:15.120355Z",
     "start_time": "2021-05-12T02:20:52.151298Z"
    }
   },
   "outputs": [],
   "source": [
    "top_product = reduced_df_with_outfit_2[reduced_df_with_outfit_2['outfit_type'] == 'top']\n",
    "top_product = top_product.reset_index()\n",
    "\n",
    "bottom_product = reduced_df_with_outfit_2[reduced_df_with_outfit_2['outfit_type'] == 'bottom']\n",
    "bottom_product = bottom_product.reset_index()\n",
    "\n",
    "accessory_product = reduced_df_with_outfit_2[reduced_df_with_outfit_2['outfit_type'] == 'accessory']\n",
    "accessory_product = accessory_product.reset_index()\n",
    "\n",
    "shoe_product = reduced_df_with_outfit_2[reduced_df_with_outfit_2['outfit_type'] == 'shoe']\n",
    "shoe_product = shoe_product.reset_index()\n",
    "\n",
    "onepiece_product = reduced_df_with_outfit_2[reduced_df_with_outfit_2['outfit_type'] == 'onepiece']\n",
    "onepiece_product = onepiece_product.reset_index()"
   ]
  },
  {
   "cell_type": "code",
   "execution_count": 137,
   "metadata": {
    "ExecuteTime": {
     "end_time": "2021-05-12T02:21:15.263591Z",
     "start_time": "2021-05-12T02:21:15.131606Z"
    }
   },
   "outputs": [
    {
     "data": {
      "text/html": [
       "<div>\n",
       "<style scoped>\n",
       "    .dataframe tbody tr th:only-of-type {\n",
       "        vertical-align: middle;\n",
       "    }\n",
       "\n",
       "    .dataframe tbody tr th {\n",
       "        vertical-align: top;\n",
       "    }\n",
       "\n",
       "    .dataframe thead th {\n",
       "        text-align: right;\n",
       "    }\n",
       "</style>\n",
       "<table border=\"1\" class=\"dataframe\">\n",
       "  <thead>\n",
       "    <tr style=\"text-align: right;\">\n",
       "      <th></th>\n",
       "      <th>index</th>\n",
       "      <th>product_id</th>\n",
       "      <th>outfit_type</th>\n",
       "      <th>outfit_id</th>\n",
       "      <th>outfit_item_type</th>\n",
       "      <th>final_text</th>\n",
       "      <th>0</th>\n",
       "      <th>1</th>\n",
       "      <th>2</th>\n",
       "      <th>3</th>\n",
       "      <th>...</th>\n",
       "      <th>2990</th>\n",
       "      <th>2991</th>\n",
       "      <th>2992</th>\n",
       "      <th>2993</th>\n",
       "      <th>2994</th>\n",
       "      <th>2995</th>\n",
       "      <th>2996</th>\n",
       "      <th>2997</th>\n",
       "      <th>2998</th>\n",
       "      <th>2999</th>\n",
       "    </tr>\n",
       "  </thead>\n",
       "  <tbody>\n",
       "    <tr>\n",
       "      <th>0</th>\n",
       "      <td>0</td>\n",
       "      <td>01EX0PN4J9WRNZH5F93YEX6QAF</td>\n",
       "      <td>top</td>\n",
       "      <td>Unknown</td>\n",
       "      <td>Unknown</td>\n",
       "      <td>two khadi stripe shirt signature shirt signatu...</td>\n",
       "      <td>2.473594</td>\n",
       "      <td>-0.204317</td>\n",
       "      <td>0.127796</td>\n",
       "      <td>-0.548573</td>\n",
       "      <td>...</td>\n",
       "      <td>0.022266</td>\n",
       "      <td>-0.020602</td>\n",
       "      <td>-0.026872</td>\n",
       "      <td>-0.025653</td>\n",
       "      <td>-0.005684</td>\n",
       "      <td>0.016395</td>\n",
       "      <td>0.011607</td>\n",
       "      <td>-0.014828</td>\n",
       "      <td>-0.020998</td>\n",
       "      <td>-0.014581</td>\n",
       "    </tr>\n",
       "    <tr>\n",
       "      <th>1</th>\n",
       "      <td>8</td>\n",
       "      <td>01EWTKPJNHRRDJZ9BVJWJV1T6Q</td>\n",
       "      <td>top</td>\n",
       "      <td>Unknown</td>\n",
       "      <td>Unknown</td>\n",
       "      <td>maia bergman lubi something nice jean begin lo...</td>\n",
       "      <td>1.094859</td>\n",
       "      <td>0.148292</td>\n",
       "      <td>-0.467956</td>\n",
       "      <td>0.203742</td>\n",
       "      <td>...</td>\n",
       "      <td>-0.008657</td>\n",
       "      <td>-0.037897</td>\n",
       "      <td>0.017339</td>\n",
       "      <td>0.000533</td>\n",
       "      <td>0.036848</td>\n",
       "      <td>-0.009536</td>\n",
       "      <td>-0.003788</td>\n",
       "      <td>0.018420</td>\n",
       "      <td>-0.004689</td>\n",
       "      <td>-0.001261</td>\n",
       "    </tr>\n",
       "    <tr>\n",
       "      <th>2</th>\n",
       "      <td>11</td>\n",
       "      <td>01EWTKP0QZADY85ZMFZAH4Q122</td>\n",
       "      <td>top</td>\n",
       "      <td>Unknown</td>\n",
       "      <td>Unknown</td>\n",
       "      <td>maia bergman claudia onyx everybody favourite ...</td>\n",
       "      <td>1.338875</td>\n",
       "      <td>0.125109</td>\n",
       "      <td>-0.492932</td>\n",
       "      <td>0.128647</td>\n",
       "      <td>...</td>\n",
       "      <td>-0.067102</td>\n",
       "      <td>0.034776</td>\n",
       "      <td>-0.043286</td>\n",
       "      <td>-0.015869</td>\n",
       "      <td>0.061891</td>\n",
       "      <td>0.038115</td>\n",
       "      <td>-0.015910</td>\n",
       "      <td>-0.028989</td>\n",
       "      <td>-0.058490</td>\n",
       "      <td>-0.028387</td>\n",
       "    </tr>\n",
       "    <tr>\n",
       "      <th>3</th>\n",
       "      <td>12</td>\n",
       "      <td>01EWTKP97SE8DTWEYY5F19HSVE</td>\n",
       "      <td>top</td>\n",
       "      <td>Unknown</td>\n",
       "      <td>Unknown</td>\n",
       "      <td>maia bergman shani shani come pair top feature...</td>\n",
       "      <td>1.788063</td>\n",
       "      <td>0.036524</td>\n",
       "      <td>-0.513486</td>\n",
       "      <td>-0.122497</td>\n",
       "      <td>...</td>\n",
       "      <td>-0.004204</td>\n",
       "      <td>-0.090342</td>\n",
       "      <td>-0.035431</td>\n",
       "      <td>0.028823</td>\n",
       "      <td>-0.055508</td>\n",
       "      <td>0.061159</td>\n",
       "      <td>0.065763</td>\n",
       "      <td>-0.021033</td>\n",
       "      <td>0.003714</td>\n",
       "      <td>-0.000318</td>\n",
       "    </tr>\n",
       "    <tr>\n",
       "      <th>4</th>\n",
       "      <td>18</td>\n",
       "      <td>01EVF493Z4BS2QSGBQ27ECRJ2N</td>\n",
       "      <td>top</td>\n",
       "      <td>Unknown</td>\n",
       "      <td>Unknown</td>\n",
       "      <td>misa noa top cut micro pleat chiffon loose fit...</td>\n",
       "      <td>3.063287</td>\n",
       "      <td>0.151737</td>\n",
       "      <td>-1.366322</td>\n",
       "      <td>0.090246</td>\n",
       "      <td>...</td>\n",
       "      <td>-0.004873</td>\n",
       "      <td>-0.013833</td>\n",
       "      <td>0.003817</td>\n",
       "      <td>0.002910</td>\n",
       "      <td>-0.010793</td>\n",
       "      <td>-0.003167</td>\n",
       "      <td>0.004491</td>\n",
       "      <td>0.007512</td>\n",
       "      <td>-0.023106</td>\n",
       "      <td>0.000518</td>\n",
       "    </tr>\n",
       "  </tbody>\n",
       "</table>\n",
       "<p>5 rows × 3006 columns</p>\n",
       "</div>"
      ],
      "text/plain": [
       "   index                  product_id outfit_type outfit_id outfit_item_type  \\\n",
       "0      0  01EX0PN4J9WRNZH5F93YEX6QAF         top   Unknown          Unknown   \n",
       "1      8  01EWTKPJNHRRDJZ9BVJWJV1T6Q         top   Unknown          Unknown   \n",
       "2     11  01EWTKP0QZADY85ZMFZAH4Q122         top   Unknown          Unknown   \n",
       "3     12  01EWTKP97SE8DTWEYY5F19HSVE         top   Unknown          Unknown   \n",
       "4     18  01EVF493Z4BS2QSGBQ27ECRJ2N         top   Unknown          Unknown   \n",
       "\n",
       "                                          final_text         0         1  \\\n",
       "0  two khadi stripe shirt signature shirt signatu...  2.473594 -0.204317   \n",
       "1  maia bergman lubi something nice jean begin lo...  1.094859  0.148292   \n",
       "2  maia bergman claudia onyx everybody favourite ...  1.338875  0.125109   \n",
       "3  maia bergman shani shani come pair top feature...  1.788063  0.036524   \n",
       "4  misa noa top cut micro pleat chiffon loose fit...  3.063287  0.151737   \n",
       "\n",
       "          2         3  ...      2990      2991      2992      2993      2994  \\\n",
       "0  0.127796 -0.548573  ...  0.022266 -0.020602 -0.026872 -0.025653 -0.005684   \n",
       "1 -0.467956  0.203742  ... -0.008657 -0.037897  0.017339  0.000533  0.036848   \n",
       "2 -0.492932  0.128647  ... -0.067102  0.034776 -0.043286 -0.015869  0.061891   \n",
       "3 -0.513486 -0.122497  ... -0.004204 -0.090342 -0.035431  0.028823 -0.055508   \n",
       "4 -1.366322  0.090246  ... -0.004873 -0.013833  0.003817  0.002910 -0.010793   \n",
       "\n",
       "       2995      2996      2997      2998      2999  \n",
       "0  0.016395  0.011607 -0.014828 -0.020998 -0.014581  \n",
       "1 -0.009536 -0.003788  0.018420 -0.004689 -0.001261  \n",
       "2  0.038115 -0.015910 -0.028989 -0.058490 -0.028387  \n",
       "3  0.061159  0.065763 -0.021033  0.003714 -0.000318  \n",
       "4 -0.003167  0.004491  0.007512 -0.023106  0.000518  \n",
       "\n",
       "[5 rows x 3006 columns]"
      ]
     },
     "execution_count": 137,
     "metadata": {},
     "output_type": "execute_result"
    }
   ],
   "source": [
    "top_product.head()"
   ]
  },
  {
   "cell_type": "code",
   "execution_count": 138,
   "metadata": {
    "ExecuteTime": {
     "end_time": "2021-05-12T02:21:15.276818Z",
     "start_time": "2021-05-12T02:21:15.268464Z"
    }
   },
   "outputs": [],
   "source": [
    "def preprocess_query(user_query):\n",
    "    user_query = user_query.strip()\n",
    "    user_query = user_query.lower()\n",
    "    user_query = remove_stopwords(user_query)\n",
    "    user_query = lemmatize_sentence(user_query)\n",
    "    return user_query"
   ]
  },
  {
   "cell_type": "markdown",
   "metadata": {},
   "source": [
    "The logic of the `search` function is:\n",
    "1. Find out the most matched product in each category with the highest cosine similarity using the vector of input query and existing products\n",
    "2. Check if the mosted matched product has an outfit id. If yes, then return the product id in each category with the same outfit id.\n",
    "3. Compare the cosine similarity of onepiece, top, and bottom to determine whether the outfit contains onepiece only or contains top and bottom only\n",
    "4. Return the product id in each category"
   ]
  },
  {
   "cell_type": "code",
   "execution_count": 139,
   "metadata": {
    "ExecuteTime": {
     "end_time": "2021-05-12T02:21:15.423034Z",
     "start_time": "2021-05-12T02:21:15.280068Z"
    }
   },
   "outputs": [],
   "source": [
    "def search(user_query: str):\n",
    "    \"\"\"\n",
    "    user_query is a string that is passed in by the user, \n",
    "    and this function returns a dictionary of outfit results. Example:\n",
    "    search(\"pleated casual skirt\") -> { \"top\": \"...\",\n",
    "    \"bottom\": \"...\",\n",
    "    \"shoe\": \"...\"\n",
    "    } \n",
    "    \"\"\"\n",
    "    user_query = preprocess_query(user_query)\n",
    "    query_vec_df = vectorizer.transform([user_query])\n",
    "    query_svd = svd.transform(query_vec_df)\n",
    "    \n",
    "    return_dict = {}\n",
    "    \n",
    "    # onepiece\n",
    "    cos_op = 0\n",
    "    op_product_id = None\n",
    "    op_outfit_id = None\n",
    "    op_idx = 0\n",
    "    for i in range(len(onepiece_product)):\n",
    "        cos_similarity = 1 - scipy.spatial.distance.cosine(query_svd, onepiece_product.iloc[i, 6:])\n",
    "        if cos_similarity > cos_op:\n",
    "            cos_op = cos_similarity\n",
    "            op_product_id = onepiece_product.loc[i, 'product_id']\n",
    "            op_outfit_id = onepiece_product.loc[i, 'outfit_id']\n",
    "            op_idx = i\n",
    "    \n",
    "    if op_outfit_id != 'Unknown':\n",
    "        matched_df = outfit_2[outfit_2['outfit_id'] == op_outfit_id]\n",
    "        matched_df = matched_df.reset_index()\n",
    "        for i in range(len(matched_df)):\n",
    "            cate = matched_df.loc[i, 'outfit_item_type']\n",
    "            pid = matched_df.loc[i, 'product_id']\n",
    "            return_dict[cate] = pid\n",
    "        return return_dict\n",
    "    \n",
    "    # top\n",
    "    cos_top = 0\n",
    "    top_product_id = None\n",
    "    top_outfit_id = None\n",
    "    top_idx = 0\n",
    "    for i in range(len(top_product)):\n",
    "        cos_similarity = 1 - scipy.spatial.distance.cosine(query_svd, top_product.iloc[i, 6:])\n",
    "        if cos_similarity > cos_top:\n",
    "            cos_top = cos_similarity\n",
    "            top_product_id = top_product.loc[i, 'product_id']\n",
    "            top_outfit_id = top_product.loc[i, 'outfit_id']\n",
    "            top_idx = i\n",
    "            \n",
    "    if op_outfit_id != 'Unknown':\n",
    "        matched_df = outfit_2[outfit_2['outfit_id'] == top_outfit_id]\n",
    "        matched_df = matched_df.reset_index()\n",
    "        for i in range(len(matched_df)):\n",
    "            cate = matched_df.loc[i, 'outfit_item_type']\n",
    "            pid = matched_df.loc[i, 'product_id']\n",
    "            return_dict[cate] = pid\n",
    "        return return_dict\n",
    "    \n",
    "    # bottom\n",
    "    cos_bot = 0\n",
    "    bot_product_id = None\n",
    "    bot_outfit_id = None\n",
    "    bot_idx = 0\n",
    "    for i in range(len(bottom_product)):\n",
    "        cos_similarity = 1 - scipy.spatial.distance.cosine(query_svd, bottom_product.iloc[i, 6:])\n",
    "        if cos_similarity > cos_bot:\n",
    "            cos_bot = cos_similarity\n",
    "            bot_product_id = bottom_product.loc[i, 'product_id']\n",
    "            bot_outfit_id = bottom_product.loc[i, 'outfit_id']\n",
    "            bot_idx = i\n",
    "            \n",
    "    if bot_outfit_id != 'Unknown':\n",
    "        matched_df = outfit_2[outfit_2['outfit_id'] == bot_outfit_id]\n",
    "        matched_df = matched_df.reset_index()\n",
    "        for i in range(len(matched_df)):\n",
    "            cate = matched_df.loc[i, 'outfit_item_type']\n",
    "            pid = matched_df.loc[i, 'product_id']\n",
    "            return_dict[cate] = pid\n",
    "        return return_dict\n",
    "        \n",
    "    # shoe\n",
    "    cos_shoe = 0\n",
    "    shoe_product_id = None\n",
    "    shoe_outfit_id = None\n",
    "    shoe_idx = 0\n",
    "    for i in range(len(shoe_product)):\n",
    "        cos_similarity = 1 - scipy.spatial.distance.cosine(query_svd, shoe_product.iloc[i, 6:])\n",
    "        if cos_similarity > cos_shoe:\n",
    "            cos_shoe = cos_similarity\n",
    "            shoe_product_id = shoe_product.loc[i, 'product_id']\n",
    "            shoe_outfit_id = shoe_product.loc[i, 'outfit_id']\n",
    "            shoe_idx = i\n",
    "            \n",
    "    if shoe_outfit_id != 'Unknown':\n",
    "        matched_df = outfit_2[outfit_2['outfit_id'] == shoe_outfit_id]\n",
    "        matched_df = matched_df.reset_index()\n",
    "        for i in range(len(matched_df)):\n",
    "            cate = matched_df.loc[i, 'outfit_item_type']\n",
    "            pid = matched_df.loc[i, 'product_id']\n",
    "            return_dict[cate] = pid\n",
    "        return return_dict\n",
    "    \n",
    "    # accessory\n",
    "    cos_accessory = 0\n",
    "    accessory_product_id = None\n",
    "    accessory_outfit_id = None\n",
    "    accessory_idx = 0\n",
    "    for i in range(len(accessory_product)):\n",
    "        cos_similarity = 1 - scipy.spatial.distance.cosine(query_svd, accessory_product.iloc[i, 6:])\n",
    "        if cos_similarity > cos_accessory:\n",
    "            cos_accessory = cos_similarity\n",
    "            accessory_product_id = accessory_product.loc[i, 'product_id']\n",
    "            accessory_outfit_id = accessory_product.loc[i, 'outfit_id']\n",
    "            accessory_idx = i\n",
    "            \n",
    "    if accessory_outfit_id != 'Unknown':\n",
    "        matched_df = outfit_2[outfit_2['outfit_id'] == accessory_outfit_id]\n",
    "        matched_df = matched_df.reset_index()\n",
    "        for i in range(len(matched_df)):\n",
    "            cate = matched_df.loc[i, 'outfit_item_type']\n",
    "            pid = matched_df.loc[i, 'product_id']\n",
    "            return_dict[cate] = pid\n",
    "        return return_dict\n",
    "    \n",
    "    # determine whether onepiece or tom + bottom\n",
    "    if cos_op > cos_top and cos_op > cos_bot:\n",
    "        return_dict['onepiece'] = op_product_id\n",
    "    else:\n",
    "        return_dict['top'] = top_product_id\n",
    "        return_dict['bottom'] = bot_product_id\n",
    "        \n",
    "    return_dict['shoe'] = shoe_product_id\n",
    "    return_dict['accessory'] = accessory_product_id\n",
    "    \n",
    "    return return_dict"
   ]
  },
  {
   "cell_type": "code",
   "execution_count": 140,
   "metadata": {
    "ExecuteTime": {
     "end_time": "2021-05-12T02:21:15.446969Z",
     "start_time": "2021-05-12T02:21:15.428831Z"
    }
   },
   "outputs": [],
   "source": [
    "def show_results(return_dict):\n",
    "    final_dict = {}\n",
    "    for cate, pid in return_dict.items():\n",
    "        outfit_df = outfit_2[outfit_2['product_id'] == pid]\n",
    "        if not outfit_df.empty:\n",
    "            final_dict[cate] = outfit_df.iloc[0, :]['product_full_name']\n",
    "        else:\n",
    "            product_name = list(products_1[products_1['product_id'] == pid]['name'].values)\n",
    "            if product_name:\n",
    "                final_dict[cate] = product_name[0]\n",
    "            else:\n",
    "                final_dict[cate] = pid\n",
    "    return final_dict"
   ]
  },
  {
   "cell_type": "markdown",
   "metadata": {},
   "source": [
    "### Examples for Testing"
   ]
  },
  {
   "cell_type": "markdown",
   "metadata": {},
   "source": [
    "Example 1"
   ]
  },
  {
   "cell_type": "code",
   "execution_count": 141,
   "metadata": {
    "ExecuteTime": {
     "end_time": "2021-05-12T02:26:31.100639Z",
     "start_time": "2021-05-12T02:21:15.453501Z"
    }
   },
   "outputs": [],
   "source": [
    "result_dict = search('slim fitting, straight leg pant with a center back zipper and slightly cropped leg')"
   ]
  },
  {
   "cell_type": "code",
   "execution_count": 142,
   "metadata": {
    "ExecuteTime": {
     "end_time": "2021-05-12T02:26:31.151278Z",
     "start_time": "2021-05-12T02:26:31.121935Z"
    },
    "scrolled": true
   },
   "outputs": [
    {
     "data": {
      "text/plain": [
       "{'top': '01E2KXWWY6JAGENED7P62090NP',\n",
       " 'bottom': '01EDYCNSC1837PDVKT5D8PSX15',\n",
       " 'shoe': '01EF2G6W4D04YVBDNCGFTZFD3Z',\n",
       " 'accessory': '01DPGTXD3HEJ83GAWGBNB0PV92'}"
      ]
     },
     "execution_count": 142,
     "metadata": {},
     "output_type": "execute_result"
    }
   ],
   "source": [
    "result_dict"
   ]
  },
  {
   "cell_type": "code",
   "execution_count": 143,
   "metadata": {
    "ExecuteTime": {
     "end_time": "2021-05-12T02:26:31.239478Z",
     "start_time": "2021-05-12T02:26:31.155888Z"
    }
   },
   "outputs": [],
   "source": [
    "final_dict = show_results(result_dict)"
   ]
  },
  {
   "cell_type": "code",
   "execution_count": 144,
   "metadata": {
    "ExecuteTime": {
     "end_time": "2021-05-12T02:26:31.247356Z",
     "start_time": "2021-05-12T02:26:31.242337Z"
    }
   },
   "outputs": [
    {
     "data": {
      "text/plain": [
       "{'top': 'Slim Crop Pants',\n",
       " 'bottom': 'Kerrigan Pant',\n",
       " 'shoe': 'Flat Westside Pant',\n",
       " 'accessory': 'Belted denim boilersuit'}"
      ]
     },
     "execution_count": 144,
     "metadata": {},
     "output_type": "execute_result"
    }
   ],
   "source": [
    "final_dict"
   ]
  },
  {
   "cell_type": "markdown",
   "metadata": {},
   "source": [
    "Example 2"
   ]
  },
  {
   "cell_type": "code",
   "execution_count": 145,
   "metadata": {
    "ExecuteTime": {
     "end_time": "2021-05-12T02:31:39.041032Z",
     "start_time": "2021-05-12T02:26:31.250998Z"
    }
   },
   "outputs": [
    {
     "name": "stdout",
     "output_type": "stream",
     "text": [
      "{'top': '01EDYAKKQJNSQJ2S02B44VS1PQ', 'bottom': '01EQ9NX4QHM9D9A9GQN5F97T9R', 'shoe': '01EZ7QC3A5TKKANTTSCNTTHZXE', 'accessory': '01EJ78Q46PQDH60P2AX2Q6E5XW'}\n",
      "{'top': 'Cami Skirt', 'bottom': 'KNIFE PLEAT SKIRT', 'shoe': 'Mahi', 'accessory': 'Lea Skirt New Arrival'}\n"
     ]
    }
   ],
   "source": [
    "result_dict_2 = search('pleated casual skirt')\n",
    "final_dict_2 = show_results(result_dict_2)\n",
    "print(result_dict_2)\n",
    "print(final_dict_2)"
   ]
  },
  {
   "cell_type": "markdown",
   "metadata": {},
   "source": [
    "Example 3"
   ]
  },
  {
   "cell_type": "code",
   "execution_count": 146,
   "metadata": {
    "ExecuteTime": {
     "end_time": "2021-05-12T02:36:48.749583Z",
     "start_time": "2021-05-12T02:31:39.045661Z"
    }
   },
   "outputs": [
    {
     "name": "stdout",
     "output_type": "stream",
     "text": [
      "{'top': '01E2KZQJ9H2HCADQGF6V8YK7J4', 'bottom': '01ED9MHSMQANT3BP1NAF78X9GW', 'shoe': '01EZ7G8FVD8WZJRDZW73QZ3G9Y', 'accessory': '01EMJSMJHQ9YWYCE50TVCHMM1P'}\n",
      "{'top': 'Chenille Turtleneck High/Low Sweater', 'bottom': 'KIMBERLY SHORT SLEEVE SWEATER', 'shoe': 'Alysis', 'accessory': 'DUMONT SWEATER'}\n"
     ]
    }
   ],
   "source": [
    "result_dict_3 = search('turtleneck sweater designed in an oversized silhouette')\n",
    "final_dict_3 = show_results(result_dict_3)\n",
    "print(result_dict_3)\n",
    "print(final_dict_3)"
   ]
  },
  {
   "cell_type": "code",
   "execution_count": null,
   "metadata": {},
   "outputs": [],
   "source": []
  },
  {
   "cell_type": "code",
   "execution_count": null,
   "metadata": {},
   "outputs": [],
   "source": []
  },
  {
   "cell_type": "code",
   "execution_count": null,
   "metadata": {},
   "outputs": [],
   "source": []
  },
  {
   "cell_type": "code",
   "execution_count": null,
   "metadata": {},
   "outputs": [],
   "source": []
  }
 ],
 "metadata": {
  "kernelspec": {
   "display_name": "Python 3",
   "language": "python",
   "name": "python3"
  },
  "language_info": {
   "codemirror_mode": {
    "name": "ipython",
    "version": 3
   },
   "file_extension": ".py",
   "mimetype": "text/x-python",
   "name": "python",
   "nbconvert_exporter": "python",
   "pygments_lexer": "ipython3",
   "version": "3.7.6"
  },
  "toc": {
   "base_numbering": 1,
   "nav_menu": {},
   "number_sections": true,
   "sideBar": true,
   "skip_h1_title": false,
   "title_cell": "Table of Contents",
   "title_sidebar": "Contents",
   "toc_cell": false,
   "toc_position": {
    "height": "calc(100% - 180px)",
    "left": "10px",
    "top": "150px",
    "width": "364px"
   },
   "toc_section_display": true,
   "toc_window_display": true
  },
  "varInspector": {
   "cols": {
    "lenName": 16,
    "lenType": 16,
    "lenVar": 40
   },
   "kernels_config": {
    "python": {
     "delete_cmd_postfix": "",
     "delete_cmd_prefix": "del ",
     "library": "var_list.py",
     "varRefreshCmd": "print(var_dic_list())"
    },
    "r": {
     "delete_cmd_postfix": ") ",
     "delete_cmd_prefix": "rm(",
     "library": "var_list.r",
     "varRefreshCmd": "cat(var_dic_list()) "
    }
   },
   "types_to_exclude": [
    "module",
    "function",
    "builtin_function_or_method",
    "instance",
    "_Feature"
   ],
   "window_display": false
  }
 },
 "nbformat": 4,
 "nbformat_minor": 4
}
