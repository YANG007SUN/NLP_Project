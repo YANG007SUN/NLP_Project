{
 "cells": [
  {
   "cell_type": "markdown",
   "metadata": {},
   "source": [
    "<div align='left'><font size='6' color='#5b2c6f '> Purpose of Notebook</font></div>\n"
   ]
  },
  {
   "cell_type": "markdown",
   "metadata": {},
   "source": [
    "### Building a NLP model to predict which brand a new product should be assigned."
   ]
  },
  {
   "cell_type": "markdown",
   "metadata": {},
   "source": [
    "- [Functions](#1)\n",
    "- [Import Packages](#2)\n",
    "- [Explore Data](#3)"
   ]
  },
  {
   "cell_type": "markdown",
   "metadata": {},
   "source": [
    "## [Functions](#1)<a id='1'></a>"
   ]
  },
  {
   "cell_type": "code",
   "execution_count": null,
   "metadata": {},
   "outputs": [],
   "source": []
  },
  {
   "cell_type": "markdown",
   "metadata": {},
   "source": [
    "## [Import Packages](#2)<a id='2'></a>"
   ]
  },
  {
   "cell_type": "code",
   "execution_count": 2,
   "metadata": {},
   "outputs": [],
   "source": [
    "import pandas as pd\n",
    "import numpy as np\n",
    "import matplotlib.pyplot as plt\n",
    "\n",
    "\n"
   ]
  },
  {
   "cell_type": "markdown",
   "metadata": {},
   "source": [
    "## [Explore data](#3)<a id='3'></a>"
   ]
  },
  {
   "cell_type": "code",
   "execution_count": 4,
   "metadata": {},
   "outputs": [
    {
     "name": "stdout",
     "output_type": "stream",
     "text": [
      "\n",
      "Brand shape: (162, 10).\n",
      "Product shape: (61355, 11).\n",
      "Outfit shape: (5291, 5).\n",
      "Tags shaape: (97420, 4).\n",
      "\n"
     ]
    }
   ],
   "source": [
    "# read in data\n",
    "behold_brand = pd.read_csv('data/behold_brands USC.csv')\n",
    "behold_product = pd.read_excel('data/Behold+product+data+04262021.xlsx')\n",
    "outfit_combo = pd.read_csv('data/outfit_combinations USC.csv')\n",
    "tags = pd.read_csv('data/usc_additional_tags USC.csv')\n",
    "print(f'''\n",
    "Brand shape: {behold_brand.shape}.\n",
    "Product shape: {behold_product.shape}.\n",
    "Outfit shape: {outfit_combo.shape}.\n",
    "Tags shaape: {tags.shape}.\n",
    "''')"
   ]
  },
  {
   "cell_type": "code",
   "execution_count": null,
   "metadata": {},
   "outputs": [],
   "source": []
  },
  {
   "cell_type": "code",
   "execution_count": null,
   "metadata": {},
   "outputs": [],
   "source": []
  }
 ],
 "metadata": {
  "kernelspec": {
   "display_name": "Python 3",
   "language": "python",
   "name": "python3"
  },
  "language_info": {
   "codemirror_mode": {
    "name": "ipython",
    "version": 3
   },
   "file_extension": ".py",
   "mimetype": "text/x-python",
   "name": "python",
   "nbconvert_exporter": "python",
   "pygments_lexer": "ipython3",
   "version": "3.7.6"
  }
 },
 "nbformat": 4,
 "nbformat_minor": 4
}
