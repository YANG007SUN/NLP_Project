{
 "cells": [
  {
   "cell_type": "markdown",
   "metadata": {},
   "source": [
    "<div align='left'><font size='6' color='#5b2c6f '> Purpose of Notebook</font></div>\n"
   ]
  },
  {
   "cell_type": "markdown",
   "metadata": {},
   "source": [
    "### Building a NLP model to predict which brand a new product should be assigned."
   ]
  },
  {
   "cell_type": "markdown",
   "metadata": {},
   "source": [
    "- [Functions](#1)\n",
    "- [Import Packages](#2)\n",
    "- [Explore Data](#3)\n",
    "- [Manipulate Data](#4)\n",
    "- [Clean up text](#5)"
   ]
  },
  {
   "cell_type": "markdown",
   "metadata": {},
   "source": [
    "## [Functions](#1)<a id='1'></a>"
   ]
  },
  {
   "cell_type": "code",
   "execution_count": 483,
   "metadata": {},
   "outputs": [],
   "source": [
    "def check_dataset(df):\n",
    "    \"\"\" check missing value and unique number of category\n",
    "    \"\"\"\n",
    "    print(f'Dataset shape: {df.shape}')\n",
    "    print('==========================')\n",
    "    plt.figure(figsize = (10,5))\n",
    "    df.isna().sum().plot(kind = 'bar',rot = 45)\n",
    "    plt.title('missing value count')\n",
    "    for c in df.columns:\n",
    "        unique = len(df[c].unique())\n",
    "        print(f'{c}: unique - > {unique}.')\n",
    "# ===========================================================================================================\n",
    "def lemmatize_sentence(sentence):\n",
    "    # tokenize the sentence and find the POS tag for each token\n",
    "    nltk_tagged = nltk.pos_tag(nltk.word_tokenize(sentence))\n",
    "    # tuple of (token, wordnet_tag)\n",
    "    wordnet_tagged = map(lambda x: (x[0], nltk_tag_to_wordnet_tag(x[1])), nltk_tagged)\n",
    "    lemmatized_sentence = []\n",
    "    for word, tag in wordnet_tagged:\n",
    "        if tag is None:\n",
    "            # if there is no available tag, append the token as is\n",
    "            lemmatized_sentence.append(word)\n",
    "        else:\n",
    "            # else use the tag to lemmatize the token\n",
    "            lemmatized_sentence.append(lemmatizer.lemmatize(word, tag))\n",
    "    return lemmatized_sentence\n",
    "# ===========================================================================================================\n",
    "def nltk_tag_to_wordnet_tag(nltk_tag):\n",
    "    if nltk_tag.startswith('J'):\n",
    "        return wordnet.ADJ\n",
    "    elif nltk_tag.startswith('V'):\n",
    "        return wordnet.VERB\n",
    "    elif nltk_tag.startswith('N'):\n",
    "        return wordnet.NOUN\n",
    "    elif nltk_tag.startswith('R'):\n",
    "        return wordnet.ADV\n",
    "    else:\n",
    "        return None\n",
    "# ===========================================================================================================\n",
    "def integer_encode_documents(docs, tokenizer):\n",
    "    return tokenizer.texts_to_sequences(docs)"
   ]
  },
  {
   "cell_type": "markdown",
   "metadata": {},
   "source": [
    "## [Import Packages](#2)<a id='2'></a>"
   ]
  },
  {
   "cell_type": "code",
   "execution_count": 600,
   "metadata": {},
   "outputs": [
    {
     "name": "stderr",
     "output_type": "stream",
     "text": [
      "[nltk_data] Downloading package stopwords to\n",
      "[nltk_data]     /Users/yangsun/nltk_data...\n",
      "[nltk_data]   Package stopwords is already up-to-date!\n",
      "[nltk_data] Downloading package punkt to /Users/yangsun/nltk_data...\n",
      "[nltk_data]   Package punkt is already up-to-date!\n",
      "[nltk_data] Downloading package wordnet to /Users/yangsun/nltk_data...\n",
      "[nltk_data]   Package wordnet is already up-to-date!\n"
     ]
    }
   ],
   "source": [
    "import pandas as pd\n",
    "import numpy as np\n",
    "import matplotlib.pyplot as plt\n",
    "import seaborn as sns\n",
    "from collections import Counter\n",
    "import spacy\n",
    "import re\n",
    "from nltk.corpus import stopwords\n",
    "import nltk\n",
    "nltk.download('stopwords')\n",
    "nltk.download('punkt')\n",
    "nltk.download('wordnet')\n",
    "from nltk.corpus import stopwords, wordnet\n",
    "from nltk.stem import WordNetLemmatizer\n",
    "lemmatizer = WordNetLemmatizer()\n",
    "from nltk.tokenize import word_tokenize \n",
    "from typing import List\n",
    "from keras.preprocessing.text import one_hot\n",
    "from keras.preprocessing.sequence import pad_sequences\n",
    "from keras.utils import to_categorical\n",
    "from sklearn.preprocessing import LabelEncoder\n",
    "from numpy import asarray\n",
    "from numpy import zeros\n",
    "from keras.preprocessing.text import Tokenizer\n",
    "from nltk.tokenize import word_tokenize \n",
    "from keras.models import Sequential\n",
    "from keras.layers import Dense\n",
    "from keras.layers import Flatten\n",
    "from keras.layers import Embedding\n",
    "from sklearn.model_selection import train_test_split\n",
    "import keras\n",
    "from keras.layers.recurrent import SimpleRNN, LSTM\n",
    "from keras.layers import Flatten, Masking"
   ]
  },
  {
   "cell_type": "markdown",
   "metadata": {},
   "source": [
    "## [Explore data](#3)<a id='3'></a>"
   ]
  },
  {
   "cell_type": "code",
   "execution_count": 568,
   "metadata": {},
   "outputs": [
    {
     "name": "stdout",
     "output_type": "stream",
     "text": [
      "\n",
      "Brand shape: (162, 10).\n",
      "Product shape: (61355, 11).\n",
      "Outfit shape: (5291, 5).\n",
      "Tags shaape: (97420, 4).\n",
      "\n"
     ]
    }
   ],
   "source": [
    "# read in data\n",
    "behold_brand = pd.read_csv('../../data/behold_brands USC.csv')\n",
    "behold_product = pd.read_excel('../../data/Behold+product+data+04262021.xlsx')\n",
    "outfit_combo = pd.read_csv('../../data/outfit_combinations USC.csv')\n",
    "tags = pd.read_csv('../../data/usc_additional_tags USC.csv')\n",
    "print(f'''\n",
    "Brand shape: {behold_brand.shape}.\n",
    "Product shape: {behold_product.shape}.\n",
    "Outfit shape: {outfit_combo.shape}.\n",
    "Tags shaape: {tags.shape}.\n",
    "''')"
   ]
  },
  {
   "cell_type": "markdown",
   "metadata": {},
   "source": [
    "<div align='left'><font size='4' color='#229954'>Explore behold brand dataset</font></div>"
   ]
  },
  {
   "cell_type": "code",
   "execution_count": 569,
   "metadata": {},
   "outputs": [
    {
     "name": "stdout",
     "output_type": "stream",
     "text": [
      "Dataset shape: (162, 10)\n",
      "==========================\n",
      "brand_id: unique - > 74.\n",
      "brand: unique - > 74.\n",
      "brand_value: unique - > 7.\n",
      "bio: unique - > 72.\n",
      "quote: unique - > 72.\n",
      "quote_attribute: unique - > 60.\n",
      "intro: unique - > 71.\n",
      "lifestyle_copy: unique - > 67.\n",
      "short_bio: unique - > 72.\n",
      "listing_bio: unique - > 72.\n"
     ]
    },
    {
     "data": {
      "image/png": "[encoded data removed]",
      "text/plain": [
       "<Figure size 720x360 with 1 Axes>"
      ]
     },
     "metadata": {
      "needs_background": "light"
     },
     "output_type": "display_data"
    }
   ],
   "source": [
    "# check dataset\n",
    "check_dataset(behold_brand)"
   ]
  },
  {
   "cell_type": "markdown",
   "metadata": {},
   "source": [
    "<div align='left'><font size='4' color='#229954'>Explore behold product dataset</font></div>"
   ]
  },
  {
   "cell_type": "code",
   "execution_count": 189,
   "metadata": {},
   "outputs": [
    {
     "name": "stdout",
     "output_type": "stream",
     "text": [
      "Dataset shape: (61355, 11)\n",
      "==========================\n",
      "product_id: unique - > 61355.\n",
      "brand: unique - > 386.\n",
      "brand_category: unique - > 633.\n",
      "name: unique - > 42616.\n",
      "details: unique - > 7035.\n",
      "created_at: unique - > 61349.\n",
      "brand_canonical_url: unique - > 58156.\n",
      "description: unique - > 42211.\n",
      "brand_description: unique - > 42551.\n",
      "brand_name: unique - > 42603.\n",
      "product_active: unique - > 2.\n"
     ]
    },
    {
     "data": {
      "image/png": "[encoded data removed]",
      "text/plain": [
       "<Figure size 720x360 with 1 Axes>"
      ]
     },
     "metadata": {
      "needs_background": "light"
     },
     "output_type": "display_data"
    }
   ],
   "source": [
    "check_dataset(behold_product)"
   ]
  },
  {
   "cell_type": "code",
   "execution_count": 190,
   "metadata": {},
   "outputs": [
    {
     "data": {
      "text/plain": [
       "Text(0.5, 1.0, 'Top 30 brands data point count')"
      ]
     },
     "execution_count": 190,
     "metadata": {},
     "output_type": "execute_result"
    },
    {
     "data": {
      "image/png": "[encoded data removed]",
      "text/plain": [
       "<Figure size 1656x360 with 1 Axes>"
      ]
     },
     "metadata": {
      "needs_background": "light"
     },
     "output_type": "display_data"
    }
   ],
   "source": [
    "# check number of brands\n",
    "plt.figure(figsize = (23,5))\n",
    "behold_product['brand'].value_counts()[:30].plot(kind = 'bar',rot = 60)\n",
    "plt.title('Top 30 brands data point count')"
   ]
  },
  {
   "cell_type": "code",
   "execution_count": 191,
   "metadata": {},
   "outputs": [
    {
     "name": "stdout",
     "output_type": "stream",
     "text": [
      "Top 30 brands take about 75.0 percentage of product dataset.\n"
     ]
    }
   ],
   "source": [
    "top_30_brands_count = behold_product['brand'].value_counts()[:30].sum()\n",
    "print(f'Top 30 brands take about {round(top_30_brands_count/behold_product.shape[0],2)*100} percentage of product dataset.')"
   ]
  },
  {
   "cell_type": "code",
   "execution_count": 192,
   "metadata": {},
   "outputs": [
    {
     "data": {
      "text/plain": [
       "Text(0.5, 1.0, 'is active')"
      ]
     },
     "execution_count": 192,
     "metadata": {},
     "output_type": "execute_result"
    },
    {
     "data": {
      "image/png": "[encoded data removed]",
      "text/plain": [
       "<Figure size 432x288 with 1 Axes>"
      ]
     },
     "metadata": {
      "needs_background": "light"
     },
     "output_type": "display_data"
    }
   ],
   "source": [
    "behold_product['product_active'].value_counts().plot(kind = 'bar')\n",
    "plt.title('is active')"
   ]
  },
  {
   "cell_type": "code",
   "execution_count": 193,
   "metadata": {},
   "outputs": [
    {
     "name": "stdout",
     "output_type": "stream",
     "text": [
      "product_id -> blank:0, unknow:0\n",
      "brand -> blank:0, unknow:0\n",
      "brand_category -> blank:459, unknow:53249\n",
      "name -> blank:1, unknow:0\n",
      "details -> blank:52155, unknow:0\n",
      "created_at -> blank:0, unknow:0\n",
      "brand_canonical_url -> blank:0, unknow:0\n",
      "description -> blank:10117, unknow:0\n",
      "brand_description -> blank:10121, unknow:0\n",
      "brand_name -> blank:1, unknow:0\n",
      "product_active -> blank:0, unknow:0\n"
     ]
    }
   ],
   "source": [
    "# check both missing and unknown\n",
    "for c in behold_product.columns:\n",
    "    blank = behold_product[c].isna().sum()\n",
    "    temp = [str(r).lower()=='unknown' for r in behold_product[c]]\n",
    "    unknown  = sum(temp)\n",
    "    print(f'{c} -> blank:{blank}, unknow:{unknown}')"
   ]
  },
  {
   "cell_type": "markdown",
   "metadata": {},
   "source": [
    "There are 53249 unknown values for `brand category` column, so this column is not very useful."
   ]
  },
  {
   "cell_type": "markdown",
   "metadata": {},
   "source": [
    "<div align='left'><font size='4' color='#229954'>Explore Outfit dataset</font></div>"
   ]
  },
  {
   "cell_type": "code",
   "execution_count": 194,
   "metadata": {},
   "outputs": [
    {
     "name": "stdout",
     "output_type": "stream",
     "text": [
      "Dataset shape: (5291, 5)\n",
      "==========================\n",
      "outfit_id: unique - > 1137.\n",
      "product_id: unique - > 804.\n",
      "outfit_item_type: unique - > 7.\n",
      "brand: unique - > 306.\n",
      "product_full_name: unique - > 799.\n"
     ]
    },
    {
     "data": {
      "image/png": "[encoded data removed]",
      "text/plain": [
       "<Figure size 720x360 with 1 Axes>"
      ]
     },
     "metadata": {
      "needs_background": "light"
     },
     "output_type": "display_data"
    }
   ],
   "source": [
    "check_dataset(outfit_combo)"
   ]
  },
  {
   "cell_type": "markdown",
   "metadata": {},
   "source": [
    "<div align='left'><font size='4' color='#229954'>Explore tags dataset</font></div>"
   ]
  },
  {
   "cell_type": "code",
   "execution_count": 64,
   "metadata": {},
   "outputs": [
    {
     "name": "stdout",
     "output_type": "stream",
     "text": [
      "Dataset shape: (97420, 4)\n",
      "==========================\n",
      "product_id: unique - > 3970.\n",
      "product_color_id: unique - > 5517.\n",
      "attribute_name: unique - > 86.\n",
      "attribute_value: unique - > 456.\n"
     ]
    },
    {
     "data": {
      "image/png": "[encoded data removed]",
      "text/plain": [
       "<Figure size 720x360 with 1 Axes>"
      ]
     },
     "metadata": {
      "needs_background": "light"
     },
     "output_type": "display_data"
    }
   ],
   "source": [
    "check_dataset(tags)"
   ]
  },
  {
   "cell_type": "markdown",
   "metadata": {},
   "source": [
    "## [Manipulate data](#4)<a id='4'></a>"
   ]
  },
  {
   "cell_type": "markdown",
   "metadata": {},
   "source": [
    "Use Behold product dataset as the master dataset, and left join with outfit combo dataset to the product dataset by `product ID`.<br>\n",
    "I did not left join with `tags` dataset because `tags` dataset creates too many duplicated rows. "
   ]
  },
  {
   "cell_type": "code",
   "execution_count": 195,
   "metadata": {},
   "outputs": [
    {
     "data": {
      "text/plain": [
       "(65785, 15)"
      ]
     },
     "execution_count": 195,
     "metadata": {},
     "output_type": "execute_result"
    }
   ],
   "source": [
    "behold_product_master = pd.merge(behold_product, outfit_combo,how = 'left',on='product_id',suffixes=('_product_df','_outfit_df'))\n",
    "behold_product_master.shape"
   ]
  },
  {
   "cell_type": "code",
   "execution_count": 198,
   "metadata": {},
   "outputs": [
    {
     "name": "stdout",
     "output_type": "stream",
     "text": [
      "Dataset shape: (65785, 15)\n",
      "==========================\n",
      "product_id: unique - > 61355.\n",
      "brand_product_df: unique - > 386.\n",
      "brand_category: unique - > 633.\n",
      "name: unique - > 42616.\n",
      "details: unique - > 7035.\n",
      "created_at: unique - > 61349.\n",
      "brand_canonical_url: unique - > 58156.\n",
      "description: unique - > 42211.\n",
      "brand_description: unique - > 42551.\n",
      "brand_name: unique - > 42603.\n",
      "product_active: unique - > 2.\n",
      "outfit_id: unique - > 1134.\n",
      "outfit_item_type: unique - > 8.\n",
      "brand_outfit_df: unique - > 304.\n",
      "product_full_name: unique - > 766.\n"
     ]
    },
    {
     "data": {
      "image/png": "[encoded data removed]",
      "text/plain": [
       "<Figure size 720x360 with 1 Axes>"
      ]
     },
     "metadata": {
      "needs_background": "light"
     },
     "output_type": "display_data"
    }
   ],
   "source": [
    "# explore master dataset\n",
    "check_dataset(behold_product_master)"
   ]
  },
  {
   "cell_type": "markdown",
   "metadata": {},
   "source": [
    "There is no additional information to the dataset by left joining `outfit combo` dataset to `product` dataset, because the column from `outfit combo` dataset has lots of missing value when left join to `Product` dataset. Therefore, I decided just to use `Product` dataset for classification problem. "
   ]
  },
  {
   "cell_type": "code",
   "execution_count": 534,
   "metadata": {},
   "outputs": [],
   "source": [
    "behold_product_orig = behold_product.copy()"
   ]
  },
  {
   "cell_type": "code",
   "execution_count": 289,
   "metadata": {},
   "outputs": [
    {
     "name": "stdout",
     "output_type": "stream",
     "text": [
      "Dataset shape: (61355, 11)\n",
      "==========================\n",
      "product_id: unique - > 61355.\n",
      "brand: unique - > 386.\n",
      "brand_category: unique - > 633.\n",
      "name: unique - > 42616.\n",
      "details: unique - > 7035.\n",
      "created_at: unique - > 61349.\n",
      "brand_canonical_url: unique - > 58156.\n",
      "description: unique - > 42211.\n",
      "brand_description: unique - > 42551.\n",
      "brand_name: unique - > 42603.\n",
      "product_active: unique - > 2.\n"
     ]
    },
    {
     "data": {
      "image/png": "[encoded data removed]",
      "text/plain": [
       "<Figure size 720x360 with 1 Axes>"
      ]
     },
     "metadata": {
      "needs_background": "light"
     },
     "output_type": "display_data"
    }
   ],
   "source": [
    "check_dataset(behold_product)"
   ]
  },
  {
   "cell_type": "markdown",
   "metadata": {},
   "source": [
    "### Clean up data Fill out missing values\n",
    "- Since details column has lots of missing value, the column by itself might not be useful. I decided to concat with description to create a new column called `details_description`.\n",
    "- more than 50K missing or unknown value under `brand_category`, I will fill out all missing value(nan) with Unknown.\n",
    "- `name` and `brand_name` are same information, I will drop `brand_name` column.\n",
    "- drop `product_id`\n",
    "- drop `created_at` column.\n",
    "- drop `brand_canonical_url` column.\n",
    "- drop `product_active` column."
   ]
  },
  {
   "cell_type": "code",
   "execution_count": 570,
   "metadata": {},
   "outputs": [],
   "source": [
    "# fill details and description missing value with Unkown\n",
    "behold_product['details'] = behold_product['details'].fillna('Unknown')\n",
    "behold_product['description'] = behold_product['description'].fillna('Unknown')"
   ]
  },
  {
   "cell_type": "code",
   "execution_count": 571,
   "metadata": {},
   "outputs": [],
   "source": [
    "# concat details and description column.\n",
    "behold_product['details_description'] = behold_product['details'].astype(str) + ' '+ behold_product['description'].astype(str)"
   ]
  },
  {
   "cell_type": "code",
   "execution_count": 572,
   "metadata": {},
   "outputs": [],
   "source": [
    "# fill nan with Unknown for brand_category column\n",
    "behold_product['brand_category'] = behold_product['brand_category'].fillna('Unknwon')\n",
    "behold_product['name'] = behold_product['name'].fillna('Unknwon')"
   ]
  },
  {
   "cell_type": "code",
   "execution_count": 573,
   "metadata": {},
   "outputs": [],
   "source": [
    "# drop brand_name, created_at, brand_cononical_url, product_active columns\n",
    "behold_product.drop(['product_id','brand_name','created_at','brand_canonical_url','product_active','details','description','brand_description'], axis =1, inplace = True)"
   ]
  },
  {
   "cell_type": "code",
   "execution_count": 574,
   "metadata": {},
   "outputs": [
    {
     "name": "stdout",
     "output_type": "stream",
     "text": [
      "<class 'pandas.core.frame.DataFrame'>\n",
      "RangeIndex: 61355 entries, 0 to 61354\n",
      "Data columns (total 4 columns):\n",
      " #   Column               Non-Null Count  Dtype \n",
      "---  ------               --------------  ----- \n",
      " 0   brand                61355 non-null  object\n",
      " 1   brand_category       61355 non-null  object\n",
      " 2   name                 61355 non-null  object\n",
      " 3   details_description  61355 non-null  object\n",
      "dtypes: object(4)\n",
      "memory usage: 1.9+ MB\n"
     ]
    }
   ],
   "source": [
    "behold_product.info()"
   ]
  },
  {
   "cell_type": "markdown",
   "metadata": {},
   "source": [
    "### Now data has three descriptive columns to predict brand column."
   ]
  },
  {
   "cell_type": "markdown",
   "metadata": {},
   "source": [
    "## [Clean up Text](#5)<a id='5'></a>"
   ]
  },
  {
   "cell_type": "markdown",
   "metadata": {},
   "source": [
    "<div align='left'><font size='4' color='#229954'>Text Cleaning\n",
    "</font></div>"
   ]
  },
  {
   "cell_type": "markdown",
   "metadata": {},
   "source": [
    "- Remove `\\n` in all text, replace with blank.\n",
    "- replace `\\` with blank, as it separates words.\n",
    "- lower all cases"
   ]
  },
  {
   "cell_type": "code",
   "execution_count": 575,
   "metadata": {},
   "outputs": [],
   "source": [
    "for c in behold_product.columns[1:]:\n",
    "    behold_product[c] = [str(r).replace('\\n',' ') for r in behold_product[c]]\n",
    "    behold_product[c] = [str(r).replace(\"/\", ' ') for r in behold_product[c]]\n",
    "    behold_product[c] = [str(r).lower() for r in behold_product[c]]"
   ]
  },
  {
   "cell_type": "code",
   "execution_count": 576,
   "metadata": {},
   "outputs": [
    {
     "data": {
      "text/html": [
       "<div>\n",
       "<style scoped>\n",
       "    .dataframe tbody tr th:only-of-type {\n",
       "        vertical-align: middle;\n",
       "    }\n",
       "\n",
       "    .dataframe tbody tr th {\n",
       "        vertical-align: top;\n",
       "    }\n",
       "\n",
       "    .dataframe thead th {\n",
       "        text-align: right;\n",
       "    }\n",
       "</style>\n",
       "<table border=\"1\" class=\"dataframe\">\n",
       "  <thead>\n",
       "    <tr style=\"text-align: right;\">\n",
       "      <th></th>\n",
       "      <th>brand</th>\n",
       "      <th>brand_category</th>\n",
       "      <th>name</th>\n",
       "      <th>details_description</th>\n",
       "    </tr>\n",
       "  </thead>\n",
       "  <tbody>\n",
       "    <tr>\n",
       "      <th>0</th>\n",
       "      <td>Two</td>\n",
       "      <td>unknown</td>\n",
       "      <td>khadi stripe shirt-our signature shirt</td>\n",
       "      <td>unknown our signature khadi shirt available in...</td>\n",
       "    </tr>\n",
       "    <tr>\n",
       "      <th>1</th>\n",
       "      <td>Collina Strada</td>\n",
       "      <td>unknown</td>\n",
       "      <td>ruffle market dress loopy pink sistine tomato</td>\n",
       "      <td>unknown mid-length dress with ruffles and adju...</td>\n",
       "    </tr>\n",
       "  </tbody>\n",
       "</table>\n",
       "</div>"
      ],
      "text/plain": [
       "            brand brand_category  \\\n",
       "0             Two        unknown   \n",
       "1  Collina Strada        unknown   \n",
       "\n",
       "                                            name  \\\n",
       "0         khadi stripe shirt-our signature shirt   \n",
       "1  ruffle market dress loopy pink sistine tomato   \n",
       "\n",
       "                                 details_description  \n",
       "0  unknown our signature khadi shirt available in...  \n",
       "1  unknown mid-length dress with ruffles and adju...  "
      ]
     },
     "execution_count": 576,
     "metadata": {},
     "output_type": "execute_result"
    }
   ],
   "source": [
    "behold_product_1 = behold_product.copy()\n",
    "behold_product.head(2)"
   ]
  },
  {
   "cell_type": "markdown",
   "metadata": {},
   "source": [
    "<div align='left'><font size='4' color='#229954'>Remove Stopwords and Lemmatization\n",
    "</font></div>"
   ]
  },
  {
   "cell_type": "code",
   "execution_count": 577,
   "metadata": {},
   "outputs": [],
   "source": [
    "stop_words = list(set(stopwords.words('english')))"
   ]
  },
  {
   "cell_type": "code",
   "execution_count": 578,
   "metadata": {},
   "outputs": [
    {
     "data": {
      "image/png": "[encoded data removed]",
      "text/plain": [
       "<Figure size 432x288 with 1 Axes>"
      ]
     },
     "metadata": {
      "needs_background": "light"
     },
     "output_type": "display_data"
    },
    {
     "data": {
      "image/png": "[encoded data removed]",
      "text/plain": [
       "<Figure size 432x288 with 1 Axes>"
      ]
     },
     "metadata": {
      "needs_background": "light"
     },
     "output_type": "display_data"
    },
    {
     "data": {
      "image/png": "[encoded data removed]",
      "text/plain": [
       "<Figure size 432x288 with 1 Axes>"
      ]
     },
     "metadata": {
      "needs_background": "light"
     },
     "output_type": "display_data"
    }
   ],
   "source": [
    "# remove stopwords\n",
    "for c in behold_product.columns[1:]:\n",
    "    col, bef, aft = [],[],[]\n",
    "    for r in behold_product[c]:\n",
    "        word_tokens = word_tokenize(r) \n",
    "        bef.append(len(word_tokens))\n",
    "        filtered_sentence = [w for w in word_tokens if not w in stop_words]\n",
    "        aft.append(len(filtered_sentence))\n",
    "        col.append(' '.join(filtered_sentence))\n",
    "    \n",
    "    # plot length before and after remove stop words\n",
    "    plt.hist(bef, alpha = 0.2)\n",
    "    plt.hist(aft, alpha = 0.3)\n",
    "    plt.title(c)\n",
    "    plt.show()\n",
    "    behold_product[c] = col"
   ]
  },
  {
   "cell_type": "code",
   "execution_count": 582,
   "metadata": {},
   "outputs": [
    {
     "data": {
      "text/html": [
       "<div>\n",
       "<style scoped>\n",
       "    .dataframe tbody tr th:only-of-type {\n",
       "        vertical-align: middle;\n",
       "    }\n",
       "\n",
       "    .dataframe tbody tr th {\n",
       "        vertical-align: top;\n",
       "    }\n",
       "\n",
       "    .dataframe thead th {\n",
       "        text-align: right;\n",
       "    }\n",
       "</style>\n",
       "<table border=\"1\" class=\"dataframe\">\n",
       "  <thead>\n",
       "    <tr style=\"text-align: right;\">\n",
       "      <th></th>\n",
       "      <th>brand</th>\n",
       "      <th>brand_category</th>\n",
       "      <th>name</th>\n",
       "      <th>details_description</th>\n",
       "    </tr>\n",
       "  </thead>\n",
       "  <tbody>\n",
       "    <tr>\n",
       "      <th>0</th>\n",
       "      <td>Two</td>\n",
       "      <td>unknown</td>\n",
       "      <td>khadi stripe shirt-our signature shirt</td>\n",
       "      <td>unknown signature khadi shirt available black ...</td>\n",
       "    </tr>\n",
       "    <tr>\n",
       "      <th>1</th>\n",
       "      <td>Collina Strada</td>\n",
       "      <td>unknown</td>\n",
       "      <td>ruffle market dress loopy pink sistine tomato</td>\n",
       "      <td>unknown mid-length dress ruffle adjustable str...</td>\n",
       "    </tr>\n",
       "  </tbody>\n",
       "</table>\n",
       "</div>"
      ],
      "text/plain": [
       "            brand brand_category  \\\n",
       "0             Two        unknown   \n",
       "1  Collina Strada        unknown   \n",
       "\n",
       "                                            name  \\\n",
       "0         khadi stripe shirt-our signature shirt   \n",
       "1  ruffle market dress loopy pink sistine tomato   \n",
       "\n",
       "                                 details_description  \n",
       "0  unknown signature khadi shirt available black ...  \n",
       "1  unknown mid-length dress ruffle adjustable str...  "
      ]
     },
     "execution_count": 582,
     "metadata": {},
     "output_type": "execute_result"
    }
   ],
   "source": [
    "# lemmatization\n",
    "for c in behold_product.columns[1:]:\n",
    "    behold_product[c] = [' '.join(lemmatize_sentence(r)) for r in behold_product[c]]\n",
    "behold_product.head(2)"
   ]
  },
  {
   "cell_type": "code",
   "execution_count": null,
   "metadata": {},
   "outputs": [],
   "source": [
    "stopwords_removed_lemmaed_docs = [' '.join(lemmatize_sentence(r)) for r in stopwords_removed_docs]"
   ]
  },
  {
   "cell_type": "markdown",
   "metadata": {},
   "source": [
    "<div align='left'><font size='4' color='#229954'>Tokenization\n",
    "</font></div>"
   ]
  },
  {
   "cell_type": "code",
   "execution_count": 586,
   "metadata": {},
   "outputs": [],
   "source": [
    "# only look at most frequency 200 words\n",
    "num_words_look = 200\n",
    "tokenizer = Tokenizer(num_words=num_words_look, oov_token=\"UNKNOWN_TOKEN\")\n",
    "tokenizer.fit_on_texts(list(behold_product['details_description']))"
   ]
  },
  {
   "cell_type": "code",
   "execution_count": 588,
   "metadata": {},
   "outputs": [
    {
     "data": {
      "text/plain": [
       "[53, 34, 8, 7, 2, 21, 27, 22, 25, 19, 20, 16, 23, 33, 27, 60, 62, 64, 52, 50]"
      ]
     },
     "execution_count": 588,
     "metadata": {},
     "output_type": "execute_result"
    }
   ],
   "source": [
    "# integer encode the documents\n",
    "encoded_docs = integer_encode_documents(list(behold_product['details_description']), tokenizer)\n",
    "# see some lengths of the documents\n",
    "list(map(len, encoded_docs))[:20]"
   ]
  },
  {
   "cell_type": "code",
   "execution_count": 590,
   "metadata": {},
   "outputs": [
    {
     "data": {
      "text/plain": [
       "(61355, 128)"
      ]
     },
     "execution_count": 590,
     "metadata": {},
     "output_type": "execute_result"
    }
   ],
   "source": [
    "MAX_SEQUENCE_LENGTH = 128\n",
    "padded_docs = pad_sequences(encoded_docs, maxlen=MAX_SEQUENCE_LENGTH, padding='post')\n",
    "padded_docs.shape"
   ]
  },
  {
   "cell_type": "markdown",
   "metadata": {},
   "source": [
    "<div align='left'><font size='4' color='#229954'>Create Labels\n",
    "</font></div>"
   ]
  },
  {
   "cell_type": "markdown",
   "metadata": {},
   "source": [
    "I will create total 31 categories for label. Top 30 brands + others"
   ]
  },
  {
   "cell_type": "code",
   "execution_count": 633,
   "metadata": {},
   "outputs": [],
   "source": [
    "new_label = list(behold_product['brand'].value_counts().index)[:30]\n",
    "labels = [l if l in new_label else 'others'for l in behold_product['brand']]"
   ]
  },
  {
   "cell_type": "code",
   "execution_count": 634,
   "metadata": {},
   "outputs": [],
   "source": [
    "encoder = LabelEncoder()\n",
    "labels = to_categorical(encoder.fit_transform(labels))"
   ]
  },
  {
   "cell_type": "code",
   "execution_count": 608,
   "metadata": {},
   "outputs": [],
   "source": [
    "# split train and test\n",
    "X_train, X_test, y_train, y_test = train_test_split(padded_docs, labels, test_size=0.2)"
   ]
  },
  {
   "cell_type": "code",
   "execution_count": 610,
   "metadata": {},
   "outputs": [
    {
     "name": "stdout",
     "output_type": "stream",
     "text": [
      "Loaded 400000 word vectors.\n"
     ]
    }
   ],
   "source": [
    "## Load in GloVe Vectors\n",
    "def load_glove_vectors():\n",
    "    embeddings_index = {}\n",
    "    with open('../../../glove.6B.100d.txt') as f:\n",
    "        for line in f:\n",
    "            values = line.split()\n",
    "            word = values[0]\n",
    "            coefs = asarray(values[1:], dtype='float32')\n",
    "            embeddings_index[word] = coefs\n",
    "    print('Loaded %s word vectors.' % len(embeddings_index))\n",
    "    return embeddings_index\n",
    "\n",
    "embeddings_index = load_glove_vectors()"
   ]
  },
  {
   "cell_type": "code",
   "execution_count": 611,
   "metadata": {},
   "outputs": [],
   "source": [
    "# label embedding\n",
    "# create a weight matrix for words in training docs\n",
    "VOCAB_SIZE = int(len(tokenizer.word_index) * 1.1)\n",
    "embedding_matrix = zeros((VOCAB_SIZE, 100))\n",
    "for word, i in tokenizer.word_index.items():\n",
    "    embedding_vector = embeddings_index.get(word)\n",
    "    if embedding_vector is not None: # check that it is an actual word that we have embeddings for\n",
    "        embedding_matrix[i] = embedding_vector"
   ]
  },
  {
   "cell_type": "code",
   "execution_count": 636,
   "metadata": {},
   "outputs": [],
   "source": [
    "def make_lstm_classification_model(plot=False):\n",
    "    model =  keras.models.Sequential()\n",
    "    model.add(Embedding(VOCAB_SIZE, 100, weights=[embedding_matrix], input_length=MAX_SEQUENCE_LENGTH, trainable=False))\n",
    "    model.add(Masking(mask_value=0.0)) # masking layer, masks any words that don't have an embedding as 0s.\n",
    "    model.add(LSTM(units=128, input_shape=(1, MAX_SEQUENCE_LENGTH)))\n",
    "    model.add(Dense(16))\n",
    "    model.add(Dense(31, activation='softmax'))\n",
    "    \n",
    "    # Compile the model\n",
    "    model.compile(\n",
    "    optimizer='adam', loss='categorical_crossentropy', metrics=['accuracy'])\n",
    "    # summarize the model\n",
    "    model.summary()\n",
    "    \n",
    "    if plot:\n",
    "        plot_model(model, to_file='model.png', show_shapes=True)\n",
    "    return model"
   ]
  },
  {
   "cell_type": "code",
   "execution_count": 637,
   "metadata": {},
   "outputs": [
    {
     "name": "stdout",
     "output_type": "stream",
     "text": [
      "Model: \"sequential_3\"\n",
      "_________________________________________________________________\n",
      "Layer (type)                 Output Shape              Param #   \n",
      "=================================================================\n",
      "embedding_3 (Embedding)      (None, 128, 100)          3259500   \n",
      "_________________________________________________________________\n",
      "masking_3 (Masking)          (None, 128, 100)          0         \n",
      "_________________________________________________________________\n",
      "lstm_3 (LSTM)                (None, 128)               117248    \n",
      "_________________________________________________________________\n",
      "dense_6 (Dense)              (None, 16)                2064      \n",
      "_________________________________________________________________\n",
      "dense_7 (Dense)              (None, 31)                527       \n",
      "=================================================================\n",
      "Total params: 3,379,339\n",
      "Trainable params: 119,839\n",
      "Non-trainable params: 3,259,500\n",
      "_________________________________________________________________\n"
     ]
    },
    {
     "data": {
      "text/plain": [
       "<tensorflow.python.keras.engine.sequential.Sequential at 0x662cdc110>"
      ]
     },
     "execution_count": 637,
     "metadata": {},
     "output_type": "execute_result"
    }
   ],
   "source": [
    "model = make_lstm_classification_model()\n",
    "model"
   ]
  },
  {
   "cell_type": "code",
   "execution_count": 638,
   "metadata": {},
   "outputs": [
    {
     "name": "stdout",
     "output_type": "stream",
     "text": [
      "Epoch 1/10\n",
      "1504/1504 [==============================] - 287s 191ms/step - loss: 1.0872 - accuracy: 0.7209 - val_loss: 0.9131 - val_accuracy: 0.7678\n",
      "Epoch 2/10\n",
      "1504/1504 [==============================] - 291s 193ms/step - loss: 0.5617 - accuracy: 0.8551 - val_loss: 0.5412 - val_accuracy: 0.8554\n",
      "Epoch 3/10\n",
      "1504/1504 [==============================] - 326s 217ms/step - loss: 0.4547 - accuracy: 0.8810 - val_loss: 0.4976 - val_accuracy: 0.8697\n",
      "Epoch 4/10\n",
      "1504/1504 [==============================] - 280s 186ms/step - loss: 0.3969 - accuracy: 0.8961 - val_loss: 0.4526 - val_accuracy: 0.8859\n",
      "Epoch 5/10\n",
      "1504/1504 [==============================] - 298s 198ms/step - loss: 0.3588 - accuracy: 0.9071 - val_loss: 0.4238 - val_accuracy: 0.8839\n",
      "Epoch 6/10\n",
      "1504/1504 [==============================] - 308s 205ms/step - loss: 0.3287 - accuracy: 0.9150 - val_loss: 0.4265 - val_accuracy: 0.8910\n",
      "Epoch 7/10\n",
      "1504/1504 [==============================] - 273s 181ms/step - loss: 0.3103 - accuracy: 0.9193 - val_loss: 0.4043 - val_accuracy: 0.8961\n",
      "Epoch 8/10\n",
      "1504/1504 [==============================] - 204s 135ms/step - loss: 0.2952 - accuracy: 0.9233 - val_loss: 0.4122 - val_accuracy: 0.8921\n",
      "Epoch 9/10\n",
      "1504/1504 [==============================] - 196s 130ms/step - loss: 0.2863 - accuracy: 0.9248 - val_loss: 0.4402 - val_accuracy: 0.8859\n",
      "Epoch 10/10\n",
      "1504/1504 [==============================] - 202s 134ms/step - loss: 0.2784 - accuracy: 0.9275 - val_loss: 0.4111 - val_accuracy: 0.8961\n"
     ]
    }
   ],
   "source": [
    "results = model.fit(X_train, y_train,validation_split = 0.02, epochs=10, verbose=1)"
   ]
  },
  {
   "cell_type": "code",
   "execution_count": 639,
   "metadata": {},
   "outputs": [
    {
     "name": "stdout",
     "output_type": "stream",
     "text": [
      "384/384 [==============================] - 16s 41ms/step - loss: 0.4164 - accuracy: 0.8956\n",
      "Accuracy: 89.560753\n"
     ]
    }
   ],
   "source": [
    "# evaluate the model\n",
    "loss, accuracy = model.evaluate(X_test, y_test, verbose=1)\n",
    "print('Accuracy: %f' % (accuracy*100))"
   ]
  },
  {
   "cell_type": "code",
   "execution_count": null,
   "metadata": {},
   "outputs": [],
   "source": []
  },
  {
   "cell_type": "code",
   "execution_count": null,
   "metadata": {},
   "outputs": [],
   "source": []
  },
  {
   "cell_type": "code",
   "execution_count": 417,
   "metadata": {},
   "outputs": [
    {
     "data": {
      "text/html": [
       "<div>\n",
       "<style scoped>\n",
       "    .dataframe tbody tr th:only-of-type {\n",
       "        vertical-align: middle;\n",
       "    }\n",
       "\n",
       "    .dataframe tbody tr th {\n",
       "        vertical-align: top;\n",
       "    }\n",
       "\n",
       "    .dataframe thead th {\n",
       "        text-align: right;\n",
       "    }\n",
       "</style>\n",
       "<table border=\"1\" class=\"dataframe\">\n",
       "  <thead>\n",
       "    <tr style=\"text-align: right;\">\n",
       "      <th></th>\n",
       "      <th>brand</th>\n",
       "      <th>brand_category</th>\n",
       "      <th>name</th>\n",
       "      <th>details_description</th>\n",
       "    </tr>\n",
       "  </thead>\n",
       "  <tbody>\n",
       "    <tr>\n",
       "      <th>0</th>\n",
       "      <td>Two</td>\n",
       "      <td>unknown</td>\n",
       "      <td>khadi stripe shirt-our signature shirt</td>\n",
       "      <td>nanour signature khadi shirt\\navailable in bla...</td>\n",
       "    </tr>\n",
       "    <tr>\n",
       "      <th>1</th>\n",
       "      <td>Collina Strada</td>\n",
       "      <td>unknown</td>\n",
       "      <td>ruffle market dress loopy pink sistine tomato</td>\n",
       "      <td>nanmid-length dress with ruffles and adjustabl...</td>\n",
       "    </tr>\n",
       "  </tbody>\n",
       "</table>\n",
       "</div>"
      ],
      "text/plain": [
       "            brand brand_category  \\\n",
       "0             Two        unknown   \n",
       "1  Collina Strada        unknown   \n",
       "\n",
       "                                            name  \\\n",
       "0         khadi stripe shirt-our signature shirt   \n",
       "1  ruffle market dress loopy pink sistine tomato   \n",
       "\n",
       "                                 details_description  \n",
       "0  nanour signature khadi shirt\\navailable in bla...  \n",
       "1  nanmid-length dress with ruffles and adjustabl...  "
      ]
     },
     "execution_count": 417,
     "metadata": {},
     "output_type": "execute_result"
    }
   ],
   "source": [
    "behold_product['brand_category'] = [r.lower() for r in behold_product['brand_category']]\n",
    "behold_product['name'] = [str(r).lower() for r in behold_product['name']]\n",
    "behold_product['details_description'] = [str(r).lower() for r in behold_product['details_description']]\n",
    "behold_product.head(2)"
   ]
  },
  {
   "cell_type": "code",
   "execution_count": 468,
   "metadata": {},
   "outputs": [
    {
     "data": {
      "text/plain": [
       "'Unknown Our signature khadi shirt\\navailable in black and white\\nEasy to wear from beach to city. We promise this top will be your go-to warm\\nweather item. Perfect under a blazer. Hand loomed woven stripe in khadi cotton.\\n Slightly sheer and gets softer with every wash. Ships First week of April\\nCOLOR: WHITE OR BLACK\\n—  Length 27\"  and  Width  26.5\" —  One size fits most —  Grid khadi cotton'"
      ]
     },
     "execution_count": 468,
     "metadata": {},
     "output_type": "execute_result"
    }
   ],
   "source": [
    "behold_product['details_description'][0]"
   ]
  },
  {
   "cell_type": "code",
   "execution_count": 428,
   "metadata": {},
   "outputs": [
    {
     "data": {
      "text/plain": [
       "'nana feminine update to the maxi shirt dress, the adriana is cut from a breezy tile\\nprint cotton blend on navy ground. featuring a full button front and fold-over\\ncollar with tie waist. long sleeves taper into a slight balloon elasticated\\ncuff. a wide ruffle hem finishes off this chic ankle-grazing silhouette.\\nmade in the usa \\ndry clean\\n51% rayon 49% cotton\\nmodel measurements: height 5\\'9\", waist 24, bust 32, hips 34\\nmodel is wearing size xs'"
      ]
     },
     "execution_count": 428,
     "metadata": {},
     "output_type": "execute_result"
    }
   ],
   "source": [
    "behold_product['details_description'][40]"
   ]
  },
  {
   "cell_type": "code",
   "execution_count": 435,
   "metadata": {},
   "outputs": [
    {
     "data": {
      "text/plain": [
       "'handbags/handbags/tophandlessatchels,jewelryaccessories/accessories/walletscaseskeyrings/walletswristlets,handbags/handbags/walletscases2/walletswristlets,thebarneysedit19/womens1/handbags3,giftsjsholiday/valentinesdaygiftguide20/giftsforhervalentines/galentinesday,giftsjsholiday/valentinesdaygiftguide20/giftsforhervalentines/antiromantic'"
      ]
     },
     "execution_count": 435,
     "metadata": {},
     "output_type": "execute_result"
    }
   ],
   "source": [
    "d = {len(r):r for r in behold_product['brand_category']}\n",
    "d[340]"
   ]
  },
  {
   "cell_type": "code",
   "execution_count": null,
   "metadata": {},
   "outputs": [],
   "source": []
  },
  {
   "cell_type": "code",
   "execution_count": null,
   "metadata": {},
   "outputs": [],
   "source": []
  },
  {
   "cell_type": "code",
   "execution_count": null,
   "metadata": {},
   "outputs": [],
   "source": []
  },
  {
   "cell_type": "code",
   "execution_count": null,
   "metadata": {},
   "outputs": [],
   "source": []
  },
  {
   "cell_type": "code",
   "execution_count": null,
   "metadata": {},
   "outputs": [],
   "source": []
  },
  {
   "cell_type": "code",
   "execution_count": null,
   "metadata": {},
   "outputs": [],
   "source": []
  },
  {
   "cell_type": "code",
   "execution_count": null,
   "metadata": {},
   "outputs": [],
   "source": []
  },
  {
   "cell_type": "code",
   "execution_count": null,
   "metadata": {},
   "outputs": [],
   "source": []
  },
  {
   "cell_type": "code",
   "execution_count": null,
   "metadata": {},
   "outputs": [],
   "source": []
  },
  {
   "cell_type": "code",
   "execution_count": null,
   "metadata": {},
   "outputs": [],
   "source": []
  },
  {
   "cell_type": "code",
   "execution_count": null,
   "metadata": {},
   "outputs": [],
   "source": []
  },
  {
   "cell_type": "code",
   "execution_count": null,
   "metadata": {},
   "outputs": [],
   "source": []
  },
  {
   "cell_type": "code",
   "execution_count": 270,
   "metadata": {},
   "outputs": [],
   "source": [
    "# # drop brand category column\n",
    "# behold_product.drop(['brand_category'], inplace = True, axis = 1)\n",
    "\n",
    "# # fill missing description with details\n",
    "# missing_desc = behold_product.isna().sum()['description']\n",
    "# print(f'there are {missing_desc} missing for description column')\n",
    "# # ==================================================================================================\n",
    "# behold_product.loc[behold_product['description'].isna(),'description'] = behold_product.iloc[np.where(behold_product['description'].isna())[0],3]\n",
    "# missing_desc = behold_product.isna().sum()['description']\n",
    "# print(f'there are {missing_desc} missing for description column now.')\n",
    "\n",
    "# # continue to fill missing value based on name \n",
    "# d = {}\n",
    "# for i,v in enumerate(behold_product['name']):\n",
    "#     if v not in d and behold_product.iloc[i,6]==behold_product.iloc[i,6]:\n",
    "#         d[v]=behold_product.iloc[i,6]\n",
    "# # ==================================================================================================\n",
    "# for i,v in enumerate(behold_product['description']):\n",
    "#     if v!=v:\n",
    "#         try:\n",
    "#             behold_product.iloc[i,6] = d[behold_product.iloc[i,2]]\n",
    "#         except:None\n",
    "# # ==================================================================================================\n",
    "# missing_desc = behold_product.isna().sum()['description']\n",
    "# print(f'there are {missing_desc} missing for description column now.')\n",
    "\n",
    "# # continue fill missing value based on brand\n",
    "# d = {}\n",
    "# for i,v in enumerate(behold_product['brand']):\n",
    "#     if v not in d and behold_product.iloc[i,6]==behold_product.iloc[i,6]:\n",
    "#         d[v]=behold_product.iloc[i,6]\n",
    "# # ==================================================================================================\n",
    "# for i,v in enumerate(behold_product['description']):\n",
    "#     if v!=v:\n",
    "#         try:\n",
    "#             behold_product.iloc[i,6] = d[behold_product.iloc[i,1]]\n",
    "#         except:None\n",
    "# # ==================================================================================================\n",
    "# missing_desc = behold_product.isna().sum()['description']\n",
    "# print(f'there are {missing_desc} missing for description column now.')"
   ]
  },
  {
   "cell_type": "code",
   "execution_count": 334,
   "metadata": {},
   "outputs": [],
   "source": [
    "# drop brand_description column as it is a duplicated column\n",
    "behold_product.drop(['brand_description'], inplace = True, axis = 1)"
   ]
  },
  {
   "cell_type": "code",
   "execution_count": 335,
   "metadata": {},
   "outputs": [],
   "source": [
    "# drop brand_canonical_url column\n",
    "behold_product.drop(['brand_canonical_url'], inplace = True, axis = 1)"
   ]
  },
  {
   "cell_type": "code",
   "execution_count": 336,
   "metadata": {},
   "outputs": [],
   "source": [
    "# drop details column\n",
    "behold_product.drop(['details'], inplace = True, axis = 1)"
   ]
  },
  {
   "cell_type": "code",
   "execution_count": 337,
   "metadata": {},
   "outputs": [
    {
     "name": "stdout",
     "output_type": "stream",
     "text": [
      "<class 'pandas.core.frame.DataFrame'>\n",
      "RangeIndex: 61355 entries, 0 to 61354\n",
      "Data columns (total 9 columns):\n",
      " #   Column               Non-Null Count  Dtype \n",
      "---  ------               --------------  ----- \n",
      " 0   product_id           61355 non-null  object\n",
      " 1   brand                61355 non-null  object\n",
      " 2   brand_category       60896 non-null  object\n",
      " 3   name                 61354 non-null  object\n",
      " 4   created_at           61355 non-null  object\n",
      " 5   description          51238 non-null  object\n",
      " 6   brand_name           61354 non-null  object\n",
      " 7   product_active       61355 non-null  bool  \n",
      " 8   details_description  61355 non-null  object\n",
      "dtypes: bool(1), object(8)\n",
      "memory usage: 3.8+ MB\n"
     ]
    }
   ],
   "source": [
    "behold_product.info()"
   ]
  },
  {
   "cell_type": "code",
   "execution_count": 278,
   "metadata": {},
   "outputs": [],
   "source": [
    "# drop name and brand_name column\n",
    "behold_product.dropna(axis = 1, inplace = True)"
   ]
  },
  {
   "cell_type": "markdown",
   "metadata": {},
   "source": []
  },
  {
   "cell_type": "code",
   "execution_count": 284,
   "metadata": {},
   "outputs": [
    {
     "data": {
      "text/html": [
       "<div>\n",
       "<style scoped>\n",
       "    .dataframe tbody tr th:only-of-type {\n",
       "        vertical-align: middle;\n",
       "    }\n",
       "\n",
       "    .dataframe tbody tr th {\n",
       "        vertical-align: top;\n",
       "    }\n",
       "\n",
       "    .dataframe thead th {\n",
       "        text-align: right;\n",
       "    }\n",
       "</style>\n",
       "<table border=\"1\" class=\"dataframe\">\n",
       "  <thead>\n",
       "    <tr style=\"text-align: right;\">\n",
       "      <th></th>\n",
       "      <th>product_id</th>\n",
       "      <th>brand</th>\n",
       "      <th>created_at</th>\n",
       "      <th>description</th>\n",
       "      <th>product_active</th>\n",
       "    </tr>\n",
       "  </thead>\n",
       "  <tbody>\n",
       "    <tr>\n",
       "      <th>0</th>\n",
       "      <td>01EX0PN4J9WRNZH5F93YEX6QAF</td>\n",
       "      <td>Two</td>\n",
       "      <td>2021-01-27 01:17:19.305 UTC</td>\n",
       "      <td>Our signature khadi shirt\\navailable in black ...</td>\n",
       "      <td>True</td>\n",
       "    </tr>\n",
       "    <tr>\n",
       "      <th>1</th>\n",
       "      <td>01F0C4SKZV6YXS3265JMC39NXW</td>\n",
       "      <td>Collina Strada</td>\n",
       "      <td>2021-03-09 18:43:10.457 UTC</td>\n",
       "      <td>Mid-length dress with ruffles and adjustable s...</td>\n",
       "      <td>True</td>\n",
       "    </tr>\n",
       "    <tr>\n",
       "      <th>2</th>\n",
       "      <td>01EY4Y1BW8VZW51BWG5VZY82XW</td>\n",
       "      <td>Cariuma</td>\n",
       "      <td>2021-02-10 02:58:59.591 UTC</td>\n",
       "      <td>IBI Slip On Raw Red Knit Sneaker Women</td>\n",
       "      <td>False</td>\n",
       "    </tr>\n",
       "    <tr>\n",
       "      <th>3</th>\n",
       "      <td>01EY50E27A0P5V6KCW01XPDB43</td>\n",
       "      <td>Cariuma</td>\n",
       "      <td>2021-02-10 03:40:52.842 UTC</td>\n",
       "      <td>IBI Slip On Black Knit Sneaker Women</td>\n",
       "      <td>False</td>\n",
       "    </tr>\n",
       "    <tr>\n",
       "      <th>4</th>\n",
       "      <td>01EY6DWHC2W5HPNEGXKEJ4A1CX</td>\n",
       "      <td>Cariuma</td>\n",
       "      <td>2021-02-10 16:55:13.024 UTC</td>\n",
       "      <td>IBI Slip On Raw Red Knit Sneaker Women</td>\n",
       "      <td>False</td>\n",
       "    </tr>\n",
       "  </tbody>\n",
       "</table>\n",
       "</div>"
      ],
      "text/plain": [
       "                   product_id           brand                   created_at  \\\n",
       "0  01EX0PN4J9WRNZH5F93YEX6QAF             Two  2021-01-27 01:17:19.305 UTC   \n",
       "1  01F0C4SKZV6YXS3265JMC39NXW  Collina Strada  2021-03-09 18:43:10.457 UTC   \n",
       "2  01EY4Y1BW8VZW51BWG5VZY82XW         Cariuma  2021-02-10 02:58:59.591 UTC   \n",
       "3  01EY50E27A0P5V6KCW01XPDB43         Cariuma  2021-02-10 03:40:52.842 UTC   \n",
       "4  01EY6DWHC2W5HPNEGXKEJ4A1CX         Cariuma  2021-02-10 16:55:13.024 UTC   \n",
       "\n",
       "                                         description  product_active  \n",
       "0  Our signature khadi shirt\\navailable in black ...            True  \n",
       "1  Mid-length dress with ruffles and adjustable s...            True  \n",
       "2             IBI Slip On Raw Red Knit Sneaker Women           False  \n",
       "3               IBI Slip On Black Knit Sneaker Women           False  \n",
       "4             IBI Slip On Raw Red Knit Sneaker Women           False  "
      ]
     },
     "execution_count": 284,
     "metadata": {},
     "output_type": "execute_result"
    }
   ],
   "source": [
    "behold_product.head()"
   ]
  },
  {
   "cell_type": "code",
   "execution_count": null,
   "metadata": {},
   "outputs": [],
   "source": []
  },
  {
   "cell_type": "code",
   "execution_count": null,
   "metadata": {},
   "outputs": [],
   "source": []
  },
  {
   "cell_type": "code",
   "execution_count": null,
   "metadata": {},
   "outputs": [],
   "source": []
  },
  {
   "cell_type": "code",
   "execution_count": null,
   "metadata": {},
   "outputs": [],
   "source": []
  },
  {
   "cell_type": "code",
   "execution_count": null,
   "metadata": {},
   "outputs": [],
   "source": []
  }
 ],
 "metadata": {
  "kernelspec": {
   "display_name": "Python 3",
   "language": "python",
   "name": "python3"
  },
  "language_info": {
   "codemirror_mode": {
    "name": "ipython",
    "version": 3
   },
   "file_extension": ".py",
   "mimetype": "text/x-python",
   "name": "python",
   "nbconvert_exporter": "python",
   "pygments_lexer": "ipython3",
   "version": "3.7.6"
  }
 },
 "nbformat": 4,
 "nbformat_minor": 4
}
